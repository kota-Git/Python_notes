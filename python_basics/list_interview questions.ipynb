{
  "cells": [
    {
      "cell_type": "code",
      "execution_count": null,
      "id": "9b0dc0b4",
      "metadata": {
        "colab": {
          "base_uri": "https://localhost:8080/"
        },
        "id": "9b0dc0b4",
        "outputId": "ad0c4a96-e1e6-4966-ebda-faa651d98251"
      },
      "outputs": [
        {
          "name": "stdout",
          "output_type": "stream",
          "text": [
            "[1, 2, 34, 45, 56, 78, 9, 12, 22]\n"
          ]
        }
      ],
      "source": [
        "#1.Python program to interchange first and last elements in a list\n",
        "a=[1,2,34,45,56,78,9,12,22]\n",
        "print(a)"
      ]
    },
    {
      "cell_type": "code",
      "execution_count": null,
      "id": "1c25e0a6",
      "metadata": {
        "colab": {
          "base_uri": "https://localhost:8080/"
        },
        "id": "1c25e0a6",
        "outputId": "ee30395c-b300-4faf-ff36-3698ec9e47cd"
      },
      "outputs": [
        {
          "name": "stdout",
          "output_type": "stream",
          "text": [
            "[22, 2, 34, 45, 56, 78, 9, 12, 1]\n"
          ]
        }
      ],
      "source": [
        "\n",
        "#2.swapping 1st and last element on the list\n",
        "list1=[1, 2, 34, 45, 56, 78, 9, 12, 22]\n",
        "list1[0],list1[8]=list1[8],list1[0]\n",
        "print(list1)"
      ]
    },
    {
      "cell_type": "code",
      "execution_count": null,
      "id": "VWGUT5UU0tbS",
      "metadata": {
        "colab": {
          "base_uri": "https://localhost:8080/"
        },
        "id": "VWGUT5UU0tbS",
        "outputId": "61421364-9903-4951-b31d-60f35b81d8e4"
      },
      "outputs": [
        {
          "name": "stdout",
          "output_type": "stream",
          "text": [
            "[1, 56, 34, 45, 2, 78, 9, 12, 22]\n"
          ]
        }
      ],
      "source": [
        "#3.Python Program to Swap Two Elements in a List\n",
        "list1=[1, 2, 34, 45, 56, 78, 9, 12, 22]\n",
        "list1[1],list1[4]=list1[4],list1[1]\n",
        "print(list1)"
      ]
    },
    {
      "cell_type": "code",
      "execution_count": null,
      "id": "501c7bf2",
      "metadata": {
        "colab": {
          "base_uri": "https://localhost:8080/"
        },
        "id": "501c7bf2",
        "outputId": "d9762448-4378-44e6-a102-e2ec0da32af2"
      },
      "outputs": [
        {
          "name": "stdout",
          "output_type": "stream",
          "text": [
            "[1, 2, 34, 45, 56, 78, 9, 12, 22]\n",
            "Swapped list:  [45, 2, 34, 1, 56, 78, 9, 12, 22]\n"
          ]
        }
      ],
      "source": [
        "#Python Program to Swap Two Elements in a List another way\n",
        "def swapList(sl,pos1,pos2):\n",
        "    n = len(sl)\n",
        "    # Swapping\n",
        "    temp = sl[pos1]\n",
        "    sl[pos1] = sl[pos2]\n",
        "    sl[pos2] = temp\n",
        "    return sl\n",
        "\n",
        "a=[1, 2, 34, 45, 56, 78, 9, 12, 22]\n",
        "\n",
        "pos1= 1\n",
        "pos2= 4\n",
        "\n",
        "print(a)\n",
        "print(\"Swapped list: \",swapList(a,pos1-1,pos2-1))"
      ]
    },
    {
      "cell_type": "code",
      "execution_count": null,
      "id": "c53414ad",
      "metadata": {
        "colab": {
          "base_uri": "https://localhost:8080/"
        },
        "id": "c53414ad",
        "outputId": "0ebb3fc3-1480-43bc-a73c-e86dc9bec0eb"
      },
      "outputs": [
        {
          "name": "stdout",
          "output_type": "stream",
          "text": [
            "['sowmya', 'navya', 'sneha', 'kavitha']\n"
          ]
        }
      ],
      "source": [
        "#4.swapping elements on the list\n",
        "b=['sowmya','navya','sneha','kavitha']\n",
        "print(b)"
      ]
    },
    {
      "cell_type": "code",
      "execution_count": null,
      "id": "f0e2ed49",
      "metadata": {
        "colab": {
          "base_uri": "https://localhost:8080/"
        },
        "id": "f0e2ed49",
        "outputId": "666b2fc3-b63a-4ef2-f272-56b556c6b6fc"
      },
      "outputs": [
        {
          "name": "stdout",
          "output_type": "stream",
          "text": [
            "Before Swap : ['sowmya', 'navya', 'sneha', 'kavitha']\n",
            "After Swap :  ['software', 'engineer', 'data', 'science']\n"
          ]
        }
      ],
      "source": [
        "b=['sowmya','navya','sneha','kavitha']\n",
        "\n",
        "print(\"Before Swap :\",b)\n",
        "\n",
        "res = [sub.replace(\"sowmya\",\"software\").replace(\"navya\", \"engineer\").replace(\"sneha\", \"data\").replace(\"kavitha\", \"science\") for sub in b]\n",
        "\n",
        "print (\"After Swap : \",res)"
      ]
    },
    {
      "cell_type": "code",
      "execution_count": null,
      "id": "a1b9b91b",
      "metadata": {
        "colab": {
          "base_uri": "https://localhost:8080/"
        },
        "id": "a1b9b91b",
        "outputId": "f698c8af-cebf-4b23-d972-4a65f318663c"
      },
      "outputs": [
        {
          "name": "stdout",
          "output_type": "stream",
          "text": [
            "['sowmya', 'navya', 'sneha', 'kavitha']\n",
            "4\n"
          ]
        }
      ],
      "source": [
        "#5.How To Find the Length of a List in Python\n",
        "print(b)\n",
        "print(len(b))"
      ]
    },
    {
      "cell_type": "code",
      "execution_count": null,
      "id": "d4e1f2a0",
      "metadata": {
        "colab": {
          "base_uri": "https://localhost:8080/"
        },
        "id": "d4e1f2a0",
        "outputId": "5f4b4772-a3dd-48da-b2ee-e43c56c74a8d"
      },
      "outputs": [
        {
          "name": "stdout",
          "output_type": "stream",
          "text": [
            "20\n"
          ]
        }
      ],
      "source": [
        "#6Find Maximum of two numbers in Python\n",
        "m=10\n",
        "p=20\n",
        "maximum=max(m,p)\n",
        "print(maximum)"
      ]
    },
    {
      "cell_type": "code",
      "execution_count": null,
      "id": "5b3a254b",
      "metadata": {
        "colab": {
          "base_uri": "https://localhost:8080/"
        },
        "id": "5b3a254b",
        "outputId": "aac3bc56-10cb-4c78-864e-e5bd48a4a0d9"
      },
      "outputs": [
        {
          "name": "stdout",
          "output_type": "stream",
          "text": [
            "10\n"
          ]
        }
      ],
      "source": [
        "#7.Minimum of two numbers in Python\n",
        "minimum=min(m,p)\n",
        "print(minimum)"
      ]
    },
    {
      "cell_type": "code",
      "execution_count": null,
      "id": "3cd0341a",
      "metadata": {
        "colab": {
          "base_uri": "https://localhost:8080/"
        },
        "id": "3cd0341a",
        "outputId": "c10bb1ca-f452-4f2e-d8a4-3f39826102f2"
      },
      "outputs": [
        {
          "name": "stdout",
          "output_type": "stream",
          "text": [
            "[45, 2, 34, 1, 56, 78, 9, 12, 22]\n"
          ]
        }
      ],
      "source": [
        "#8.Check if element exists in list in Python\n",
        "print(a)"
      ]
    },
    {
      "cell_type": "code",
      "execution_count": null,
      "id": "1f6c5769",
      "metadata": {
        "colab": {
          "base_uri": "https://localhost:8080/"
        },
        "id": "1f6c5769",
        "outputId": "13e45660-1e0f-4aaa-f12a-20949913063c"
      },
      "outputs": [
        {
          "name": "stdout",
          "output_type": "stream",
          "text": [
            "the element is there\n"
          ]
        }
      ],
      "source": [
        "if 34 in a:\n",
        "    print(\"the element is there\")\n",
        "else:\n",
        "    print(\"element is not there\")"
      ]
    },
    {
      "cell_type": "code",
      "execution_count": null,
      "id": "76e27971",
      "metadata": {
        "colab": {
          "base_uri": "https://localhost:8080/"
        },
        "id": "76e27971",
        "outputId": "089e0b37-72eb-4e0b-8d20-fedce372cca8"
      },
      "outputs": [
        {
          "name": "stdout",
          "output_type": "stream",
          "text": [
            "before clearing a list [1, 2, 34, 45, 56, 78, 9, 12, 22]\n",
            "after clearing of list []\n"
          ]
        }
      ],
      "source": [
        "#9.Different ways to clear a list in Python\n",
        "a=[1,2,34,45,56,78,9,12,22]\n",
        "print(\"before clearing a list\",a)\n",
        "a.clear()\n",
        "print(\"after clearing of list\",a)"
      ]
    },
    {
      "cell_type": "code",
      "execution_count": null,
      "id": "68fdff08",
      "metadata": {
        "colab": {
          "base_uri": "https://localhost:8080/"
        },
        "id": "68fdff08",
        "outputId": "4962349a-ac6b-409c-e6dc-c2243d9ac6b2"
      },
      "outputs": [
        {
          "name": "stdout",
          "output_type": "stream",
          "text": [
            "before clearing a list [1, 2, 3, 4, 5]\n",
            "after clearing a list []\n"
          ]
        }
      ],
      "source": [
        "\n",
        "#2nd way\n",
        "l1=[1,2,3,4,5]\n",
        "print(\"before clearing a list\",l1)\n",
        "l1=[]\n",
        "print(\"after clearing a list\",l1)"
      ]
    },
    {
      "cell_type": "code",
      "execution_count": null,
      "id": "8f36fe96",
      "metadata": {
        "colab": {
          "base_uri": "https://localhost:8080/"
        },
        "id": "8f36fe96",
        "outputId": "e744c6ef-5d99-4236-9c6d-8b0479f8068c"
      },
      "outputs": [
        {
          "name": "stdout",
          "output_type": "stream",
          "text": [
            "before clearing a list [1, 2, 3, 4, 5]\n",
            "after clearing a list []\n"
          ]
        }
      ],
      "source": [
        "#3rd way\n",
        "\n",
        "c=[1,2,3,4,5]\n",
        "print(\"before clearing a list\",c)\n",
        "c*=0\n",
        "print(\"after clearing a list\",c)"
      ]
    },
    {
      "cell_type": "code",
      "execution_count": null,
      "id": "c3d6f24f",
      "metadata": {
        "colab": {
          "base_uri": "https://localhost:8080/"
        },
        "id": "c3d6f24f",
        "outputId": "29c4d332-c297-433f-b097-547b8fe84047"
      },
      "outputs": [
        {
          "name": "stdout",
          "output_type": "stream",
          "text": [
            "before clearing a list [1, 2, 4, 5, 6]\n",
            "after clearing a list []\n"
          ]
        }
      ],
      "source": [
        "\n",
        "#4th way\n",
        "d=[1,2,4,5,6]\n",
        "print(\"before clearing a list\",d)\n",
        "del d[:]\n",
        "print(\"after clearing a list\",d)"
      ]
    },
    {
      "cell_type": "code",
      "execution_count": null,
      "id": "9984d9a7",
      "metadata": {
        "colab": {
          "base_uri": "https://localhost:8080/"
        },
        "id": "9984d9a7",
        "outputId": "6f0beffa-56ce-487f-93fe-e03e42adb948"
      },
      "outputs": [
        {
          "name": "stdout",
          "output_type": "stream",
          "text": [
            "before clearing a list [1, 2, 4, 5, 6]\n",
            "after clearing a list []\n"
          ]
        }
      ],
      "source": [
        "#5th way\n",
        "\n",
        "e=[1,2,4,5,6]\n",
        "print(\"before clearing a list\",e)\n",
        "\n",
        "e = e[:0]\n",
        "print(\"after clearing a list\",e)"
      ]
    },
    {
      "cell_type": "code",
      "execution_count": null,
      "id": "922c3a26",
      "metadata": {
        "colab": {
          "base_uri": "https://localhost:8080/"
        },
        "id": "922c3a26",
        "outputId": "952fb56d-0544-4dbe-a214-578cfcc565e7"
      },
      "outputs": [
        {
          "name": "stdout",
          "output_type": "stream",
          "text": [
            "[90, 89, 78, 67, 56, 34, 2, 1]\n"
          ]
        }
      ],
      "source": [
        "#10.Reversing a List in Python\n",
        "a=[1,2,34,56,67,78,89,90]\n",
        "print(a[::-1])"
      ]
    },
    {
      "cell_type": "code",
      "execution_count": null,
      "id": "6bf662e8",
      "metadata": {
        "colab": {
          "base_uri": "https://localhost:8080/"
        },
        "id": "6bf662e8",
        "outputId": "5878ec69-eda5-4af1-9626-c2e602df3d8c"
      },
      "outputs": [
        {
          "name": "stdout",
          "output_type": "stream",
          "text": [
            "[1, 2, 34, 56, 67, 78, 89, 90]\n"
          ]
        }
      ],
      "source": [
        "print(a)"
      ]
    },
    {
      "cell_type": "code",
      "execution_count": null,
      "id": "a92e855f",
      "metadata": {
        "colab": {
          "base_uri": "https://localhost:8080/"
        },
        "id": "a92e855f",
        "outputId": "a5732f4c-0955-4d8f-b102-7ad6e78a1062"
      },
      "outputs": [
        {
          "name": "stdout",
          "output_type": "stream",
          "text": [
            "original list  [15, 14, 13, 12, 11, 10]\n",
            "reversed list  [10, 11, 12, 13, 14, 15]\n"
          ]
        }
      ],
      "source": [
        "#2nd way\n",
        "a = [10, 11, 12, 13, 14, 15]\n",
        "a.reverse()\n",
        "print(\"original list \", a)\n",
        "\n",
        "print(\"reversed list \", list(reversed(a)))\n"
      ]
    },
    {
      "cell_type": "code",
      "execution_count": null,
      "id": "4f81076e",
      "metadata": {
        "colab": {
          "base_uri": "https://localhost:8080/"
        },
        "id": "4f81076e",
        "outputId": "87e2642d-8114-45ea-b3d2-b301dc99a3d1"
      },
      "outputs": [
        {
          "name": "stdout",
          "output_type": "stream",
          "text": [
            "Original List: [4, 8, 2, 10, 15, 18]\n",
            "After Cloning: [4, 8, 2, 10, 15, 18]\n"
          ]
        }
      ],
      "source": [
        "#11.Python | Cloning or Copying a list\n",
        "def Cloning(li1):\n",
        "    li_1 = li1[:]\n",
        "    return li_1\n",
        "\n",
        "li1 = [4, 8, 2, 10, 15, 18]\n",
        "li2 = Cloning(li1)\n",
        "print(\"Original List:\", li1)\n",
        "print(\"After Cloning:\", li2)\n"
      ]
    },
    {
      "cell_type": "code",
      "execution_count": null,
      "id": "a9e232ca",
      "metadata": {
        "colab": {
          "base_uri": "https://localhost:8080/"
        },
        "id": "a9e232ca",
        "outputId": "c7096e31-fc39-456d-859f-3f8078b3d31f"
      },
      "outputs": [
        {
          "name": "stdout",
          "output_type": "stream",
          "text": [
            "Original List: [4, 8, 2, 10, 15, 18]\n",
            "After Cloning: [4, 8, 2, 10, 15, 18]\n"
          ]
        }
      ],
      "source": [
        "#another way\n",
        "def Cloning(li1):\n",
        "    li_a = []\n",
        "    li_a.extend(li1)\n",
        "    return li_a\n",
        "\n",
        "li1 = [4, 8, 2, 10, 15, 18]\n",
        "li2 = Cloning(li1)\n",
        "print(\"Original List:\", li1)\n",
        "print(\"After Cloning:\", li2)\n"
      ]
    },
    {
      "cell_type": "code",
      "execution_count": null,
      "id": "3b6ae5ff",
      "metadata": {
        "colab": {
          "base_uri": "https://localhost:8080/"
        },
        "id": "3b6ae5ff",
        "outputId": "6a6d5278-aaf8-451f-eade-e6a5614af4c0"
      },
      "outputs": [
        {
          "name": "stdout",
          "output_type": "stream",
          "text": [
            "2\n",
            "2\n",
            "2\n"
          ]
        }
      ],
      "source": [
        "#12.Python | Count occurrences of an element in a list\n",
        "a=[1,2,3,4,5,4,3,2,1,5]\n",
        "print(a.count(1))\n",
        "print(a.count(2))\n",
        "print(a.count(5))"
      ]
    },
    {
      "cell_type": "code",
      "execution_count": null,
      "id": "5b33741f",
      "metadata": {
        "colab": {
          "base_uri": "https://localhost:8080/"
        },
        "id": "5b33741f",
        "outputId": "a6fb8061-7c1a-4fa6-a967-46c63d31c18c"
      },
      "outputs": [
        {
          "name": "stdout",
          "output_type": "stream",
          "text": [
            "[1, 2, 3, 4, 5, 4, 3, 2, 1, 5]\n",
            "sum is:  30\n",
            "average is:  3.0\n"
          ]
        }
      ],
      "source": [
        "#13.Find sum and average of List in Python\n",
        "print(a)\n",
        "print(\"sum is: \",sum(a))\n",
        "average=sum(a)/len(a)\n",
        "print(\"average is: \",average)"
      ]
    },
    {
      "cell_type": "code",
      "execution_count": null,
      "id": "6a89fe8d",
      "metadata": {
        "colab": {
          "base_uri": "https://localhost:8080/"
        },
        "id": "6a89fe8d",
        "outputId": "1a975bd4-5b79-4329-834f-87f587d1b244"
      },
      "outputs": [
        {
          "name": "stdout",
          "output_type": "stream",
          "text": [
            "the list before sum of digits is:  [11, 22, 34, 56, 78]\n",
            "sum of number of digits in the list is:  [2, 4, 7, 11, 15]\n"
          ]
        }
      ],
      "source": [
        "#14.Python | Sum of number digits in List\n",
        "b=[11,22,34,56,78]\n",
        "print(\"the list before sum of digits is: \",b)\n",
        "res=[]\n",
        "for ele in b:\n",
        "    sum=0\n",
        "    for digit in str(ele):\n",
        "        sum+=int(digit)\n",
        "    res.append(sum)\n",
        "print(\"sum of number of digits in the list is: \",res)"
      ]
    },
    {
      "cell_type": "code",
      "execution_count": null,
      "id": "e932de1d",
      "metadata": {
        "colab": {
          "base_uri": "https://localhost:8080/"
        },
        "id": "e932de1d",
        "outputId": "2181d82d-50ab-44e4-f4f3-c43d78f45146"
      },
      "outputs": [
        {
          "name": "stdout",
          "output_type": "stream",
          "text": [
            "30\n",
            "96\n"
          ]
        }
      ],
      "source": [
        "#15.Python | Multiply all numbers in the list\n",
        "# Python program to multiply all values in the\n",
        "# list using traversal\n",
        "\n",
        "\n",
        "def multiplyList(myList):\n",
        "    result = 1\n",
        "    for x in myList:\n",
        "        result = result * x\n",
        "    return result\n",
        "\n",
        "list1 = [5, 2, 3]\n",
        "list2 = [3, 8, 4]\n",
        "print(multiplyList(list1))\n",
        "print(multiplyList(list2))\n"
      ]
    },
    {
      "cell_type": "code",
      "execution_count": null,
      "id": "8e7e54af",
      "metadata": {
        "colab": {
          "base_uri": "https://localhost:8080/"
        },
        "id": "8e7e54af",
        "outputId": "19437c0b-c90c-4f35-804d-211a1f9da4bc"
      },
      "outputs": [
        {
          "name": "stdout",
          "output_type": "stream",
          "text": [
            "[1, 2, 3, 4, 5, 4, 3, 2, 1, 5]\n",
            "minimum element in the list is:  1\n"
          ]
        }
      ],
      "source": [
        "#16.Python program to find smallest number in a list\n",
        "print(a)\n",
        "print(\"minimum element in the list is: \",min(a))"
      ]
    },
    {
      "cell_type": "code",
      "execution_count": null,
      "id": "f5fe9bf0",
      "metadata": {
        "colab": {
          "base_uri": "https://localhost:8080/"
        },
        "id": "f5fe9bf0",
        "outputId": "3ebaa204-8500-4019-fa6c-11a6855a3800"
      },
      "outputs": [
        {
          "name": "stdout",
          "output_type": "stream",
          "text": [
            "[1, 2, 3, 4, 5, 4, 3, 2, 1, 5]\n",
            "maximum element in the list is:  5\n"
          ]
        }
      ],
      "source": [
        "#17.Python Program to Find Largest Number in a List\n",
        "print(a)\n",
        "print(\"maximum element in the list is: \",max(a))"
      ]
    },
    {
      "cell_type": "code",
      "execution_count": null,
      "id": "75cba255",
      "metadata": {
        "colab": {
          "base_uri": "https://localhost:8080/"
        },
        "id": "75cba255",
        "outputId": "4c3c58ca-0de8-477b-9740-86d39043797b"
      },
      "outputs": [
        {
          "name": "stdout",
          "output_type": "stream",
          "text": [
            "second largest element is:  78\n"
          ]
        }
      ],
      "source": [
        "#18.Python program to find second largest number in a list\n",
        "l1=[1,23,34,45,67,78,99]\n",
        "l1.sort()\n",
        "element=l1[-2]\n",
        "print(\"second largest element is: \", element)"
      ]
    },
    {
      "cell_type": "code",
      "execution_count": null,
      "id": "57c5f690",
      "metadata": {
        "colab": {
          "base_uri": "https://localhost:8080/"
        },
        "id": "57c5f690",
        "outputId": "08cbfbaa-bfce-4407-97dd-36f5c17f923e"
      },
      "outputs": [
        {
          "name": "stdout",
          "output_type": "stream",
          "text": [
            "34,46,58,98,"
          ]
        }
      ],
      "source": [
        "#19.Python program to print even numbers in a list\n",
        "a = [11,23,34,46,58,98]\n",
        "\n",
        "for num in a:\n",
        "    if num % 2 == 0:\n",
        "        print(num, end=\",\")\n"
      ]
    },
    {
      "cell_type": "code",
      "execution_count": null,
      "id": "e884463d",
      "metadata": {
        "colab": {
          "base_uri": "https://localhost:8080/"
        },
        "id": "e884463d",
        "outputId": "6f9a03d2-48c7-4dda-b5ea-84e81026c5b2"
      },
      "outputs": [
        {
          "name": "stdout",
          "output_type": "stream",
          "text": [
            "11,23,"
          ]
        }
      ],
      "source": [
        "#20.Python program to print odd numbers in a List\n",
        "a = [11,23,34,46,58,98]\n",
        "\n",
        "for num in a:\n",
        "    if num % 2 != 0:\n",
        "        print(num, end=\",\")\n"
      ]
    },
    {
      "cell_type": "code",
      "execution_count": null,
      "id": "4514dd09",
      "metadata": {
        "colab": {
          "base_uri": "https://localhost:8080/"
        },
        "id": "4514dd09",
        "outputId": "9dcb0487-94d0-4d66-ec6d-7efc47d21fa0"
      },
      "outputs": [
        {
          "name": "stdout",
          "output_type": "stream",
          "text": [
            "14 16 18 20 22 24 26 28 "
          ]
        }
      ],
      "source": [
        "#21.Python program to print all even numbers in a range\n",
        "for even_numbers in range(14,30,2):\n",
        "    print(even_numbers,end=' ')\n"
      ]
    },
    {
      "cell_type": "code",
      "execution_count": null,
      "id": "c8aad236",
      "metadata": {
        "colab": {
          "base_uri": "https://localhost:8080/"
        },
        "id": "c8aad236",
        "outputId": "57d27900-1c31-43c4-9555-ce9f6e8aee90"
      },
      "outputs": [
        {
          "name": "stdout",
          "output_type": "stream",
          "text": [
            "4 6 8 10 12 14 "
          ]
        }
      ],
      "source": [
        "#another way\n",
        "def even(num1,num2):\n",
        "    if num1>num2:\n",
        "        return\n",
        "    print(num1,end=\" \")\n",
        "    return even(num1+2,num2)\n",
        "num1=4;num2=15\n",
        "even(num1,num2)\n"
      ]
    },
    {
      "cell_type": "code",
      "execution_count": null,
      "id": "669c0330",
      "metadata": {
        "colab": {
          "base_uri": "https://localhost:8080/"
        },
        "id": "669c0330",
        "outputId": "ce5f0d30-b220-424a-f9b0-3537d1026a81"
      },
      "outputs": [
        {
          "name": "stdout",
          "output_type": "stream",
          "text": [
            "15 17 19 21 23 25 27 29 "
          ]
        }
      ],
      "source": [
        "#22.Python program to print all odd numbers in a range\n",
        "for odd_numbers in range(15,31,2):\n",
        "    print(odd_numbers,end=' ')\n"
      ]
    },
    {
      "cell_type": "code",
      "execution_count": null,
      "id": "317b85b0",
      "metadata": {
        "colab": {
          "base_uri": "https://localhost:8080/"
        },
        "id": "317b85b0",
        "outputId": "cc3c332a-8a58-4908-91c2-9726e5791b00"
      },
      "outputs": [
        {
          "name": "stdout",
          "output_type": "stream",
          "text": [
            "5 7 9 11 13 15 17 19 "
          ]
        }
      ],
      "source": [
        "# Python program to print odd Numbers in given range(another way)\n",
        "\n",
        "start=4\n",
        "end = 19\n",
        "\n",
        "for num in range(start, end + 1):\n",
        "    if num % 2 != 0:\n",
        "        print(num, end = \" \")\n"
      ]
    },
    {
      "cell_type": "code",
      "execution_count": null,
      "id": "d21c24f4",
      "metadata": {
        "colab": {
          "base_uri": "https://localhost:8080/"
        },
        "id": "d21c24f4",
        "outputId": "d206de60-4266-44c5-f783-e16b550fcdab"
      },
      "outputs": [
        {
          "name": "stdout",
          "output_type": "stream",
          "text": [
            "count of even numbers are: 4\n",
            "count of odd numbers are:  5\n"
          ]
        }
      ],
      "source": [
        "#23.Python program to count Even and Odd numbers in a List\n",
        "a=[1,23,34,45,56,67,78,90,87]\n",
        "even=0\n",
        "odd=0\n",
        "for i in a:\n",
        "    if(i%2==0):\n",
        "        even=even+1\n",
        "    else:\n",
        "        odd=odd+1\n",
        "print(\"count of even numbers are:\", even)\n",
        "print(\"count of odd numbers are: \",odd)"
      ]
    },
    {
      "cell_type": "code",
      "execution_count": null,
      "id": "171e8c08",
      "metadata": {
        "colab": {
          "base_uri": "https://localhost:8080/"
        },
        "id": "171e8c08",
        "outputId": "59ea79e1-e844-47f7-ec00-f3d86553c47d"
      },
      "outputs": [
        {
          "name": "stdout",
          "output_type": "stream",
          "text": [
            "original list is:  [1, 2, 3, 4, 5, -6, -5, -4, -3, -2, -1]\n",
            "positive numbers are: 1\n",
            "positive numbers are: 2\n",
            "positive numbers are: 3\n",
            "positive numbers are: 4\n",
            "positive numbers are: 5\n"
          ]
        }
      ],
      "source": [
        "#24.Python program to print positive numbers in a list\n",
        "a=[1,2,3,4,5,-6,-5,-4,-3,-2,-1]\n",
        "print(\"original list is: \",a)\n",
        "pos=0\n",
        "neg=0\n",
        "for i in a:\n",
        "  if (i>0):\n",
        "    pos=pos+1\n",
        "    print(\"positive numbers are:\",i)\n"
      ]
    },
    {
      "cell_type": "code",
      "execution_count": null,
      "id": "c2a8a74d",
      "metadata": {
        "colab": {
          "base_uri": "https://localhost:8080/"
        },
        "id": "c2a8a74d",
        "outputId": "9fbe5e9d-ce1f-49d5-ddbd-75f77af18e25"
      },
      "outputs": [
        {
          "name": "stdout",
          "output_type": "stream",
          "text": [
            "original list is:  [1, 2, 3, 4, 5, -6, -5, -4, -3, -2, -1]\n",
            "positive numbers are: -6\n",
            "positive numbers are: -5\n",
            "positive numbers are: -4\n",
            "positive numbers are: -3\n",
            "positive numbers are: -2\n",
            "positive numbers are: -1\n"
          ]
        }
      ],
      "source": [
        "#25.Python program to print negative numbers in a list\n",
        "#24.Python program to print positive numbers in a list\n",
        "a=[1,2,3,4,5,-6,-5,-4,-3,-2,-1]\n",
        "print(\"original list is: \",a)\n",
        "\n",
        "neg=0\n",
        "for i in a:\n",
        "  if (i<0):\n",
        "    neg=neg+1\n",
        "    print(\"positive numbers are:\",i)\n"
      ]
    },
    {
      "cell_type": "code",
      "execution_count": null,
      "id": "444f03d7",
      "metadata": {
        "colab": {
          "base_uri": "https://localhost:8080/"
        },
        "id": "444f03d7",
        "outputId": "124d7290-b501-4f06-c9fc-da4c0cbe629c"
      },
      "outputs": [
        {
          "name": "stdout",
          "output_type": "stream",
          "text": [
            "1,2,3,4,5,"
          ]
        }
      ],
      "source": [
        "#26.Python program to print all positive numbers in a range\n",
        "li=[1,2,3,4,5,-9,-8,-6,-5,-4]\n",
        "for i in li:\n",
        "    if i>=0:\n",
        "        print(i,end=',')\n"
      ]
    },
    {
      "cell_type": "code",
      "execution_count": null,
      "id": "654df21e",
      "metadata": {
        "colab": {
          "base_uri": "https://localhost:8080/"
        },
        "id": "654df21e",
        "outputId": "8e178946-720f-46ed-b917-f31573372ef1"
      },
      "outputs": [
        {
          "name": "stdout",
          "output_type": "stream",
          "text": [
            "-9,-8,-6,-5,-4,"
          ]
        }
      ],
      "source": [
        "#27.Python program to print all negative numbers in a range\n",
        "li=[1,2,3,4,5,-9,-8,-6,-5,-4]\n",
        "for i in li:\n",
        "    if i<=0:\n",
        "        print(i,end=',')\n"
      ]
    },
    {
      "cell_type": "code",
      "execution_count": null,
      "id": "40887d14",
      "metadata": {
        "colab": {
          "base_uri": "https://localhost:8080/"
        },
        "id": "40887d14",
        "outputId": "e4502cc0-855a-4f07-defe-0408a72b6934"
      },
      "outputs": [
        {
          "name": "stdout",
          "output_type": "stream",
          "text": [
            "count of positive numbers are: 5\n",
            "count of negative numbers are:  6\n"
          ]
        }
      ],
      "source": [
        "#28.Python program to count positive and negative numbers in a list\n",
        "li=[1,2,3,4,5,-9,-8,-6,-5,-4]\n",
        "\n",
        "pos=0\n",
        "neg=0\n",
        "for i in a:\n",
        "    if(i>=0):\n",
        "        pos=pos+1\n",
        "    if(i<=0):\n",
        "        neg=neg+1\n",
        "print(\"count of positive numbers are:\", pos)\n",
        "print(\"count of negative numbers are: \",neg)"
      ]
    },
    {
      "cell_type": "code",
      "execution_count": null,
      "id": "f72ba6ab",
      "metadata": {
        "colab": {
          "base_uri": "https://localhost:8080/"
        },
        "id": "f72ba6ab",
        "outputId": "4abb9d87-6b25-43af-b309-b4816ee15a48"
      },
      "outputs": [
        {
          "name": "stdout",
          "output_type": "stream",
          "text": [
            "orginal list is: \n",
            " ['sowmya', 'pranavi', 'swetha', 'kavitha', 'ammu']\n",
            "updated list is: \n",
            " ['sowmya', 'pranavi', 'ammu']\n"
          ]
        }
      ],
      "source": [
        "#29.Remove multiple elements from a list in Python\n",
        "a=['sowmya','pranavi','swetha','kavitha','ammu']\n",
        "print(\"orginal list is: \\n\",a)\n",
        "del a[2:4]\n",
        "print(\"updated list is: \\n\", a)"
      ]
    },
    {
      "cell_type": "code",
      "execution_count": null,
      "id": "048b6814",
      "metadata": {
        "colab": {
          "base_uri": "https://localhost:8080/"
        },
        "id": "048b6814",
        "outputId": "4a30d7f7-f052-4899-a9aa-800c9bef6218"
      },
      "outputs": [
        {
          "name": "stdout",
          "output_type": "stream",
          "text": [
            "[(1, 2, 3), (4, 5), (6, 7, 8)]\n"
          ]
        }
      ],
      "source": [
        "#30.Python | Remove empty tuples from a list\n",
        "lis=[(1,2,3),(4,5),(),(6,7,8)]\n",
        "for t in lis:\n",
        "    if(len(t)==0):\n",
        "        lis.remove(t)\n",
        "print(lis)"
      ]
    },
    {
      "cell_type": "code",
      "execution_count": null,
      "id": "86710c07",
      "metadata": {
        "colab": {
          "base_uri": "https://localhost:8080/"
        },
        "id": "86710c07",
        "outputId": "eab5b164-9243-4d86-bb09-68054ee6e043"
      },
      "outputs": [
        {
          "name": "stdout",
          "output_type": "stream",
          "text": [
            "List =  [5, 10, 15, 18, 20, 25, 30, 30, 40, 50, 50, 50]\n",
            "Duplicate Elements =  [30, 50]\n"
          ]
        }
      ],
      "source": [
        "#31.Python | Program to print duplicates from a list of integers\n",
        "myList = [5, 10, 15, 18, 20, 25, 30, 30, 40, 50, 50, 50]\n",
        "dupItems = []\n",
        "uniqItems = {}\n",
        "print(\"List = \",myList)\n",
        "\n",
        "for x in myList:\n",
        "    if x not in uniqItems:\n",
        "        uniqItems[x] = 1\n",
        "    else:\n",
        "        if uniqItems[x] == 1:\n",
        "            dupItems.append(x)\n",
        "        uniqItems[x] += 1\n",
        "print(\"Duplicate Elements = \",dupItems)"
      ]
    },
    {
      "cell_type": "code",
      "execution_count": null,
      "id": "0a232752",
      "metadata": {
        "colab": {
          "base_uri": "https://localhost:8080/"
        },
        "id": "0a232752",
        "outputId": "f74ca24d-68d7-42d8-8504-4b8447c7e571"
      },
      "outputs": [
        {
          "name": "stdout",
          "output_type": "stream",
          "text": [
            "[[1, 2, 3], [4, 5], [6, 7, 8]]\n"
          ]
        }
      ],
      "source": [
        "#32.Python – Remove empty List from List\n",
        "lis=[[1,2,3],[4,5],[],[6,7,8]]\n",
        "for t in lis:\n",
        "    if(len(t)==0):\n",
        "        lis.remove(t)\n",
        "print(lis)"
      ]
    },
    {
      "cell_type": "code",
      "execution_count": null,
      "id": "1JQurGThQWLm",
      "metadata": {
        "id": "1JQurGThQWLm"
      },
      "outputs": [],
      "source": [
        "#.Python – Convert List to List of dictionaries\n"
      ]
    },
    {
      "cell_type": "code",
      "execution_count": null,
      "id": "WzDWbM01QWYl",
      "metadata": {
        "colab": {
          "base_uri": "https://localhost:8080/"
        },
        "id": "WzDWbM01QWYl",
        "outputId": "237f1786-066f-4469-c257-68e884429abe"
      },
      "outputs": [
        {
          "name": "stdout",
          "output_type": "stream",
          "text": [
            "{(1, 2): (3, 4), ('a', 'b'): ('c', 'd'), (10.2, 30): (40,)}\n"
          ]
        }
      ],
      "source": [
        "#33.Convert Lists of List to Dictionary in Python\n",
        "a=[[1,2,3,4],['a','b','c','d'],[10.20,30,40]]\n",
        "d={}\n",
        "for i in a:\n",
        "  d[tuple(i[:2])]=tuple(i[2:])\n",
        "print(str(d))"
      ]
    },
    {
      "cell_type": "code",
      "execution_count": null,
      "id": "a74a4e7a",
      "metadata": {
        "colab": {
          "base_uri": "https://localhost:8080/"
        },
        "id": "a74a4e7a",
        "outputId": "eddb6d4c-74cb-4441-fa62-dd0850df9b09"
      },
      "outputs": [
        {
          "name": "stdout",
          "output_type": "stream",
          "text": [
            " 1st list elements:  [[1, 2], [3, 4], [5, 8], [6, 7]]\n",
            " 2nd list elements:  [[2, 3], [4, 5], [6, 7], [3, 4]]\n",
            "uncommon elements in the lists are:  [[1, 2], [5, 8]]\n"
          ]
        }
      ],
      "source": [
        "#34.Python | Uncommon elements in Lists of List\n",
        "l1=[[1,2],[3,4],[5,8],[6,7]]\n",
        "l2=[[2,3],[4,5],[6,7],[3,4]]\n",
        "uncommon=[]\n",
        "for sub in l1:\n",
        "    if sub not in l2:\n",
        "        uncommon.append(sub)\n",
        "for sub1 in l2:\n",
        "    if sub not in l2:\n",
        "        uncommon.append(sub1)\n",
        "print(\" 1st list elements: \",l1)\n",
        "print(\" 2nd list elements: \",l2)\n",
        "print(\"uncommon elements in the lists are: \",uncommon)\n"
      ]
    },
    {
      "cell_type": "code",
      "execution_count": null,
      "id": "11183f0c",
      "metadata": {
        "colab": {
          "base_uri": "https://localhost:8080/"
        },
        "id": "11183f0c",
        "outputId": "c6105d5b-3bfc-42d8-b0d6-e3e839e88f16"
      },
      "outputs": [
        {
          "name": "stdout",
          "output_type": "stream",
          "text": [
            "1\n"
          ]
        }
      ],
      "source": [
        "#35.Python program to select Random value from list of lists\n",
        "import random\n",
        "\n",
        "my_list = [1, 'a', 32, 'c', 'd', 31]\n",
        "print(random.choice(my_list))"
      ]
    },
    {
      "cell_type": "code",
      "execution_count": null,
      "id": "3443e425",
      "metadata": {
        "colab": {
          "base_uri": "https://localhost:8080/"
        },
        "id": "3443e425",
        "outputId": "059c626b-6065-4b38-ced1-9730e7abc14c"
      },
      "outputs": [
        {
          "name": "stdout",
          "output_type": "stream",
          "text": [
            "The original list is : [[4, 1, 6], [7, 8], [4, 10, 8]]\n",
            "The reverse sorted is : [[6, 4, 1], [8, 7], [10, 8, 4]]\n"
          ]
        }
      ],
      "source": [
        "#36. Reverse Row sort in Lists of List\n",
        "list = [[4, 1, 6], [7, 8], [4, 10, 8]]\n",
        "print(\"The original list is : \" + str(list))\n",
        "\n",
        "# Reverse Row sort in Lists of List\n",
        "for ele in list:\n",
        "    ele.sort(reverse=True)\n",
        "print(\"The reverse sorted is : \" + str(list))\n"
      ]
    },
    {
      "cell_type": "code",
      "execution_count": null,
      "id": "c940dd78",
      "metadata": {
        "id": "c940dd78"
      },
      "outputs": [],
      "source": [
        "#Python – Pair elements with Rear element in Matrix Row\n"
      ]
    },
    {
      "cell_type": "code",
      "execution_count": null,
      "id": "b9hX4Xa2Trto",
      "metadata": {
        "colab": {
          "base_uri": "https://localhost:8080/"
        },
        "id": "b9hX4Xa2Trto",
        "outputId": "fac41c78-d166-4a02-e247-add4bd9d1876"
      },
      "outputs": [
        {
          "name": "stdout",
          "output_type": "stream",
          "text": [
            "number of unique are :  6\n"
          ]
        }
      ],
      "source": [
        "#37.How to count unique values inside a list\n",
        "\n",
        "li=[2,4,5,6,6,2,9,1]\n",
        "li1=[]\n",
        "count=0\n",
        "for i in li:\n",
        "  if i not in li1:\n",
        "    li1.append(i)\n",
        "    count=count+1\n",
        "print(\"number of unique are : \",count)"
      ]
    },
    {
      "cell_type": "code",
      "execution_count": null,
      "id": "fV4MOkT1UtUM",
      "metadata": {
        "colab": {
          "base_uri": "https://localhost:8080/"
        },
        "id": "fV4MOkT1UtUM",
        "outputId": "0e4e7491-ca73-45ed-ba2d-1b3934e518a8"
      },
      "outputs": [
        {
          "name": "stdout",
          "output_type": "stream",
          "text": [
            "120\n"
          ]
        }
      ],
      "source": [
        "#38.Python – List product excluding duplicates\n",
        "li=[1,2,3,4,3]\n",
        "b=list(set(a))\n",
        "mul=1\n",
        "for i in b:\n",
        "  mul=mul*i\n",
        "print(mul)"
      ]
    },
    {
      "cell_type": "code",
      "execution_count": null,
      "id": "eNkYLP-gXDet",
      "metadata": {
        "colab": {
          "base_uri": "https://localhost:8080/"
        },
        "id": "eNkYLP-gXDet",
        "outputId": "4758e36d-ff45-4e70-9410-ecded5cd2d54"
      },
      "outputs": [
        {
          "name": "stdout",
          "output_type": "stream",
          "text": [
            "[4, 3]\n"
          ]
        }
      ],
      "source": [
        "#39.Python – Extract elements with Frequency greater than K\n",
        "a = [4, 6, 4, 3, 3, 4, 3, 7, 8, 8]\n",
        "K = 2\n",
        "res = []#taking empty list\n",
        "for i in a:\n",
        "\tfreq = a.count(i)#counting of elements in the list\n",
        "\tif freq > K and i not in res: #checking that list numbers are greater than 2 items and not on empty list\n",
        "\t\tres.append(i)\n",
        "\n",
        "print(res)"
      ]
    },
    {
      "cell_type": "code",
      "execution_count": null,
      "id": "bS3xl-RWTr7X",
      "metadata": {
        "colab": {
          "base_uri": "https://localhost:8080/"
        },
        "id": "bS3xl-RWTr7X",
        "outputId": "22ddcd39-8cd3-4852-ea7f-33608ccb94e7"
      },
      "outputs": [
        {
          "name": "stdout",
          "output_type": "stream",
          "text": [
            "if list contains all the elements in the range of 3 to 20  True\n"
          ]
        }
      ],
      "source": [
        "#40.Python – Test if List contains elements in Range\n",
        "a = [4, 5, 6, 18,7,13, 3,13, 9,15]\n",
        "\n",
        "i = 3\n",
        "j= 20\n",
        "\n",
        "res = True\n",
        "for e in a:\n",
        "\tif e < i or e >= j :\n",
        "\t\tres = False\n",
        "\t\tbreak\n",
        "\n",
        "print (\"if list contains all the elements in the range of 3 to 20 \",res)\n"
      ]
    },
    {
      "cell_type": "code",
      "execution_count": null,
      "id": "3UtJ9NuVaOf4",
      "metadata": {
        "colab": {
          "base_uri": "https://localhost:8080/"
        },
        "id": "3UtJ9NuVaOf4",
        "outputId": "fc11b2ce-22e5-47ab-97af-b5563763a1e6"
      },
      "outputs": [
        {
          "name": "stdout",
          "output_type": "stream",
          "text": [
            "2\n",
            "4\n",
            "5\n"
          ]
        }
      ],
      "source": [
        "#41.Python program to check if the list contains three consecutive common numbers in Python\n",
        "\n",
        "a=[1,2,2,2,3,4,4,4,5,5,5]\n",
        "l=len(a)#checking the length of list\n",
        "for i in range(l-2):\n",
        "  if a[i]==a[i+1]  and a[i+1]==a[i+2]:\n",
        "    print(a[i])\n",
        "\n"
      ]
    },
    {
      "cell_type": "code",
      "execution_count": null,
      "id": "KQ93Cdnqd53X",
      "metadata": {
        "id": "KQ93Cdnqd53X"
      },
      "outputs": [],
      "source": [
        "#Python program to find the Strongest Neighbour\n"
      ]
    },
    {
      "cell_type": "code",
      "execution_count": null,
      "id": "Nxp_LTwNd6G7",
      "metadata": {
        "colab": {
          "base_uri": "https://localhost:8080/"
        },
        "id": "Nxp_LTwNd6G7",
        "outputId": "6dc9e0b1-dddc-4932-936a-c8be5f7907d1"
      },
      "outputs": [
        {
          "name": "stdout",
          "output_type": "stream",
          "text": [
            "1\n",
            "2\n",
            "3\n",
            "1 2 3\n",
            "1 3 2\n",
            "2 1 3\n",
            "2 3 1\n",
            "3 1 2\n",
            "3 2 1\n"
          ]
        }
      ],
      "source": [
        "#42Python Program to print all Possible Combinations from the three Digits\n",
        "\n",
        "a=int(input())\n",
        "b=int(input())\n",
        "c=int(input())\n",
        "li=[]\n",
        "li.append(a)\n",
        "li.append(b)\n",
        "li.append(c)\n",
        "for i in range(0,3):\n",
        "  for j in range(0,3):\n",
        "    for k in range(0,3):\n",
        "      if(i!=j and j!=k and k!=i):\n",
        "        print(li[i],li[j],li[k])"
      ]
    },
    {
      "cell_type": "code",
      "execution_count": null,
      "id": "RcBamHqtf4Rn",
      "metadata": {
        "colab": {
          "base_uri": "https://localhost:8080/"
        },
        "id": "RcBamHqtf4Rn",
        "outputId": "b42da79d-73e9-4ff6-ea2f-8a3413b6e37d"
      },
      "outputs": [
        {
          "name": "stdout",
          "output_type": "stream",
          "text": [
            "combinations of 2 tuples are: [(1, 3), (3, 1), (1, 4), (4, 1), (2, 3), (3, 2), (2, 4), (4, 2)]\n"
          ]
        }
      ],
      "source": [
        "#43.Python program to find all the Combinations in the list with the given condition\n",
        "li1=[1,2]\n",
        "li2=[3,4]\n",
        "res=[]\n",
        "for ele1 in li1:\n",
        "  for ele2 in li2:\n",
        "    res.append((ele1,ele2))\n",
        "    res.append((ele2,ele1))\n",
        "\n",
        "print(\"combinations of 2 lists are:\",res)"
      ]
    },
    {
      "cell_type": "code",
      "execution_count": null,
      "id": "43PyPE3qf4Ub",
      "metadata": {
        "colab": {
          "base_uri": "https://localhost:8080/"
        },
        "id": "43PyPE3qf4Ub",
        "outputId": "df97e6b0-5dea-4738-ef7c-d89acd76ff76"
      },
      "outputs": [
        {
          "name": "stdout",
          "output_type": "stream",
          "text": [
            "[(1, 'a'), (2, 'b')]\n"
          ]
        }
      ],
      "source": [
        "#44Python program to get all unique combinations of two Lists\n",
        "#we can use the zip function\n",
        "li1=[1,2]\n",
        "li2=['a','b']\n",
        "a=zip(li1,li2)\n",
        "b=list(a)\n",
        "print(b)"
      ]
    },
    {
      "cell_type": "code",
      "execution_count": null,
      "id": "Vwzp8C98f4X8",
      "metadata": {
        "colab": {
          "base_uri": "https://localhost:8080/"
        },
        "id": "Vwzp8C98f4X8",
        "outputId": "c01282bc-b608-41ca-c061-8f8f9959a4a5"
      },
      "outputs": [
        {
          "name": "stdout",
          "output_type": "stream",
          "text": [
            "[1, 3, 4, 5]\n"
          ]
        }
      ],
      "source": [
        "#45Remove all the occurrences of an element from a list in Python\n",
        "a = [1, 2, 3, 4, 2, 5, 2]\n",
        "n=2#removing the 2 in the list\n",
        "for i in a:\n",
        "  if i==n:\n",
        "    a.remove(n)\n",
        "print(a)"
      ]
    },
    {
      "cell_type": "code",
      "execution_count": null,
      "id": "errfhmZZjk1U",
      "metadata": {
        "id": "errfhmZZjk1U"
      },
      "outputs": [],
      "source": [
        "#Python – Remove Consecutive K element records\n"
      ]
    },
    {
      "cell_type": "code",
      "execution_count": null,
      "id": "5_jr1hYokU4s",
      "metadata": {
        "colab": {
          "base_uri": "https://localhost:8080/"
        },
        "id": "5_jr1hYokU4s",
        "outputId": "dc341676-3731-4bc4-fb8c-22ee565e621e"
      },
      "outputs": [
        {
          "name": "stdout",
          "output_type": "stream",
          "text": [
            "['Education', 'Computer', 'Tutor Joes']\n"
          ]
        }
      ],
      "source": [
        "#46.Python – Replace index elements with elements in Other List\n",
        "a = ['Tutor Joes', 'Computer', 'Education']\n",
        "b = [2 ,1 ,0 ]\n",
        "\n",
        "res = [a[i] for i in b]\n",
        "\n",
        "print (res)"
      ]
    },
    {
      "cell_type": "code",
      "execution_count": null,
      "id": "8C137lYxkVEA",
      "metadata": {
        "id": "8C137lYxkVEA"
      },
      "outputs": [],
      "source": [
        "#Python – Retain records with N occurrences of K\n"
      ]
    },
    {
      "cell_type": "code",
      "execution_count": null,
      "id": "JRloulKVlmXR",
      "metadata": {
        "id": "JRloulKVlmXR"
      },
      "outputs": [],
      "source": [
        "#Python Program to Sort the list according to the column using lambda\n"
      ]
    },
    {
      "cell_type": "code",
      "execution_count": null,
      "id": "Cds2r1agmwrR",
      "metadata": {
        "colab": {
          "base_uri": "https://localhost:8080/"
        },
        "id": "Cds2r1agmwrR",
        "outputId": "d0d9682c-156f-4d5b-fd88-c580a3d4690e"
      },
      "outputs": [
        {
          "name": "stdout",
          "output_type": "stream",
          "text": [
            "['DATA', 'science', 'is', 'the', 'nice', 'technology']\n"
          ]
        }
      ],
      "source": [
        "#47.Python – Swap elements in String list\n",
        "a=[\"data\",\"science\",\"is\",\"the\",\"best\",\"technology\"]\n",
        "res=\",\".join(a)\n",
        "res=res.replace(\"data\",\"DATA\").replace(\"best\",\"nice\").split(',')\n",
        "print(res)\n"
      ]
    },
    {
      "cell_type": "code",
      "execution_count": null,
      "id": "4LF6jJT6nHiu",
      "metadata": {
        "colab": {
          "base_uri": "https://localhost:8080/"
        },
        "id": "4LF6jJT6nHiu",
        "outputId": "6c7f1d29-2c03-4925-a612-2d84d944cd72"
      },
      "outputs": [
        {
          "data": {
            "text/plain": [
              "9"
            ]
          },
          "execution_count": 1,
          "metadata": {},
          "output_type": "execute_result"
        }
      ],
      "source": [
        "#48.How To Find the Length of a List in Python\n",
        "li=[1,2,3,4,5,6,7,8,9]\n",
        "len(li)"
      ]
    },
    {
      "cell_type": "code",
      "execution_count": null,
      "id": "C86hIjGYnHoG",
      "metadata": {
        "colab": {
          "base_uri": "https://localhost:8080/"
        },
        "id": "C86hIjGYnHoG",
        "outputId": "9d0a52d7-ce6b-4568-ea37-d2fc9ec3f219"
      },
      "outputs": [
        {
          "name": "stdout",
          "output_type": "stream",
          "text": [
            "length of list is:  9\n"
          ]
        }
      ],
      "source": [
        "#another way(by using for loop)\n",
        "li=[1,2,3,4,5,6,7,8,9]\n",
        "count=0\n",
        "for i in li:\n",
        "  count=count+1\n",
        "print(\"length of list is: \",count)"
      ]
    },
    {
      "cell_type": "code",
      "execution_count": null,
      "id": "1Vz2Ie9TnHyq",
      "metadata": {
        "colab": {
          "base_uri": "https://localhost:8080/"
        },
        "id": "1Vz2Ie9TnHyq",
        "outputId": "29316e47-7491-4b08-d7b3-e9fe95bb4563"
      },
      "outputs": [
        {
          "name": "stdout",
          "output_type": "stream",
          "text": [
            "['olleh', 'dlrow', 'emocleW', 'ot', 'atad', 'ecneics']\n"
          ]
        }
      ],
      "source": [
        "#49.Python | Reverse All Strings in String List\n",
        "li=[\"hello\",\"world\",\"Welcome\",\"to\",\"data\",\"science\"]\n",
        "res = []\n",
        "for i in li:\n",
        "\t# use slicing to reverse the string and append it to the result list\n",
        "\tres.append(i[::-1])\n",
        "\n",
        "print(res)\n"
      ]
    },
    {
      "cell_type": "code",
      "execution_count": null,
      "id": "55ek3OUcm5W9",
      "metadata": {
        "id": "55ek3OUcm5W9"
      },
      "outputs": [],
      "source": [
        "#Python program to find the character position of Kth word from a list of strings\n"
      ]
    },
    {
      "cell_type": "code",
      "execution_count": null,
      "id": "O1wTuW7Smw0u",
      "metadata": {
        "colab": {
          "base_uri": "https://localhost:8080/"
        },
        "id": "O1wTuW7Smw0u",
        "outputId": "ccf99ad6-d1ce-4b5d-b3b6-be8cc3de486b"
      },
      "outputs": [
        {
          "name": "stdout",
          "output_type": "stream",
          "text": [
            "original list is: ['data', 'science', 'is', 'the', 'best', 'technology']\n",
            "list words starting with the char k is: ['the', 'technology']\n"
          ]
        }
      ],
      "source": [
        "#50.Python – Extract words starting with K in String List\n",
        "li=[\"data\",\"science\",\"is\",\"the\",\"best\",\"technology\"]\n",
        "k=\"t\"\n",
        "res=[]#taking empty list\n",
        "for i in li:\n",
        "  temp=i.split()\n",
        "  for ele in temp:\n",
        "    if ele[0].lower() == k.lower():\n",
        "      res.append(ele)\n",
        "print(\"original list is:\",li)\n",
        "  #res.append(ele)\n",
        "print(\"list words starting with the char k is:\", res)"
      ]
    },
    {
      "cell_type": "code",
      "execution_count": null,
      "id": "hWYtlcBllmqG",
      "metadata": {
        "colab": {
          "base_uri": "https://localhost:8080/"
        },
        "id": "hWYtlcBllmqG",
        "outputId": "7b71837a-b9b2-4907-f592-e8f94a662a81"
      },
      "outputs": [
        {
          "name": "stdout",
          "output_type": "stream",
          "text": [
            "no of word starting with hello are:  3\n"
          ]
        }
      ],
      "source": [
        "#51.Python – Prefix frequency in string List\n",
        "li=[\"hello\",\"hello hii\",\"hello world\",\"data science\",\"data base\"]\n",
        "pre=\"hello\"\n",
        "count=0\n",
        "for ele in li:\n",
        "  if ele.startswith(pre):\n",
        "    count=count+1\n",
        "print(\"no of word starting with hello are: \", count)"
      ]
    },
    {
      "cell_type": "code",
      "execution_count": null,
      "id": "Bi-V8rorkVMA",
      "metadata": {
        "colab": {
          "base_uri": "https://localhost:8080/"
        },
        "id": "Bi-V8rorkVMA",
        "outputId": "cd4e0bb8-f41f-4b5c-9071-aa05a6ffb60d"
      },
      "outputs": [
        {
          "name": "stdout",
          "output_type": "stream",
          "text": [
            "['data', 'is', 'best', 'for', 'datascience', 'Preparing']\n"
          ]
        }
      ],
      "source": [
        "#52.Python – Split String of list on K character\n",
        "\n",
        "li= ['data is best', 'for datascience', 'Preparing']\n",
        "\n",
        "K = ' '\n",
        "\n",
        "# using join() + split()\n",
        "res = K.join(li).split(K)#spliting each word on the list\n",
        "\n",
        "print (res)\n"
      ]
    },
    {
      "cell_type": "code",
      "execution_count": null,
      "id": "FjaVlSqnkVXA",
      "metadata": {
        "id": "FjaVlSqnkVXA"
      },
      "outputs": [],
      "source": [
        "#Python – Split Strings on Prefix Occurrence\n"
      ]
    },
    {
      "cell_type": "code",
      "execution_count": null,
      "id": "xA2ryHWskVmp",
      "metadata": {
        "colab": {
          "base_uri": "https://localhost:8080/"
        },
        "id": "xA2ryHWskVmp",
        "outputId": "14cffd12-9bdd-42d7-cecc-40f2deec5400"
      },
      "outputs": [
        {
          "name": "stdout",
          "output_type": "stream",
          "text": [
            "['D', 'a', 'D', 'a']\n"
          ]
        }
      ],
      "source": [
        "#53.Python program to Replace all Characters of a List Except the given character\n",
        "li= ['d','a','t','a']\n",
        "given='a'\n",
        "replace=\"D\"\n",
        "res=[]\n",
        "for i in li:\n",
        "\n",
        "  if i == given:#checking a in the list or not\n",
        "        res.append(i)\n",
        "  else:\n",
        "        res.append(replace)#if d is present on the list we are replacing it with D\n",
        "print(res)\n",
        "\n"
      ]
    },
    {
      "cell_type": "code",
      "execution_count": null,
      "id": "c1MTlic0jk7w",
      "metadata": {
        "colab": {
          "base_uri": "https://localhost:8080/"
        },
        "id": "c1MTlic0jk7w",
        "outputId": "5facfcbf-fbf3-4365-abd2-92250d018898"
      },
      "outputs": [
        {
          "name": "stdout",
          "output_type": "stream",
          "text": [
            "after removing  strings are : ['my', 'name', 'is']\n"
          ]
        }
      ],
      "source": [
        "#54.Python – Remove words containing list characters\n",
        "li= ['hello', 'my', 'name', 'is', 'sowmya']\n",
        "li1 = ['l', 'o']\n",
        "res=[]\n",
        "for i in li:\n",
        "\tx=i\n",
        "\tfor j in li1:\n",
        "\t  i=i.replace(j,\"\")\n",
        "\tif(len(i)==len(x)):\n",
        "\t\tres.append(i)\n",
        "print (\"after removing  strings are : \" + str(res))\n",
        "\n"
      ]
    },
    {
      "cell_type": "code",
      "execution_count": null,
      "id": "bJVO4wIMf4bS",
      "metadata": {
        "colab": {
          "base_uri": "https://localhost:8080/"
        },
        "id": "bJVO4wIMf4bS",
        "outputId": "a5043eca-a93a-4e95-a115-0562fad03027"
      },
      "outputs": [
        {
          "name": "stdout",
          "output_type": "stream",
          "text": [
            "['a', 'b', 'c', 'd']\n"
          ]
        }
      ],
      "source": [
        "#55.Python – Ways to remove multiple empty spaces from string List\n",
        "a=['a','b',' ','c',' ','d']\n",
        "res=[]\n",
        "for i in a:\n",
        "  if i.strip():\n",
        "    res.append(i)\n",
        "print(res)"
      ]
    },
    {
      "cell_type": "code",
      "execution_count": null,
      "id": "7WJ2FXmZd6WO",
      "metadata": {
        "colab": {
          "base_uri": "https://localhost:8080/"
        },
        "id": "7WJ2FXmZd6WO",
        "outputId": "e0a04a07-8ba6-490b-af71-6aa274d177e7"
      },
      "outputs": [
        {
          "name": "stdout",
          "output_type": "stream",
          "text": [
            "['hello World', 'data Sciene']\n"
          ]
        }
      ],
      "source": [
        "#56.Python – Add Space between Potential Words\n",
        "li=['helloWorld','dataSciene']\n",
        "res=[]\n",
        "for i in li:\n",
        "  for j in i:\n",
        "    if(j.isupper()):#checking the letter is upper or not\n",
        "      i=i.replace(j,\" \"+j)#if upper means repalce it with space and the nextchar\n",
        "  res.append(i)\n",
        "print(res)"
      ]
    },
    {
      "cell_type": "code",
      "execution_count": null,
      "id": "hbopEZUdd6Zt",
      "metadata": {
        "colab": {
          "base_uri": "https://localhost:8080/"
        },
        "id": "hbopEZUdd6Zt",
        "outputId": "4ccfe34a-4f73-415a-98d7-36eaa6dc4788"
      },
      "outputs": [
        {
          "name": "stdout",
          "output_type": "stream",
          "text": [
            "The extracted list : ['hello', 'how', 'are']\n"
          ]
        }
      ],
      "source": [
        "#57. Extract elements filtered by substring\n",
        "\n",
        "list1 = [\"hello\",\"hii\",\"how\",\"are\",\"you\"]\n",
        "list2 = [\"1\",\"0\",\"1\",\"1\",\"0\"]\n",
        "\n",
        "sub_str = \"1\"\n",
        "\n",
        "res = []\n",
        "for i in range(0, len(list2)):\n",
        "\tif list2[i].find(sub_str) != -1:\n",
        "\t\tres.append(list1[i])\n",
        "\n",
        "\n",
        "print(\"The extracted list : \" + str(res))\n"
      ]
    },
    {
      "cell_type": "code",
      "execution_count": null,
      "id": "0gaJWn0SaOjG",
      "metadata": {
        "colab": {
          "base_uri": "https://localhost:8080/"
        },
        "id": "0gaJWn0SaOjG",
        "outputId": "0454625f-8221-48b4-9f16-e60ac170213d"
      },
      "outputs": [
        {
          "name": "stdout",
          "output_type": "stream",
          "text": [
            "The String after join : datasciencebest\n"
          ]
        }
      ],
      "source": [
        "#58.Python | Convert Character Matrix to single String\n",
        "list = [['d', 'a', 't','a'], ['s','c','i', 'e','n','c','e'], ['b', 'e', 's', 't']]\n",
        "\n",
        "# Convert Character Matrix to single String\n",
        "res = ''.join(ele for sub in list for ele in sub)\n",
        "\n",
        "# printing result\n",
        "print(\"The String after join : \" + res)\n"
      ]
    },
    {
      "cell_type": "code",
      "execution_count": null,
      "id": "r030_J83aOui",
      "metadata": {
        "colab": {
          "base_uri": "https://localhost:8080/"
        },
        "id": "r030_J83aOui",
        "outputId": "1d2c2ec8-7d6c-4ab0-a3ce-4da9d86e3c83"
      },
      "outputs": [
        {
          "name": "stdout",
          "output_type": "stream",
          "text": [
            "no of word starting with hello are:  2\n"
          ]
        }
      ],
      "source": [
        "#59.Python – Count Strings with substring String List\n",
        "li=[\"hello\",\"hello hii\",\"hello world\",\"data science\",\"data base\"]\n",
        "sub=\"hello\"\n",
        "count=0\n",
        "for ele in li:\n",
        "  if ele.find(sub):\n",
        "    count=count+1\n",
        "print(\"no of word starting with hello are: \", count)"
      ]
    },
    {
      "cell_type": "code",
      "execution_count": null,
      "id": "ydWGlkyzaO2m",
      "metadata": {
        "id": "ydWGlkyzaO2m"
      },
      "outputs": [],
      "source": [
        "#Python – Replace Substrings from String List\n"
      ]
    },
    {
      "cell_type": "code",
      "execution_count": null,
      "id": "zGgAIWrbY2ci",
      "metadata": {
        "id": "zGgAIWrbY2ci"
      },
      "outputs": [],
      "source": [
        "#Python – Group Sublists by another List\n"
      ]
    },
    {
      "cell_type": "code",
      "execution_count": null,
      "id": "_djtSCjjTsGC",
      "metadata": {
        "id": "_djtSCjjTsGC"
      },
      "outputs": [],
      "source": [
        "#Python | Remove Redundant Substrings from Strings List\n"
      ]
    },
    {
      "cell_type": "code",
      "execution_count": null,
      "id": "JsrrXZ2ZTsTI",
      "metadata": {
        "id": "JsrrXZ2ZTsTI"
      },
      "outputs": [],
      "source": [
        "#Python – Sort String by Custom Integer Substrings\n",
        "li=[\"my name is sowmya\",\" i am studying at 10am\"]\n",
        "li2=[\"NAME\",\"11am\"]\n",
        "\n"
      ]
    },
    {
      "cell_type": "code",
      "execution_count": null,
      "id": "zGEemf8ezBGV",
      "metadata": {
        "colab": {
          "base_uri": "https://localhost:8080/"
        },
        "id": "zGEemf8ezBGV",
        "outputId": "059fd144-acfd-4504-fe15-e4b9f2a9f3fa"
      },
      "outputs": [
        {
          "name": "stdout",
          "output_type": "stream",
          "text": [
            "if substring occued on specified position True\n"
          ]
        }
      ],
      "source": [
        "#60.Python – Test if Substring occurs in specific position\n",
        "\n",
        "str1 = \"Datascience is best\"\n",
        "\n",
        "i=12\n",
        "j =14\n",
        "\n",
        "substr = \"is\"\n",
        "\n",
        "res = str1[i: j] == substr\n",
        "print(\"if substring occued on specified position\" ,res)\n"
      ]
    },
    {
      "cell_type": "code",
      "execution_count": null,
      "id": "hf7X3ZgLzzu8",
      "metadata": {
        "id": "hf7X3ZgLzzu8"
      },
      "outputs": [],
      "source": []
    },
    {
      "cell_type": "code",
      "execution_count": null,
      "id": "QKKnencW0Mt5",
      "metadata": {
        "id": "QKKnencW0Mt5"
      },
      "outputs": [],
      "source": []
    }
  ],
  "metadata": {
    "colab": {
      "provenance": []
    },
    "kernelspec": {
      "display_name": "Python 3 (ipykernel)",
      "language": "python",
      "name": "python3"
    },
    "language_info": {
      "codemirror_mode": {
        "name": "ipython",
        "version": 3
      },
      "file_extension": ".py",
      "mimetype": "text/x-python",
      "name": "python",
      "nbconvert_exporter": "python",
      "pygments_lexer": "ipython3",
      "version": "3.8.19"
    }
  },
  "nbformat": 4,
  "nbformat_minor": 5
}
