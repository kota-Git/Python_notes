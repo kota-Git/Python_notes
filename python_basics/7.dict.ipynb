{
 "cells": [
  {
   "cell_type": "markdown",
   "metadata": {},
   "source": [
    "# Introduction to Dictionaries ✅\n",
    "\n",
    "> Constructing a Dictionary\n",
    "\n",
    "> A dictionary object is constructed using curly braces {key1:value1,key2:value2,key3:value3}\n",
    "\n",
    "> what is Dictionary : ** mapping of one to one relationship b/w key ,value pair is called dictionay**\n",
    "\n",
    "> what are mappings? Mappings are a collection of objects that are stored by a key, unlike a sequence that stored objects"
   ]
  },
  {
   "cell_type": "code",
   "execution_count": null,
   "metadata": {},
   "outputs": [],
   "source": []
  }
 ],
 "metadata": {
  "language_info": {
   "name": "python"
  }
 },
 "nbformat": 4,
 "nbformat_minor": 2
}
