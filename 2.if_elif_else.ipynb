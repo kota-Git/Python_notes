{
 "cells": [
  {
   "cell_type": "code",
   "execution_count": null,
   "metadata": {},
   "outputs": [],
   "source": [
    "pip install torch\n"
   ]
  },
  {
   "cell_type": "code",
   "execution_count": null,
   "metadata": {},
   "outputs": [],
   "source": [
    "import torch\n",
    "\n",
    "if torch.cuda.is_available():\n",
    "    device = torch.cuda.get_device_name(0)\n",
    "    print(f\"GPU: {device}\")\n",
    "    print(f\"Total CUDA Cores: {torch.cuda.get_device_properties(0).multi_processor_count * 64}\")  # 64 cores per SM for GTX 1650\n",
    "else:\n",
    "    print(\"No CUDA-compatible GPU found!\")"
   ]
  },
  {
   "cell_type": "markdown",
   "metadata": {},
   "source": [
    "# If---elif--else- conditional statements ✅\n",
    "\n",
    "if Statements in Python allows us to tell the computer to perform alternative actions based on a certain set of results.\n",
    "\n",
    "Verbally, we can imagine we are telling the computer:\"Hey if this case happens, perform some action\"\n",
    "\n",
    "\n",
    "We can then expand the idea further with elif and else statements, which allow us to tell the computer: \"Hey if this case happens, perform some action. Else, if another case happens, perform some other action. Else, if none of the above cases happened, perform this action.\"\n",
    "\n",
    "# Let's go ahead and look at the syntax format for if statements to get a better idea of this:\n",
    "\n",
    "if case1:\n",
    "\n",
    "perform action1\n",
    "\n",
    "elif case2:\n",
    "\n",
    "perform\n",
    "\n",
    "else:\n",
    "\n",
    "perform action3"
   ]
  },
  {
   "cell_type": "code",
   "execution_count": null,
   "metadata": {},
   "outputs": [],
   "source": [
    "#Single condition\n",
    "v=1\n",
    "\n",
    "if v<10:  # It is true\n",
    "    print(\"Yes\")"
   ]
  },
  {
   "cell_type": "code",
   "execution_count": 7,
   "metadata": {},
   "outputs": [],
   "source": [
    "#Single condition\n",
    "v=20\n",
    "\n",
    "if v<10:  # if It is false , we can't get\n",
    "    print(\"Yes\")"
   ]
  },
  {
   "cell_type": "code",
   "execution_count": null,
   "metadata": {},
   "outputs": [],
   "source": [
    "#Single condition\n",
    "v=20\n",
    "\n",
    "if v<10:  # It is false\n",
    "    print(\"true\")\n",
    "else:\n",
    "  print(\"no\")"
   ]
  },
  {
   "cell_type": "code",
   "execution_count": null,
   "metadata": {},
   "outputs": [],
   "source": [
    "#Single condition\n",
    "v1=1\n",
    "\n",
    "if v1>10:  # It is false\n",
    "    print(\"Yes\")\n",
    "else:\n",
    "    print(\"No\")"
   ]
  },
  {
   "cell_type": "code",
   "execution_count": null,
   "metadata": {},
   "outputs": [],
   "source": [
    "a = 10\n",
    "if a == 11:\n",
    "    print(\"my condition is false\")\n",
    "else :\n",
    "    print(\"print this \")"
   ]
  },
  {
   "cell_type": "code",
   "execution_count": null,
   "metadata": {},
   "outputs": [],
   "source": [
    "a = 10\n",
    "if a == 12 :\n",
    "    print(\"here we are trying to compare 10 with 12\")\n",
    "elif a ==10:\n",
    "    print(\"we are trying to compare 10 with 11\")\n",
    "else :\n",
    "    print(\"if all the blocks wil fail then do this \")"
   ]
  },
  {
   "cell_type": "markdown",
   "metadata": {},
   "source": [
    "# for mulitiple statement we use elif\n",
    "\n",
    "if case1 :\n",
    "\n",
    "do some action\n",
    "\n",
    "elif case 2  :\n",
    "\n",
    "another action\n",
    "\n",
    "\n",
    "elif case 3:\n",
    "\n",
    "do some another action\n",
    "\n",
    "else:\n",
    "\n",
    "do some yet another action"
   ]
  },
  {
   "cell_type": "code",
   "execution_count": null,
   "metadata": {},
   "outputs": [],
   "source": [
    "city = 'kukatpally'\n",
    "\n",
    "if city == 'Hiteccity':\n",
    "  print('Welcome to the it companies')\n",
    "elif city == 'Mumbai':\n",
    "  print('Welcome to the Financial Capital of India!')\n",
    "else:\n",
    "  print('above conditions are wrong')"
   ]
  },
  {
   "cell_type": "code",
   "execution_count": null,
   "metadata": {},
   "outputs": [],
   "source": [
    "city=\"hydrabad\"\n",
    "\n",
    "if city==\"nizamabad\":\n",
    "  print(\"welcome to the nizamabad\")\n",
    "elif city==\"hydrabad\":\n",
    "  print(\"welcome to the hyd\")\n",
    "elif city==\"warangal\":\n",
    "  print(\"welcome to the warangal\")\n",
    "else:\n",
    "  print(\"where are you\")"
   ]
  },
  {
   "cell_type": "code",
   "execution_count": null,
   "metadata": {},
   "outputs": [],
   "source": [
    "# Multiple conditions\n",
    "# if ..elseif(elif)..  else\n",
    "\n",
    "s1=\"Srinivas\"\n",
    "s2=\"loves\"\n",
    "s3=\"Python\"\n",
    "\n",
    "if s1==\"Rahul\":\n",
    "    print(\"Rahul\")\n",
    "elif s2==\"python\":\n",
    "    print(\"python\")\n",
    "elif s3==\"loves\":\n",
    "    print(\"loves\")\n",
    "else:\n",
    "    print(\"All the condition is false\")"
   ]
  },
  {
   "cell_type": "code",
   "execution_count": null,
   "metadata": {},
   "outputs": [],
   "source": [
    "s1=\"RAMU\"\n",
    "s2=\"loves\"\n",
    "s3=\"Python\"\n",
    "\n",
    "if s1==\"RAMU\":   #  Condition is true\n",
    "    print(\"RAMU\")\n",
    "elif s2==\"python\":\n",
    "    print(\"python\")\n",
    "elif s3==\"loves\":\n",
    "    print(\"loves\")\n",
    "else:\n",
    "    print(\"All the condition is false\")"
   ]
  },
  {
   "cell_type": "code",
   "execution_count": null,
   "metadata": {},
   "outputs": [],
   "source": [
    "price = 500\n",
    "\n",
    "if price > 500 :\n",
    "    print(\" may b i wont be able to buy a jacket \")\n",
    "elif price < 500 :\n",
    "    print(\"i will be able to buy a jacket\")\n",
    "elif  price == 500 :\n",
    "    print(\"for sure i will be able to buy\")\n",
    "\n",
    "else  :\n",
    "    print(\"i dont know \")"
   ]
  },
  {
   "cell_type": "code",
   "execution_count": null,
   "metadata": {},
   "outputs": [],
   "source": [
    "number1 = -2\n",
    "number2 = 9\n",
    "\n",
    "if number1 > 0:\n",
    "  if number2 < 10 :\n",
    "    print(number2 + number1)\n",
    "  else:\n",
    "    print(\"Should be greater than 10\")\n",
    "\n",
    "elif number1 < 0:\n",
    "    print(\"Ah, that's a negative number\")\n",
    "else:\n",
    "    print(\"The number is zero!\")"
   ]
  },
  {
   "cell_type": "markdown",
   "metadata": {},
   "source": [
    "# Input method"
   ]
  },
  {
   "cell_type": "code",
   "execution_count": 13,
   "metadata": {},
   "outputs": [],
   "source": [
    "a=10"
   ]
  },
  {
   "cell_type": "code",
   "execution_count": null,
   "metadata": {},
   "outputs": [],
   "source": [
    "a= input(\"this is my name \")\n",
    "\n",
    "print(a)"
   ]
  },
  {
   "cell_type": "code",
   "execution_count": null,
   "metadata": {},
   "outputs": [],
   "source": [
    "print(a)\n",
    "\n",
    "type(a)"
   ]
  },
  {
   "cell_type": "code",
   "execution_count": null,
   "metadata": {},
   "outputs": [],
   "source": [
    "b=int(input(\"this is postive number: \"))\n",
    "\n",
    "print(b)"
   ]
  },
  {
   "cell_type": "code",
   "execution_count": null,
   "metadata": {},
   "outputs": [],
   "source": [
    "type(b)"
   ]
  },
  {
   "cell_type": "code",
   "execution_count": null,
   "metadata": {},
   "outputs": [],
   "source": [
    "c=float(input(\"this is postive number: \"))\n",
    "\n",
    "print(c)"
   ]
  },
  {
   "cell_type": "code",
   "execution_count": null,
   "metadata": {},
   "outputs": [],
   "source": [
    "type(c)"
   ]
  },
  {
   "cell_type": "code",
   "execution_count": null,
   "metadata": {},
   "outputs": [],
   "source": []
  },
  {
   "cell_type": "code",
   "execution_count": null,
   "metadata": {},
   "outputs": [],
   "source": [
    "price  = int(input())\n",
    "if price  <500 :\n",
    "    print(\"i will be able to buy something\")\n",
    "    if price > 400 :\n",
    "        print(\"i will be able to buy a jacket\")\n",
    "    elif price > 300 :\n",
    "      print(\"i will be able to buy a shirt\")\n",
    "    elif price >200 :\n",
    "            print(\"i would like to do someting\")\n",
    "    else :\n",
    "        print(\"i wont be able to buy anyting\")\n",
    "else :\n",
    "     print(\"i wont be able to buy anything with this price tag\")\n",
    "\n",
    "# doubt question---- solved"
   ]
  },
  {
   "cell_type": "code",
   "execution_count": null,
   "metadata": {},
   "outputs": [],
   "source": [
    "marks = int(input())\n",
    "if marks < 600:\n",
    "    print(\"NO GRE\")\n",
    "    if marks < 500:\n",
    "        print(\"TOFEL\")\n",
    "        if marks < 400:\n",
    "            print(\"Try something else\")\n",
    "    else:\n",
    "        print(\"YOU GOT TOFEL\")\n",
    "else:\n",
    "    print(\"You got GRE congratulations\")"
   ]
  },
  {
   "cell_type": "code",
   "execution_count": null,
   "metadata": {},
   "outputs": [],
   "source": [
    "val  = float(input(\"enter a floating point number\"))\n",
    "\n",
    "if val >= 0:\n",
    "    if val == 0 :\n",
    "        print(\"entered value is zero\")\n",
    "    else :\n",
    "        print(\"enter value is a positive number \")\n",
    "else :\n",
    "    print(\"entered number is a negative number\")"
   ]
  },
  {
   "cell_type": "code",
   "execution_count": null,
   "metadata": {},
   "outputs": [],
   "source": [
    "a = 10\n",
    "if a <10  and a == 10 :\n",
    "    print(\"try to do someting \")\n",
    "else:\n",
    "  print(f\"above condition fails\")"
   ]
  },
  {
   "cell_type": "code",
   "execution_count": null,
   "metadata": {},
   "outputs": [],
   "source": [
    "a = 10\n",
    "if a <10  or a == 10 :\n",
    "    print(\"try to do someting \")\n",
    "else:\n",
    "  print(f\"above condition fails\")\n",
    "  "
   ]
  },
  {
   "cell_type": "code",
   "execution_count": 5,
   "metadata": {},
   "outputs": [
    {
     "name": "stdout",
     "output_type": "stream",
     "text": [
      "this is laxman \n"
     ]
    }
   ],
   "source": [
    "a = \"laxman\"\n",
    "if a == \"laxman\" or a == \"LAXMAN\":\n",
    "    print(\"this is laxman \")\n",
    "else:\n",
    "  print(f\"or statement is  wrong \")"
   ]
  },
  {
   "cell_type": "code",
   "execution_count": 6,
   "metadata": {},
   "outputs": [
    {
     "name": "stdout",
     "output_type": "stream",
     "text": [
      "above  statement is  wrong \n"
     ]
    }
   ],
   "source": [
    "a = \"laxman\"\n",
    "if a == \"laxman\" and  a == \"LAXMAN\":\n",
    "    print(\"this is laxman \")\n",
    "else:\n",
    "  print(f\"above  statement is  wrong \")"
   ]
  },
  {
   "cell_type": "code",
   "execution_count": 7,
   "metadata": {},
   "outputs": [
    {
     "name": "stdout",
     "output_type": "stream",
     "text": [
      "lets do something\n"
     ]
    }
   ],
   "source": [
    "a = 10\n",
    "b = 11\n",
    "c = 12\n",
    "d = 13\n",
    "if a == 9 or b == 11 and c == 12 and d ==13:\n",
    "    print(\"lets do something\")\n",
    "\n",
    "else:\n",
    "    print(\"lets do something else\")"
   ]
  },
  {
   "cell_type": "code",
   "execution_count": 8,
   "metadata": {},
   "outputs": [],
   "source": [
    "l = [1,2,3,4,5,\"laxman\" ,34.50,7]"
   ]
  },
  {
   "cell_type": "code",
   "execution_count": 9,
   "metadata": {},
   "outputs": [
    {
     "name": "stdout",
     "output_type": "stream",
     "text": [
      "1\n",
      "2\n",
      "3\n",
      "4\n",
      "5\n",
      "7\n"
     ]
    }
   ],
   "source": [
    "for i in l :\n",
    "    if type(i) == int :\n",
    "        print(i)"
   ]
  },
  {
   "cell_type": "code",
   "execution_count": 10,
   "metadata": {},
   "outputs": [
    {
     "name": "stdout",
     "output_type": "stream",
     "text": [
      "2\n",
      "3\n",
      "4\n",
      "5\n",
      "6\n",
      "8\n"
     ]
    }
   ],
   "source": [
    "for i in l :\n",
    "    if type(i) == int :\n",
    "        print(i+1)\n"
   ]
  },
  {
   "cell_type": "code",
   "execution_count": 11,
   "metadata": {},
   "outputs": [
    {
     "name": "stdout",
     "output_type": "stream",
     "text": [
      "1\n",
      "2\n",
      "3\n",
      "4\n",
      "5\n",
      "34.5\n",
      "7\n"
     ]
    }
   ],
   "source": [
    "for i in l :\n",
    "    if type(i) == int or type(i) == float:\n",
    "        print(i)\n"
   ]
  },
  {
   "cell_type": "code",
   "execution_count": 12,
   "metadata": {},
   "outputs": [
    {
     "name": "stdout",
     "output_type": "stream",
     "text": [
      "1\n",
      "2\n",
      "3\n",
      "4\n",
      "5\n",
      "laxman\n",
      "34.5\n",
      "7\n"
     ]
    }
   ],
   "source": [
    "for i in l :\n",
    "    if type(i) == int or float:\n",
    "        print(i)\n"
   ]
  },
  {
   "cell_type": "code",
   "execution_count": 14,
   "metadata": {},
   "outputs": [
    {
     "name": "stdout",
     "output_type": "stream",
     "text": [
      "2\n",
      "3\n",
      "4\n",
      "5\n",
      "6\n",
      "35.5\n",
      "8\n"
     ]
    }
   ],
   "source": [
    "for i in l :\n",
    "    if type(i) == int or type(i) == float:\n",
    "        print(i+1)\n"
   ]
  },
  {
   "cell_type": "code",
   "execution_count": 15,
   "metadata": {},
   "outputs": [
    {
     "name": "stdout",
     "output_type": "stream",
     "text": [
      "2\n",
      "3\n",
      "4\n",
      "5\n",
      "6\n",
      "laxman1\n",
      "35.5\n",
      "8\n"
     ]
    }
   ],
   "source": [
    "for i in l :\n",
    "    if type(i) == int or type(i) == float:\n",
    "        print(i+1)\n",
    "    elif type(i) == str:\n",
    "        print(i + str(1))"
   ]
  },
  {
   "cell_type": "markdown",
   "metadata": {},
   "source": [
    "# Truthy & Falsy\n",
    "\n",
    "A \"truthy\" value will satisfy the check performed by if or while statements. We use \"truthy\" and \"falsy\" to differentiate from the boolean values True and False.\n",
    "\n",
    "All values are considered \"truthy\" except for the following, which are \"falsy\":\n",
    "\n",
    "None\n",
    "\n",
    "False\n",
    "\n",
    "0\n",
    "\n",
    "0.0\n",
    "\n",
    "[] - an empty list\n",
    "\n",
    "{} - an empty dict\n",
    "\n",
    "() - an empty tuple\n",
    "\n",
    "'' - an empty str"
   ]
  },
  {
   "cell_type": "code",
   "execution_count": 16,
   "metadata": {},
   "outputs": [
    {
     "name": "stdout",
     "output_type": "stream",
     "text": [
      "I have nothing to say\n"
     ]
    }
   ],
   "source": [
    " # Consider the following statement\n",
    "\n",
    "if False:\n",
    "  print(\"What do you say?\")\n",
    "else:\n",
    "  print(\"I have nothing to say\")"
   ]
  },
  {
   "cell_type": "code",
   "execution_count": null,
   "metadata": {},
   "outputs": [],
   "source": [
    "if []:\n",
    "      print(\"Well I had a really bad day!\")\n",
    "else:\n",
    "  print(\"Come on you aced your test.\")"
   ]
  },
  {
   "cell_type": "code",
   "execution_count": null,
   "metadata": {},
   "outputs": [],
   "source": [
    "if [111]:\n",
    "      print(\"Well I had a really bad day!\")\n",
    "else:\n",
    "  print(\"Come on you aced your test.\")"
   ]
  },
  {
   "cell_type": "code",
   "execution_count": null,
   "metadata": {},
   "outputs": [],
   "source": [
    "if {1:2,3:4}:\n",
    "      print(\"This is True\")\n",
    "else:\n",
    "  print(\"This is False\")"
   ]
  },
  {
   "cell_type": "code",
   "execution_count": null,
   "metadata": {},
   "outputs": [],
   "source": []
  }
 ],
 "metadata": {
  "kernelspec": {
   "display_name": "Python 3",
   "language": "python",
   "name": "python3"
  },
  "language_info": {
   "codemirror_mode": {
    "name": "ipython",
    "version": 3
   },
   "file_extension": ".py",
   "mimetype": "text/x-python",
   "name": "python",
   "nbconvert_exporter": "python",
   "pygments_lexer": "ipython3",
   "version": "3.12.8"
  }
 },
 "nbformat": 4,
 "nbformat_minor": 2
}
