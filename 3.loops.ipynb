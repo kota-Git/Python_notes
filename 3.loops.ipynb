{
 "cells": [
  {
   "cell_type": "markdown",
   "metadata": {},
   "source": [
    "# LOOPS ✅\n",
    "\n",
    "Loops are important in Python or in any other programming language as they help you to execute a block of code repeatedly. You will often come face to face with situations where you would need to use a piece of code over and over but you don't want to write the same line of code multiple times.\n",
    "\n",
    "\n",
    "In Python we have mainly two different types of loops :\n",
    "\n",
    "for loop : In the context of most data science work, Python for loops are used to loop through an iterable object (like a list, tuple, set, etc.) and perform the same action for each entry. For example, a for loop would allow us to iterate through a list, performing the same action on each item in the list.**"
   ]
  },
  {
   "cell_type": "code",
   "execution_count": 1,
   "metadata": {},
   "outputs": [],
   "source": [
    "ramu=\"I am learning data science\""
   ]
  },
  {
   "cell_type": "code",
   "execution_count": 2,
   "metadata": {},
   "outputs": [
    {
     "name": "stdout",
     "output_type": "stream",
     "text": [
      "I\n",
      " \n",
      "a\n",
      "m\n",
      " \n",
      "l\n",
      "e\n",
      "a\n",
      "r\n",
      "n\n",
      "i\n",
      "n\n",
      "g\n",
      " \n",
      "d\n",
      "a\n",
      "t\n",
      "a\n",
      " \n",
      "s\n",
      "c\n",
      "i\n",
      "e\n",
      "n\n",
      "c\n",
      "e\n"
     ]
    }
   ],
   "source": [
    "for i in ramu:\n",
    "  print(i)"
   ]
  },
  {
   "cell_type": "code",
   "execution_count": 3,
   "metadata": {},
   "outputs": [
    {
     "name": "stdout",
     "output_type": "stream",
     "text": [
      "I am learning data science"
     ]
    }
   ],
   "source": [
    "for i in ramu:\n",
    "  print(i,end=\"\")"
   ]
  },
  {
   "cell_type": "markdown",
   "metadata": {},
   "source": [
    "# break, continue, pass: ✅\n",
    "\n",
    "We can use break, continue, and pass statements in our loops to add additional functionality for various cases. The three statements are defined by:\n",
    "\n",
    "# Break --\n",
    "When Specific condition is met , break allows to terminate the loop and control transefered to the next statement (break: Allows loop termination when some condition is met and the control is transferred to the next statement.)\n",
    "\n",
    "# Continue\n",
    "when specific condition is met , Continue allows to skipping somepart of a loop and control transfed to the next loop (when specific condition is met , Continue allows to skipping somepart of a loop and control transfed to the next loop)"
   ]
  },
  {
   "cell_type": "markdown",
   "metadata": {},
   "source": [
    "# Pass\n",
    "\n",
    "it represents a null operation in python. it is an empty block of code , the purpose is excution of code without getting any errors used with function\n",
    "(pass: Used when you need some block of code syntactically, but you want to skip its execution. This is basically a null operation. Nothing happens when this is executed )"
   ]
  },
  {
   "cell_type": "markdown",
   "metadata": {},
   "source": [
    ">Pass\n",
    "it represents a null operation in python. it is an empty block of code , the purpose is excution of code without getting any errors used with function\n",
    "\n",
    "\n",
    "(pass: Used when you need some block of code syntactically, but you want to skip its execution. This is basically a null operation. Nothing happens when this is executed )"
   ]
  },
  {
   "cell_type": "code",
   "execution_count": 4,
   "metadata": {},
   "outputs": [],
   "source": [
    "for i in ramu:\n",
    "  pass"
   ]
  },
  {
   "cell_type": "code",
   "execution_count": 10,
   "metadata": {},
   "outputs": [
    {
     "name": "stdout",
     "output_type": "stream",
     "text": [
      "This is pass block P\n",
      "This is pass block y\n",
      "This is pass block t\n",
      "This is pass block h\n",
      "This is pass block o\n",
      "This is pass block n\n",
      "Current Letter : n\n",
      "Good bye!\n"
     ]
    }
   ],
   "source": [
    "for i in 'Python':\n",
    "    if i== 'h':                                 # example on pass\n",
    "        pass\n",
    "    print ('This is pass block' ,i)\n",
    "print ('Current Letter :', i)\n",
    "\n",
    "print (\"Good bye!\")"
   ]
  },
  {
   "cell_type": "code",
   "execution_count": 11,
   "metadata": {},
   "outputs": [
    {
     "name": "stdout",
     "output_type": "stream",
     "text": [
      "h\n",
      "a\n",
      "i\n",
      " \n",
      "h\n",
      "e\n",
      "l\n",
      "l\n",
      "o\n",
      " \n",
      "n\n",
      "a\n",
      "m\n",
      "a\n",
      "s\n",
      "t\n",
      "h\n",
      "e\n",
      "y\n"
     ]
    }
   ],
   "source": [
    "raju=\"hai hello namasthey\"\n",
    "for ram in raju:\n",
    "  print(ram)"
   ]
  },
  {
   "cell_type": "code",
   "execution_count": 12,
   "metadata": {},
   "outputs": [
    {
     "name": "stdout",
     "output_type": "stream",
     "text": [
      "h  a  i     h  e  l  l  o     n  a  m  a  s  t  h  e  y  "
     ]
    }
   ],
   "source": [
    "raju=\"hai hello namasthey\"\n",
    "for ram in raju:\n",
    "  print(ram,end=\"  \")"
   ]
  },
  {
   "cell_type": "code",
   "execution_count": 13,
   "metadata": {},
   "outputs": [
    {
     "name": "stdout",
     "output_type": "stream",
     "text": [
      "h\n",
      "a\n",
      "i\n",
      " \n",
      "h\n",
      "e\n",
      "l\n",
      "l\n",
      "o\n",
      " \n",
      "n\n",
      "a\n",
      "m\n",
      "a\n",
      "s\n",
      "t\n",
      "h\n",
      "e\n",
      "y\n",
      "if for loop is going to complete itself the it will execute else \n"
     ]
    }
   ],
   "source": [
    "for i in raju :\n",
    "    print(i)\n",
    "else :\n",
    "    print(\"if for loop is going to complete itself the it will execute else \")"
   ]
  },
  {
   "cell_type": "code",
   "execution_count": 19,
   "metadata": {},
   "outputs": [
    {
     "name": "stdout",
     "output_type": "stream",
     "text": [
      "current output p\n",
      "current output y\n",
      "current output t\n"
     ]
    }
   ],
   "source": [
    "for i in \"python\":\n",
    "    if i=='h':\n",
    "        break\n",
    "    print(f'current output {i}')"
   ]
  },
  {
   "cell_type": "code",
   "execution_count": 20,
   "metadata": {},
   "outputs": [
    {
     "name": "stdout",
     "output_type": "stream",
     "text": [
      " current out p\n",
      " current out y\n",
      " current out t\n",
      " current out o\n",
      " current out n\n"
     ]
    }
   ],
   "source": [
    "for i in \"python\":\n",
    "    if i ==\"h\":\n",
    "      continue\n",
    "    print(f\" current out {i}\")"
   ]
  },
  {
   "cell_type": "code",
   "execution_count": 21,
   "metadata": {},
   "outputs": [
    {
     "name": "stdout",
     "output_type": "stream",
     "text": [
      "1\n",
      "2\n",
      "3\n"
     ]
    }
   ],
   "source": [
    "a=[1,2,3,4,5,6,7,8]\n",
    "for i in a:\n",
    "    if i == 4 :\n",
    "        break\n",
    "    print(i)\n",
    "else :\n",
    "    print(\"this will execute only if for is going to complete itself\")"
   ]
  },
  {
   "cell_type": "code",
   "execution_count": 22,
   "metadata": {},
   "outputs": [
    {
     "name": "stdout",
     "output_type": "stream",
     "text": [
      "l\n",
      "a\n",
      "x\n",
      "m\n",
      "a\n",
      "n\n",
      "print srtring  laxman\n"
     ]
    }
   ],
   "source": [
    "c = \"laxman\"\n",
    "for i in c:\n",
    "    if i == 'z':\n",
    "        break\n",
    "    print(i)\n",
    "else :\n",
    "    print(\"print srtring \" , c )"
   ]
  },
  {
   "cell_type": "code",
   "execution_count": 23,
   "metadata": {},
   "outputs": [
    {
     "name": "stdout",
     "output_type": "stream",
     "text": [
      "l\n",
      "a\n",
      "x\n"
     ]
    }
   ],
   "source": [
    "c = \"laxman\"\n",
    "for i in c:\n",
    "    if i == 'm':\n",
    "        break\n",
    "    print(i)\n",
    "else :\n",
    "    print(\"print srtring \" , c )"
   ]
  },
  {
   "cell_type": "code",
   "execution_count": 24,
   "metadata": {},
   "outputs": [
    {
     "name": "stdout",
     "output_type": "stream",
     "text": [
      "l\n",
      "a\n",
      "x\n",
      "a\n",
      "n\n",
      "print srtring  laxman\n"
     ]
    }
   ],
   "source": [
    "c = \"laxman\"\n",
    "for i in c:\n",
    "    if i == 'm':\n",
    "        continue\n",
    "    print(i)\n",
    "else :\n",
    "    print(\"print srtring \" , c )"
   ]
  },
  {
   "cell_type": "code",
   "execution_count": 25,
   "metadata": {},
   "outputs": [
    {
     "ename": "NameError",
     "evalue": "name 'b' is not defined",
     "output_type": "error",
     "traceback": [
      "\u001b[1;31m---------------------------------------------------------------------------\u001b[0m",
      "\u001b[1;31mNameError\u001b[0m                                 Traceback (most recent call last)",
      "Cell \u001b[1;32mIn[25], line 5\u001b[0m\n\u001b[0;32m      1\u001b[0m \u001b[38;5;66;03m# some erros\u001b[39;00m\n\u001b[0;32m      3\u001b[0m a\u001b[38;5;241m=\u001b[39m\u001b[38;5;124m\"\u001b[39m\u001b[38;5;124mlaxman\u001b[39m\u001b[38;5;124m\"\u001b[39m\n\u001b[1;32m----> 5\u001b[0m \u001b[38;5;28mprint\u001b[39m(\u001b[43mb\u001b[49m)\n",
      "\u001b[1;31mNameError\u001b[0m: name 'b' is not defined"
     ]
    }
   ],
   "source": [
    "# some erros\n",
    "\n",
    "a=\"laxman\"\n",
    "\n",
    "print(b)"
   ]
  },
  {
   "cell_type": "code",
   "execution_count": 27,
   "metadata": {},
   "outputs": [
    {
     "name": "stdout",
     "output_type": "stream",
     "text": [
      "f\n",
      "h\n",
      "g\n",
      "j\n",
      "k\n",
      "h\n",
      "v\n",
      "j\n",
      "g\n",
      "c\n",
      "v\n",
      "k\n",
      "j\n",
      "h\n"
     ]
    }
   ],
   "source": [
    "a=\"fhgjkhvjgcvkjh\"\n",
    "for i in a:\n",
    "    print(i)"
   ]
  },
  {
   "cell_type": "code",
   "execution_count": 28,
   "metadata": {},
   "outputs": [
    {
     "name": "stdout",
     "output_type": "stream",
     "text": [
      "['datascience', 'is', 'very', 'hottest', 'job', 'in', 'industry']\n",
      "datascience\n",
      "is\n",
      "very\n",
      "hottest\n",
      "job\n",
      "in\n",
      "industry\n"
     ]
    }
   ],
   "source": [
    "# suppose we want to print the eachwords we use split method\n",
    "\n",
    "fact=\"datascience is very hottest job in industry\"\n",
    "\n",
    "fact=fact.split(' ')\n",
    "print(fact)\n",
    "for i in fact:\n",
    "  print(i)"
   ]
  },
  {
   "cell_type": "code",
   "execution_count": 29,
   "metadata": {},
   "outputs": [
    {
     "name": "stdout",
     "output_type": "stream",
     "text": [
      "['datascience', 'is', 'a', 'hottest', 'job', 'in', 'the', 'industry']\n",
      "is\n",
      "in\n",
      "industry\n",
      "['is', 'in', 'industry']\n"
     ]
    }
   ],
   "source": [
    "# suppose if we want to print out even number of words\n",
    "\n",
    "fact=\"datascience is a hottest job in the industry\"\n",
    "fact=fact.split(' ')\n",
    "print(fact)\n",
    "a=[]\n",
    "for i in fact:\n",
    "  if len(i)%2==0:\n",
    "    a.append(i)\n",
    "    print(i)\n",
    "print(a)"
   ]
  },
  {
   "cell_type": "code",
   "execution_count": 30,
   "metadata": {},
   "outputs": [
    {
     "name": "stdout",
     "output_type": "stream",
     "text": [
      "2\n",
      "46\n",
      "ravi\n",
      "True\n",
      "3.6\n"
     ]
    }
   ],
   "source": [
    "a=[2,46,\"ravi\",True,3.6]   # list with for loop\n",
    "\n",
    "for i in a:\n",
    "  print(i)"
   ]
  },
  {
   "cell_type": "code",
   "execution_count": 31,
   "metadata": {},
   "outputs": [
    {
     "name": "stdout",
     "output_type": "stream",
     "text": [
      "4\n",
      "5\n",
      "6\n",
      "7\n",
      "8\n",
      "6\n",
      "laxman\n",
      "lova\n"
     ]
    }
   ],
   "source": [
    "t = (4,5,6,7,8,6,\"laxman\",\"lova\")        # tuples with for loop\n",
    "for i in t :\n",
    "    print(i)"
   ]
  },
  {
   "cell_type": "code",
   "execution_count": 32,
   "metadata": {},
   "outputs": [
    {
     "name": "stdout",
     "output_type": "stream",
     "text": [
      "1\n",
      "3\n",
      "7\n",
      "8\n",
      "9\n",
      "ramu\n",
      "ravi\n"
     ]
    }
   ],
   "source": [
    "s={1,3,7,9,\"ravi\",\"ramu\",9,7,8,9,1}   #  set with for loop\n",
    "\n",
    "for i in s:\n",
    "  print(i)"
   ]
  },
  {
   "cell_type": "code",
   "execution_count": 33,
   "metadata": {},
   "outputs": [
    {
     "name": "stdout",
     "output_type": "stream",
     "text": [
      "key1\n",
      "contact\n",
      "position\n"
     ]
    }
   ],
   "source": [
    "d={'key1' :\"laxman\" , 'contact' : \"8686860563\" , \"position\" : \"Subject_matter_expert\"}    # dict with for loop\n",
    "\n",
    "for i in d:\n",
    "  print(i)"
   ]
  },
  {
   "cell_type": "code",
   "execution_count": 34,
   "metadata": {},
   "outputs": [
    {
     "name": "stdout",
     "output_type": "stream",
     "text": [
      "laxman\n",
      "8686860563\n",
      "Subject_matter_expert\n"
     ]
    }
   ],
   "source": [
    "for i in d:\n",
    "  print(d[i])"
   ]
  },
  {
   "cell_type": "code",
   "execution_count": 35,
   "metadata": {},
   "outputs": [
    {
     "name": "stdout",
     "output_type": "stream",
     "text": [
      "key1 : laxman\n",
      "contact : 8686860563\n",
      "position : Subject_matter_expert\n"
     ]
    }
   ],
   "source": [
    "for i in d :\n",
    "    print(i ,\":\" ,  d[i] )"
   ]
  },
  {
   "cell_type": "code",
   "execution_count": 36,
   "metadata": {},
   "outputs": [
    {
     "name": "stdout",
     "output_type": "stream",
     "text": [
      "0\n",
      "1\n",
      "2\n",
      "3\n"
     ]
    }
   ],
   "source": [
    "for i in range(4):\n",
    "  print(i)"
   ]
  },
  {
   "cell_type": "code",
   "execution_count": 37,
   "metadata": {},
   "outputs": [
    {
     "name": "stdout",
     "output_type": "stream",
     "text": [
      "1\n",
      "2\n",
      "3\n"
     ]
    }
   ],
   "source": [
    "for i in range(1,4):\n",
    "  print(i)"
   ]
  },
  {
   "cell_type": "code",
   "execution_count": 38,
   "metadata": {},
   "outputs": [
    {
     "name": "stdout",
     "output_type": "stream",
     "text": [
      "1\n",
      "3\n",
      "5\n"
     ]
    }
   ],
   "source": [
    "for i in range(1,6,2):\n",
    "  print(i)"
   ]
  },
  {
   "cell_type": "code",
   "execution_count": 39,
   "metadata": {},
   "outputs": [],
   "source": [
    "for i in range(1,6,-1):\n",
    "  print(i)"
   ]
  },
  {
   "cell_type": "code",
   "execution_count": 40,
   "metadata": {},
   "outputs": [
    {
     "name": "stdout",
     "output_type": "stream",
     "text": [
      "-1\n",
      "-2\n",
      "-3\n",
      "-4\n",
      "-5\n"
     ]
    }
   ],
   "source": [
    "for i in range(-1,-6,-1):\n",
    "  print(i)"
   ]
  },
  {
   "cell_type": "code",
   "execution_count": 41,
   "metadata": {},
   "outputs": [
    {
     "name": "stdout",
     "output_type": "stream",
     "text": [
      "6\n",
      "5\n",
      "4\n",
      "3\n",
      "2\n"
     ]
    }
   ],
   "source": [
    "for i in range(6,1,-1):\n",
    "  print(i)"
   ]
  },
  {
   "cell_type": "code",
   "execution_count": 42,
   "metadata": {},
   "outputs": [],
   "source": [
    "for i in range(6,-1,1):\n",
    "  print(i)"
   ]
  },
  {
   "cell_type": "code",
   "execution_count": 43,
   "metadata": {},
   "outputs": [
    {
     "name": "stdout",
     "output_type": "stream",
     "text": [
      "6\n",
      "5\n",
      "4\n",
      "3\n",
      "2\n",
      "1\n",
      "0\n"
     ]
    }
   ],
   "source": [
    "for i in range(6,-1,-1):\n",
    "  print(i)"
   ]
  },
  {
   "cell_type": "code",
   "execution_count": 44,
   "metadata": {},
   "outputs": [
    {
     "name": "stdout",
     "output_type": "stream",
     "text": [
      "5\n",
      "4\n",
      "3\n",
      "2\n",
      "1\n",
      "0\n"
     ]
    }
   ],
   "source": [
    "for i in range(6-1,-1,-1):\n",
    "  print(i)"
   ]
  },
  {
   "cell_type": "code",
   "execution_count": 45,
   "metadata": {},
   "outputs": [
    {
     "data": {
      "text/plain": [
       "4"
      ]
     },
     "execution_count": 45,
     "metadata": {},
     "output_type": "execute_result"
    }
   ],
   "source": [
    "a=\"ravi\"\n",
    "len(a)"
   ]
  },
  {
   "cell_type": "code",
   "execution_count": 46,
   "metadata": {},
   "outputs": [
    {
     "name": "stdout",
     "output_type": "stream",
     "text": [
      "0\n",
      "1\n",
      "2\n",
      "3\n"
     ]
    }
   ],
   "source": [
    "for i in range(len(a)):\n",
    "  print(i)"
   ]
  },
  {
   "cell_type": "code",
   "execution_count": 47,
   "metadata": {},
   "outputs": [
    {
     "name": "stdout",
     "output_type": "stream",
     "text": [
      "datascience\n",
      "\n",
      "0\n",
      "1\n",
      "2\n",
      "3\n",
      "4\n",
      "5\n",
      "6\n",
      "7\n",
      "8\n",
      "9\n",
      "10\n"
     ]
    }
   ],
   "source": [
    " #string index values\n",
    "fact=\"datascience\"\n",
    "print(fact)\n",
    "print()\n",
    "for i in range(len(fact)):\n",
    "  print(i)"
   ]
  },
  {
   "cell_type": "code",
   "execution_count": 48,
   "metadata": {},
   "outputs": [
    {
     "name": "stdout",
     "output_type": "stream",
     "text": [
      "datascience\n",
      "\n",
      "0 d\n",
      "1 a\n",
      "2 t\n",
      "3 a\n",
      "4 s\n",
      "5 c\n",
      "6 i\n",
      "7 e\n",
      "8 n\n",
      "9 c\n",
      "10 e\n"
     ]
    }
   ],
   "source": [
    "# string elements index values\n",
    "fact=\"datascience\"\n",
    "print(fact)\n",
    "print()\n",
    "for i in range(len(fact)):\n",
    "  print(i,fact[i])"
   ]
  },
  {
   "cell_type": "code",
   "execution_count": 49,
   "metadata": {},
   "outputs": [
    {
     "name": "stdout",
     "output_type": "stream",
     "text": [
      "0\n",
      "1\n",
      "2\n",
      "3\n",
      "4\n",
      "5\n"
     ]
    }
   ],
   "source": [
    "# list elements index values\n",
    "\n",
    "a=[12,43,\"ravi\",\"lova\",True,3+6j]\n",
    "\n",
    "for i in range(len(a)):\n",
    "  print(i)"
   ]
  },
  {
   "cell_type": "code",
   "execution_count": 50,
   "metadata": {},
   "outputs": [
    {
     "name": "stdout",
     "output_type": "stream",
     "text": [
      "0 12\n",
      "1 43\n",
      "2 ravi\n",
      "3 lova\n",
      "4 True\n",
      "5 88\n"
     ]
    }
   ],
   "source": [
    "# list elements with indexs\n",
    "\n",
    "a=[12,43,\"ravi\",\"lova\",True,88]\n",
    "\n",
    "for i in range(len(a)):\n",
    "  print(i,a[i])"
   ]
  },
  {
   "cell_type": "code",
   "execution_count": 51,
   "metadata": {},
   "outputs": [
    {
     "name": "stdout",
     "output_type": "stream",
     "text": [
      "0\n",
      "1\n",
      "2\n",
      "3\n",
      "4\n",
      "5\n",
      "6\n",
      "7\n"
     ]
    }
   ],
   "source": [
    "t = (4,5,6,7,8,6,\"laxman\",\"lova\")         # tuples index values\n",
    "for i in range(len(t)) :\n",
    "    print(i)"
   ]
  },
  {
   "cell_type": "code",
   "execution_count": 52,
   "metadata": {},
   "outputs": [
    {
     "name": "stdout",
     "output_type": "stream",
     "text": [
      "0 4\n",
      "1 5\n",
      "2 6\n",
      "3 7\n",
      "4 8\n",
      "5 6\n",
      "6 laxman\n",
      "7 lova\n"
     ]
    }
   ],
   "source": [
    "t = (4,5,6,7,8,6,\"laxman\",\"lova\")        # tuples items  with index\n",
    "for i in range(len(t)) :\n",
    "    print(i,t[i])"
   ]
  },
  {
   "cell_type": "code",
   "execution_count": 53,
   "metadata": {},
   "outputs": [
    {
     "name": "stdout",
     "output_type": "stream",
     "text": [
      "0\n",
      "1\n",
      "2\n",
      "3\n",
      "4\n",
      "5\n",
      "6\n"
     ]
    }
   ],
   "source": [
    "s={1,3,7,9,\"ravi\",\"ramu\",9,7,8,9,1}   #  set with for loop\n",
    "\n",
    "for i in range(len(s)):\n",
    "  print(i)"
   ]
  },
  {
   "cell_type": "code",
   "execution_count": 54,
   "metadata": {},
   "outputs": [
    {
     "ename": "TypeError",
     "evalue": "'set' object is not subscriptable",
     "output_type": "error",
     "traceback": [
      "\u001b[1;31m---------------------------------------------------------------------------\u001b[0m",
      "\u001b[1;31mTypeError\u001b[0m                                 Traceback (most recent call last)",
      "Cell \u001b[1;32mIn[54], line 4\u001b[0m\n\u001b[0;32m      1\u001b[0m s\u001b[38;5;241m=\u001b[39m{\u001b[38;5;241m1\u001b[39m,\u001b[38;5;241m3\u001b[39m,\u001b[38;5;241m7\u001b[39m,\u001b[38;5;241m9\u001b[39m,\u001b[38;5;124m\"\u001b[39m\u001b[38;5;124mravi\u001b[39m\u001b[38;5;124m\"\u001b[39m,\u001b[38;5;124m\"\u001b[39m\u001b[38;5;124mramu\u001b[39m\u001b[38;5;124m\"\u001b[39m,\u001b[38;5;241m9\u001b[39m,\u001b[38;5;241m7\u001b[39m,\u001b[38;5;241m8\u001b[39m,\u001b[38;5;241m9\u001b[39m,\u001b[38;5;241m1\u001b[39m}   \u001b[38;5;66;03m#  note Sets don't have index values\u001b[39;00m\n\u001b[0;32m      3\u001b[0m \u001b[38;5;28;01mfor\u001b[39;00m i \u001b[38;5;129;01min\u001b[39;00m \u001b[38;5;28mrange\u001b[39m(\u001b[38;5;28mlen\u001b[39m(s)):\n\u001b[1;32m----> 4\u001b[0m   \u001b[38;5;28mprint\u001b[39m(i,\u001b[43ms\u001b[49m\u001b[43m[\u001b[49m\u001b[43mi\u001b[49m\u001b[43m]\u001b[49m)\n",
      "\u001b[1;31mTypeError\u001b[0m: 'set' object is not subscriptable"
     ]
    }
   ],
   "source": [
    "s={1,3,7,9,\"ravi\",\"ramu\",9,7,8,9,1}   #  note Sets don't have index values\n",
    "\n",
    "for i in range(len(s)):\n",
    "  print(i,s[i])"
   ]
  },
  {
   "cell_type": "code",
   "execution_count": 55,
   "metadata": {},
   "outputs": [
    {
     "name": "stdout",
     "output_type": "stream",
     "text": [
      "key1 : laxman\n",
      "contact : 8686860563\n",
      "position : Subject_matter_expert\n"
     ]
    }
   ],
   "source": [
    "d={'key1' :\"laxman\" , 'contact' : \"8686860563\" , \"position\" : \"Subject_matter_expert\"}    # dict with for loop\n",
    "\n",
    "for i in  d:\n",
    "  print(i,\":\",d[i])"
   ]
  },
  {
   "cell_type": "code",
   "execution_count": 56,
   "metadata": {},
   "outputs": [
    {
     "name": "stdout",
     "output_type": "stream",
     "text": [
      "b : 6\n",
      "n : 3\n",
      "j : 7\n",
      "z : 1\n",
      "l : 1\n",
      "f : 1\n",
      "h : 2\n",
      "s : 6\n",
      "k : 3\n",
      "c : 2\n",
      "i : 1\n",
      "v : 3\n",
      "d : 2\n"
     ]
    }
   ],
   "source": [
    "x=\"nvkjbnkjznjckbdsjsbvjdisbhjshbscbsfljv\"\n",
    "\n",
    "for i in set(x):\n",
    "\n",
    "  print(i,\":\",x.count(i))"
   ]
  },
  {
   "cell_type": "code",
   "execution_count": 57,
   "metadata": {},
   "outputs": [
    {
     "name": "stdout",
     "output_type": "stream",
     "text": [
      "c\n",
      "a\n",
      "e\n"
     ]
    }
   ],
   "source": [
    "# for duplicated items\n",
    "x=\"datascience\"\n",
    "for i in set(x):\n",
    "  if x.count(i)>1:\n",
    "    print(i)"
   ]
  },
  {
   "cell_type": "code",
   "execution_count": 58,
   "metadata": {},
   "outputs": [
    {
     "name": "stdout",
     "output_type": "stream",
     "text": [
      "n\n",
      "s\n",
      "t\n",
      "i\n",
      "d\n"
     ]
    }
   ],
   "source": [
    "# for unique items\n",
    "x=\"datascience\"\n",
    "for i in set(x):\n",
    "  if x.count(i)==1:\n",
    "    print(i)"
   ]
  },
  {
   "cell_type": "code",
   "execution_count": 59,
   "metadata": {},
   "outputs": [
    {
     "name": "stdout",
     "output_type": "stream",
     "text": [
      "Counter({'a': 2, 'c': 2, 'e': 2, 'd': 1, 't': 1, 's': 1, 'i': 1, 'n': 1})\n"
     ]
    }
   ],
   "source": [
    "#we can also use Counter\n",
    "from collections import Counter\n",
    "x=\"datascience\"\n",
    "\n",
    "print(Counter(x))"
   ]
  },
  {
   "cell_type": "code",
   "execution_count": 60,
   "metadata": {},
   "outputs": [
    {
     "name": "stdout",
     "output_type": "stream",
     "text": [
      "a\n",
      "c\n",
      "e\n"
     ]
    }
   ],
   "source": [
    "# finding dupicates\n",
    "from collections import Counter\n",
    "x=\"datascience\"\n",
    "x=Counter(x)\n",
    "\n",
    "for i,j in x.items():\n",
    "  if j>1:\n",
    "    print(i)"
   ]
  },
  {
   "cell_type": "code",
   "execution_count": 61,
   "metadata": {},
   "outputs": [
    {
     "name": "stdout",
     "output_type": "stream",
     "text": [
      "d\n",
      "t\n",
      "s\n",
      "i\n",
      "n\n"
     ]
    }
   ],
   "source": [
    "# finding unique\n",
    "from collections import Counter\n",
    "x=\"datascience\"\n",
    "x=Counter(x)\n",
    "\n",
    "for i,j in x.items():\n",
    "  if j==1:\n",
    "    print(i)"
   ]
  },
  {
   "cell_type": "code",
   "execution_count": 62,
   "metadata": {},
   "outputs": [
    {
     "name": "stdout",
     "output_type": "stream",
     "text": [
      "even number [10, 4, 66]\n",
      "odd numbers [21, 45, 93]\n"
     ]
    }
   ],
   "source": [
    "# to print even numbers in a list   understanding append working\n",
    "\n",
    "even=[]\n",
    "\n",
    "odd=[]\n",
    "\n",
    "list4 = [10, 21, 4, 45, 66, 93]\n",
    "\n",
    "# iterating each number in list\n",
    "for i in list4:\n",
    "\n",
    "    # checking condition\n",
    "    if i% 2 == 0:\n",
    "      even.append(i)\n",
    "\n",
    "\n",
    "    else:\n",
    "      odd.append(i)\n",
    "print(f\"even number {even}\")\n",
    "print(f\"odd numbers {odd}\")"
   ]
  },
  {
   "cell_type": "markdown",
   "metadata": {},
   "source": [
    "# while loop :\n",
    "\n",
    "The while loop is somewhat similar to an if statement, it executes the code inside, if the condition is True. However, as opposed to the if statement, the while loop continues to execute the code repeatedly as long as the condition is True"
   ]
  },
  {
   "cell_type": "code",
   "execution_count": 63,
   "metadata": {},
   "outputs": [
    {
     "name": "stdout",
     "output_type": "stream",
     "text": [
      "x is currently:  0\n",
      "\n",
      "updates x values: 1\n",
      "x is currently:  1\n",
      "\n",
      "updates x values: 2\n",
      "x is currently:  2\n",
      "\n",
      "updates x values: 3\n",
      "x is currently:  3\n",
      "\n",
      "updates x values: 4\n",
      "x is currently:  4\n",
      "\n",
      "updates x values: 5\n"
     ]
    }
   ],
   "source": [
    "x = 0\n",
    "\n",
    "while x < 5:\n",
    "\n",
    "  print('x is currently: ',x)\n",
    "  x=x+1\n",
    "  print()\n",
    "  print(f\"updates x values: {x}\")"
   ]
  },
  {
   "cell_type": "code",
   "execution_count": 64,
   "metadata": {},
   "outputs": [
    {
     "name": "stdout",
     "output_type": "stream",
     "text": [
      "5\n"
     ]
    }
   ],
   "source": [
    "print(x)"
   ]
  },
  {
   "cell_type": "code",
   "execution_count": null,
   "metadata": {},
   "outputs": [],
   "source": [
    "# while is also called infinity loop\n",
    "x = 0\n",
    "\n",
    "while x < 5:\n",
    "\n",
    "  print('x is currently: ',x)\n",
    "  x=x-1\n",
    "  print()\n",
    "  print(f\"updates x values: {x}\")"
   ]
  },
  {
   "cell_type": "code",
   "execution_count": 65,
   "metadata": {},
   "outputs": [
    {
     "name": "stdout",
     "output_type": "stream",
     "text": [
      "x is currently:  0\n",
      "\n",
      "updates x values: 1\n",
      "x is currently:  1\n",
      "\n",
      "updates x values: 2\n",
      "x is currently:  2\n",
      "\n",
      "updates x values: 3\n",
      "x is currently:  3\n",
      "\n",
      "updates x values: 4\n",
      "x is currently:  4\n",
      "\n",
      "updates x values: 5\n",
      "x is currently:  5\n",
      "\n",
      "updates x values: 6\n",
      "x is currently:  6\n",
      "\n",
      "updates x values: 7\n",
      "x is currently:  7\n",
      "\n",
      "updates x values: 8\n",
      "x is currently:  8\n",
      "\n",
      "updates x values: 9\n",
      "x is currently:  9\n",
      "\n",
      "updates x values: 10\n",
      "if  while loop is going to complete itself the it will execute else block \n"
     ]
    }
   ],
   "source": [
    "x = 0\n",
    "\n",
    "while x < 10:\n",
    "\n",
    "  print('x is currently: ',x)\n",
    "  x=x+1\n",
    "  print()\n",
    "  print(f\"updates x values:\",x)\n",
    "\n",
    "else :\n",
    "  print(\"if  while loop is going to complete itself the it will execute else block \")"
   ]
  },
  {
   "cell_type": "code",
   "execution_count": 66,
   "metadata": {},
   "outputs": [
    {
     "name": "stdout",
     "output_type": "stream",
     "text": [
      "10\n"
     ]
    }
   ],
   "source": [
    "print(x)    # after using while loop , the X  takes updated value only ,not X=0 value"
   ]
  },
  {
   "cell_type": "code",
   "execution_count": 67,
   "metadata": {},
   "outputs": [
    {
     "name": "stdout",
     "output_type": "stream",
     "text": [
      "0\n",
      "1\n",
      "2\n",
      "3\n",
      "4\n",
      "5\n",
      "6\n"
     ]
    }
   ],
   "source": [
    "a = 0\n",
    "\n",
    "while a <10 :\n",
    "    print(a)\n",
    "    if a == 6:\n",
    "        break\n",
    "    a = a +1\n",
    "else :\n",
    "    print(\"print this \")"
   ]
  },
  {
   "cell_type": "code",
   "execution_count": null,
   "metadata": {},
   "outputs": [],
   "source": [
    "a = 0\n",
    "\n",
    "while a < 10 :\n",
    "    print(a)\n",
    "    if a == 4:\n",
    "        continue\n",
    "    a = a +1"
   ]
  },
  {
   "cell_type": "code",
   "execution_count": 68,
   "metadata": {},
   "outputs": [
    {
     "name": "stdout",
     "output_type": "stream",
     "text": [
      "1\n",
      "2\n",
      "3\n",
      "4\n",
      "5\n",
      "6\n",
      "7\n",
      "8\n",
      "9\n",
      "10\n"
     ]
    }
   ],
   "source": [
    "a = 0\n",
    "\n",
    "while a < 10 :\n",
    "    a = a +1\n",
    "    if a == 3:\n",
    "        pass\n",
    "    print(a)"
   ]
  },
  {
   "cell_type": "code",
   "execution_count": 69,
   "metadata": {},
   "outputs": [
    {
     "name": "stdout",
     "output_type": "stream",
     "text": [
      "0 1\n",
      "\n",
      "1 2\n",
      "\n",
      "2 3\n",
      "\n",
      "3 4\n",
      "\n",
      "4 ravi\n",
      "\n",
      "if while loop is going to complete itself the it will execute else \n"
     ]
    }
   ],
   "source": [
    "a=[1,2,3,4,\"ravi\"]\n",
    "\n",
    "i=0\n",
    "while i < len(a):\n",
    "  print(i,a[i])\n",
    "  i=i+1\n",
    "  print()\n",
    "else :\n",
    "  print(\"if while loop is going to complete itself the it will execute else \")"
   ]
  },
  {
   "cell_type": "code",
   "execution_count": 70,
   "metadata": {},
   "outputs": [
    {
     "name": "stdout",
     "output_type": "stream",
     "text": [
      "0\n",
      "1\n",
      "2\n",
      "3\n",
      "4\n",
      "5\n",
      "6\n",
      "7\n",
      "8\n",
      "9\n",
      "10\n"
     ]
    }
   ],
   "source": [
    "a=\"datascience\"\n",
    "\n",
    "i=0\n",
    "while i < len(a):\n",
    "  print(i)\n",
    "  i=i+1"
   ]
  },
  {
   "cell_type": "code",
   "execution_count": 71,
   "metadata": {},
   "outputs": [
    {
     "name": "stdout",
     "output_type": "stream",
     "text": [
      "0 d\n",
      "1 a\n",
      "2 t\n",
      "3 a\n",
      "4 s\n",
      "5 c\n",
      "6 i\n",
      "7 e\n",
      "8 n\n",
      "9 c\n",
      "10 e\n"
     ]
    }
   ],
   "source": [
    "a=\"datascience\"\n",
    "\n",
    "i=0\n",
    "while i < len(a):\n",
    "  print(i,a[i])\n",
    "  i=i+1"
   ]
  },
  {
   "cell_type": "code",
   "execution_count": 72,
   "metadata": {},
   "outputs": [
    {
     "name": "stdout",
     "output_type": "stream",
     "text": [
      "0 1\n",
      "1 2\n",
      "2 3\n",
      "3 4\n",
      "4 ravi\n"
     ]
    }
   ],
   "source": [
    "a=[1,2,3,4,\"ravi\"]\n",
    "\n",
    "i=0\n",
    "while i < len(a):\n",
    "  print(i,a[i])\n",
    "  i=i+1"
   ]
  },
  {
   "cell_type": "code",
   "execution_count": 73,
   "metadata": {},
   "outputs": [
    {
     "name": "stdout",
     "output_type": "stream",
     "text": [
      "0 4\n",
      "1 5\n",
      "2 6\n",
      "3 7\n",
      "4 8\n",
      "5 6\n",
      "6 laxman\n",
      "7 lova\n"
     ]
    }
   ],
   "source": [
    "t = (4,5,6,7,8,6,\"laxman\",\"lova\")\n",
    "\n",
    "i=0\n",
    "while i < len(t):\n",
    "  print(i,t[i])\n",
    "  i=i+1"
   ]
  },
  {
   "cell_type": "code",
   "execution_count": 74,
   "metadata": {},
   "outputs": [
    {
     "ename": "TypeError",
     "evalue": "'set' object is not subscriptable",
     "output_type": "error",
     "traceback": [
      "\u001b[1;31m---------------------------------------------------------------------------\u001b[0m",
      "\u001b[1;31mTypeError\u001b[0m                                 Traceback (most recent call last)",
      "Cell \u001b[1;32mIn[74], line 4\u001b[0m\n\u001b[0;32m      2\u001b[0m i\u001b[38;5;241m=\u001b[39m\u001b[38;5;241m0\u001b[39m\n\u001b[0;32m      3\u001b[0m \u001b[38;5;28;01mwhile\u001b[39;00m i \u001b[38;5;241m<\u001b[39m \u001b[38;5;28mlen\u001b[39m(s):\n\u001b[1;32m----> 4\u001b[0m   \u001b[38;5;28mprint\u001b[39m(i,\u001b[43ms\u001b[49m\u001b[43m[\u001b[49m\u001b[43mi\u001b[49m\u001b[43m]\u001b[49m)\n\u001b[0;32m      5\u001b[0m   i\u001b[38;5;241m=\u001b[39mi\u001b[38;5;241m+\u001b[39m\u001b[38;5;241m1\u001b[39m\n",
      "\u001b[1;31mTypeError\u001b[0m: 'set' object is not subscriptable"
     ]
    }
   ],
   "source": [
    "s={1,3,7,9,\"ravi\",\"ramu\",9,7,8,9,1}   #  note Sets don't have index values\n",
    "i=0\n",
    "while i < len(s):\n",
    "  print(i,s[i])\n",
    "  i=i+1"
   ]
  },
  {
   "cell_type": "code",
   "execution_count": 75,
   "metadata": {},
   "outputs": [
    {
     "name": "stdout",
     "output_type": "stream",
     "text": [
      "key1 : laxman\n",
      "contact : 8686860563\n",
      "position : Subject_matter_expert\n"
     ]
    }
   ],
   "source": [
    "\n",
    "\n",
    "d = {'key1': \"laxman\", 'contact': \"8686860563\", \"position\": \"Subject_matter_expert\"}\n",
    "\n",
    "keys = list(d.keys())  # Convert dictionary keys to a list\n",
    "\n",
    "i = 0\n",
    "while i < len(keys):\n",
    "    print(keys[i], \":\", d[keys[i]])\n",
    "    i =i+1\n"
   ]
  },
  {
   "cell_type": "code",
   "execution_count": 76,
   "metadata": {},
   "outputs": [
    {
     "name": "stdout",
     "output_type": "stream",
     "text": [
      "index of 4 is s\n"
     ]
    }
   ],
   "source": [
    "a=\"datascience\"\n",
    "\n",
    "i=0\n",
    "while i < len(a):\n",
    "  if a[i]==\"s\":\n",
    "    print(f\"index of {i} is {a[i]}\")\n",
    "  i=i+1\n"
   ]
  },
  {
   "cell_type": "code",
   "execution_count": 77,
   "metadata": {},
   "outputs": [
    {
     "name": "stdout",
     "output_type": "stream",
     "text": [
      "11\n",
      "index of -9 is t\n"
     ]
    }
   ],
   "source": [
    "a=\"datascience\"\n",
    "print(len(a))\n",
    "\n",
    "i=0\n",
    "while i >-len(a):\n",
    "  if a[i]==\"t\":\n",
    "    print(f\"index of {i} is {a[i]}\")\n",
    "  i=i-1"
   ]
  },
  {
   "cell_type": "code",
   "execution_count": 78,
   "metadata": {},
   "outputs": [
    {
     "name": "stdout",
     "output_type": "stream",
     "text": [
      "-6\n",
      "-7\n"
     ]
    },
    {
     "ename": "IndexError",
     "evalue": "tuple index out of range",
     "output_type": "error",
     "traceback": [
      "\u001b[1;31m---------------------------------------------------------------------------\u001b[0m",
      "\u001b[1;31mIndexError\u001b[0m                                Traceback (most recent call last)",
      "Cell \u001b[1;32mIn[78], line 4\u001b[0m\n\u001b[0;32m      2\u001b[0m i\u001b[38;5;241m=\u001b[39m\u001b[38;5;241m0\u001b[39m\n\u001b[0;32m      3\u001b[0m \u001b[38;5;28;01mwhile\u001b[39;00m i\u001b[38;5;241m<\u001b[39m \u001b[38;5;28mlen\u001b[39m(x):\n\u001b[1;32m----> 4\u001b[0m     \u001b[38;5;28;01mif\u001b[39;00m(\u001b[43mx\u001b[49m\u001b[43m[\u001b[49m\u001b[43mi\u001b[49m\u001b[43m]\u001b[49m\u001b[38;5;241m==\u001b[39m\u001b[38;5;241m3\u001b[39m) \u001b[38;5;129;01mor\u001b[39;00m x[i]\u001b[38;5;241m==\u001b[39m\u001b[38;5;241m4\u001b[39m:\n\u001b[0;32m      5\u001b[0m         \u001b[38;5;28mprint\u001b[39m(i)\n\u001b[0;32m      6\u001b[0m     i \u001b[38;5;241m=\u001b[39m i\u001b[38;5;241m-\u001b[39m\u001b[38;5;241m1\u001b[39m\n",
      "\u001b[1;31mIndexError\u001b[0m: tuple index out of range"
     ]
    }
   ],
   "source": [
    "x=(0,1,2,3,4,5,6,7,8,9)\n",
    "i=0\n",
    "while i< len(x):\n",
    "    if(x[i]==3) or x[i]==4:\n",
    "        print(i)\n",
    "    i = i-1"
   ]
  },
  {
   "cell_type": "code",
   "execution_count": 79,
   "metadata": {},
   "outputs": [
    {
     "name": "stdout",
     "output_type": "stream",
     "text": [
      "-3\n",
      "-4\n"
     ]
    }
   ],
   "source": [
    "x=(0,1,2,3,4,5,6,7,8,9)\n",
    "i=0\n",
    "while i< len(x):\n",
    "    if(x[i]==6) or x[i]==7:\n",
    "        print(i)\n",
    "    if i == -len(x):\n",
    "        break\n",
    "\n",
    "    i = i-1"
   ]
  },
  {
   "cell_type": "code",
   "execution_count": 80,
   "metadata": {},
   "outputs": [
    {
     "name": "stdout",
     "output_type": "stream",
     "text": [
      "index of 3 is 4\n"
     ]
    }
   ],
   "source": [
    "a=[1,2,3,4,\"ravi\"]\n",
    "\n",
    "i=0\n",
    "while i < len(a):\n",
    "  if a[i]==4:\n",
    "    print(f\"index of {i} is {a[i]}\")\n",
    "  i=i+1"
   ]
  },
  {
   "cell_type": "code",
   "execution_count": 81,
   "metadata": {},
   "outputs": [
    {
     "name": "stdout",
     "output_type": "stream",
     "text": [
      "index of 7 is lova\n"
     ]
    }
   ],
   "source": [
    "t = (4,5,6,7,8,6,\"laxman\",\"lova\")\n",
    "\n",
    "i=0\n",
    "while i < len(t):\n",
    "  if t[i]==\"lova\":\n",
    "    print(f\"index of {i} is {t[i]}\")\n",
    "  i=i+1"
   ]
  },
  {
   "cell_type": "code",
   "execution_count": null,
   "metadata": {},
   "outputs": [],
   "source": []
  },
  {
   "cell_type": "code",
   "execution_count": null,
   "metadata": {},
   "outputs": [],
   "source": []
  },
  {
   "cell_type": "code",
   "execution_count": null,
   "metadata": {},
   "outputs": [],
   "source": []
  },
  {
   "cell_type": "code",
   "execution_count": null,
   "metadata": {},
   "outputs": [],
   "source": []
  },
  {
   "cell_type": "code",
   "execution_count": null,
   "metadata": {},
   "outputs": [],
   "source": []
  },
  {
   "cell_type": "code",
   "execution_count": null,
   "metadata": {},
   "outputs": [],
   "source": []
  },
  {
   "cell_type": "markdown",
   "metadata": {},
   "source": []
  }
 ],
 "metadata": {
  "kernelspec": {
   "display_name": "sabikds",
   "language": "python",
   "name": "python3"
  },
  "language_info": {
   "codemirror_mode": {
    "name": "ipython",
    "version": 3
   },
   "file_extension": ".py",
   "mimetype": "text/x-python",
   "name": "python",
   "nbconvert_exporter": "python",
   "pygments_lexer": "ipython3",
   "version": "3.8.19"
  }
 },
 "nbformat": 4,
 "nbformat_minor": 2
}
