{
 "cells": [
  {
   "cell_type": "markdown",
   "metadata": {},
   "source": [
    "# Day-3"
   ]
  },
  {
   "cell_type": "markdown",
   "metadata": {},
   "source": [
    "# **Introduction to Strings** ✅"
   ]
  },
  {
   "cell_type": "markdown",
   "metadata": {},
   "source": [
    "Strings are used in Python to record text information, such as names. It could either be a word, a phrase, a sentence, a paragraph or an entire encyclopedia. Strings in Python are actually a sequence, which basically means Python keeps track of every element in the string as a sequence"
   ]
  },
  {
   "cell_type": "markdown",
   "metadata": {},
   "source": [
    "# Creating a String"
   ]
  },
  {
   "cell_type": "markdown",
   "metadata": {},
   "source": [
    "To create a string in Python you need to use either single quotes or double quotes"
   ]
  },
  {
   "cell_type": "code",
   "execution_count": 25,
   "metadata": {},
   "outputs": [],
   "source": [
    "x = \"John\"\n",
    "# is the same as\n",
    "x = 'John'"
   ]
  },
  {
   "cell_type": "code",
   "execution_count": 26,
   "metadata": {},
   "outputs": [
    {
     "name": "stdout",
     "output_type": "stream",
     "text": [
      "deeplearning sits at the heart of GenerativeAI\n"
     ]
    }
   ],
   "source": [
    "sen= 'deeplearning sits at the heart of GenerativeAI'\n",
    "print(sen)"
   ]
  },
  {
   "cell_type": "code",
   "execution_count": 27,
   "metadata": {},
   "outputs": [
    {
     "data": {
      "text/plain": [
       "str"
      ]
     },
     "execution_count": 27,
     "metadata": {},
     "output_type": "execute_result"
    }
   ],
   "source": [
    "type(sen)"
   ]
  },
  {
   "cell_type": "code",
   "execution_count": 28,
   "metadata": {},
   "outputs": [
    {
     "name": "stdout",
     "output_type": "stream",
     "text": [
      "String built with double quotes\n"
     ]
    }
   ],
   "source": [
    "# We can also use double quote\n",
    "\n",
    "abc = \"String built with double quotes\"\n",
    "print(abc)   # Use the print command"
   ]
  },
  {
   "cell_type": "code",
   "execution_count": 29,
   "metadata": {},
   "outputs": [
    {
     "data": {
      "text/plain": [
       "str"
      ]
     },
     "execution_count": 29,
     "metadata": {},
     "output_type": "execute_result"
    }
   ],
   "source": [
    "type(abc)"
   ]
  },
  {
   "cell_type": "code",
   "execution_count": 30,
   "metadata": {},
   "outputs": [
    {
     "ename": "SyntaxError",
     "evalue": "invalid syntax (316699387.py, line 3)",
     "output_type": "error",
     "traceback": [
      "\u001b[1;36m  Cell \u001b[1;32mIn[30], line 3\u001b[1;36m\u001b[0m\n\u001b[1;33m    st= 'I'm ravi ,i want to become a data scientist'\u001b[0m\n\u001b[1;37m           ^\u001b[0m\n\u001b[1;31mSyntaxError\u001b[0m\u001b[1;31m:\u001b[0m invalid syntax\n"
     ]
    }
   ],
   "source": [
    "# Be careful with quotes!\n",
    "\n",
    "st= 'I'm ravi ,i want to become a data scientist'\n",
    "\n",
    "print(st)"
   ]
  },
  {
   "cell_type": "code",
   "execution_count": null,
   "metadata": {},
   "outputs": [],
   "source": [
    "st1= \"I'ravi ,i want to become a data scientist\"\n",
    "print(st1)"
   ]
  },
  {
   "cell_type": "code",
   "execution_count": 2,
   "metadata": {},
   "outputs": [],
   "source": [
    "ravi = \"\"\"The Samsung Group[3] (or simply Samsung, stylized as SΛMSUNG) (Korean: 삼성 [samsʌŋ]) is a South Korean multinational manufacturing conglomerate headquartered in Samsung Town, Seoul, South Korea.[1] It comprises numerous affiliated businesses,[1] most of them united under the Samsung brand, and is the largest South Korean chaebol (business conglomerate). As of 2020, Samsung has the 8th highest global brand value.[4]\n",
    "\n",
    "Samsung was founded by Lee Byung-chul in 1938 as a trading company. Over the next three decades, the group diversified into areas including food processing, textiles, insurance, securities, and retail. Samsung entered the electronics industry in the late 1960s and the construction and shipbuilding industries in the mid-1970s; these areas would drive its subsequent growth. Following Lee's death in 1987, Samsung was separated into five business groups – Samsung Group, Shinsegae Group, CJ Group and Hansol Group, and Joongang Group.\n",
    "\n",
    "Notable Samsung industrial affiliates include Samsung Electronics (the world's largest information technology company, consumer electronics maker and chipmaker measured by 2017 revenues),[5][6] Samsung Heavy Industries (the world's 2nd largest shipbuilder measured by 2010 revenues),[7] and Samsung Engineering and Samsung C&T Corporation (respectively the world's 13th and 36th largest construction companies).[8] Other notable subsidiaries include Samsung Life Insurance (the world's 14th largest life insurance company),[9] Samsung Everland (operator of Everland Resort, the oldest theme park in South Korea)[10] and Cheil Worldwide (the world's 15th largest advertising agency, as measured by 2012 revenues).[11][12]\"\"\""
   ]
  },
  {
   "cell_type": "code",
   "execution_count": 35,
   "metadata": {},
   "outputs": [
    {
     "data": {
      "text/plain": [
       "\"The Samsung Group[3] (or simply Samsung, stylized as SΛMSUNG) (Korean: 삼성 [samsʌŋ]) is a South Korean multinational manufacturing conglomerate headquartered in Samsung Town, Seoul, South Korea.[1] It comprises numerous affiliated businesses,[1] most of them united under the Samsung brand, and is the largest South Korean chaebol (business conglomerate). As of 2020, Samsung has the 8th highest global brand value.[4]\\n\\nSamsung was founded by Lee Byung-chul in 1938 as a trading company. Over the next three decades, the group diversified into areas including food processing, textiles, insurance, securities, and retail. Samsung entered the electronics industry in the late 1960s and the construction and shipbuilding industries in the mid-1970s; these areas would drive its subsequent growth. Following Lee's death in 1987, Samsung was separated into five business groups – Samsung Group, Shinsegae Group, CJ Group and Hansol Group, and Joongang Group.\\n\\nNotable Samsung industrial affiliates include Samsung Electronics (the world's largest information technology company, consumer electronics maker and chipmaker measured by 2017 revenues),[5][6] Samsung Heavy Industries (the world's 2nd largest shipbuilder measured by 2010 revenues),[7] and Samsung Engineering and Samsung C&T Corporation (respectively the world's 13th and 36th largest construction companies).[8] Other notable subsidiaries include Samsung Life Insurance (the world's 14th largest life insurance company),[9] Samsung Everland (operator of Everland Resort, the oldest theme park in South Korea)[10] and Cheil Worldwide (the world's 15th largest advertising agency, as measured by 2012 revenues).[11][12]\""
      ]
     },
     "execution_count": 35,
     "metadata": {},
     "output_type": "execute_result"
    }
   ],
   "source": [
    "ravi"
   ]
  },
  {
   "cell_type": "code",
   "execution_count": 38,
   "metadata": {},
   "outputs": [
    {
     "data": {
      "text/plain": [
       "1675"
      ]
     },
     "execution_count": 38,
     "metadata": {},
     "output_type": "execute_result"
    }
   ],
   "source": [
    "len(ravi)"
   ]
  },
  {
   "cell_type": "code",
   "execution_count": 36,
   "metadata": {},
   "outputs": [
    {
     "data": {
      "text/plain": [
       "\"THE SAMSUNG GROUP[3] (OR SIMPLY SAMSUNG, STYLIZED AS SΛMSUNG) (KOREAN: 삼성 [SAMSɅŊ]) IS A SOUTH KOREAN MULTINATIONAL MANUFACTURING CONGLOMERATE HEADQUARTERED IN SAMSUNG TOWN, SEOUL, SOUTH KOREA.[1] IT COMPRISES NUMEROUS AFFILIATED BUSINESSES,[1] MOST OF THEM UNITED UNDER THE SAMSUNG BRAND, AND IS THE LARGEST SOUTH KOREAN CHAEBOL (BUSINESS CONGLOMERATE). AS OF 2020, SAMSUNG HAS THE 8TH HIGHEST GLOBAL BRAND VALUE.[4]\\n\\nSAMSUNG WAS FOUNDED BY LEE BYUNG-CHUL IN 1938 AS A TRADING COMPANY. OVER THE NEXT THREE DECADES, THE GROUP DIVERSIFIED INTO AREAS INCLUDING FOOD PROCESSING, TEXTILES, INSURANCE, SECURITIES, AND RETAIL. SAMSUNG ENTERED THE ELECTRONICS INDUSTRY IN THE LATE 1960S AND THE CONSTRUCTION AND SHIPBUILDING INDUSTRIES IN THE MID-1970S; THESE AREAS WOULD DRIVE ITS SUBSEQUENT GROWTH. FOLLOWING LEE'S DEATH IN 1987, SAMSUNG WAS SEPARATED INTO FIVE BUSINESS GROUPS – SAMSUNG GROUP, SHINSEGAE GROUP, CJ GROUP AND HANSOL GROUP, AND JOONGANG GROUP.\\n\\nNOTABLE SAMSUNG INDUSTRIAL AFFILIATES INCLUDE SAMSUNG ELECTRONICS (THE WORLD'S LARGEST INFORMATION TECHNOLOGY COMPANY, CONSUMER ELECTRONICS MAKER AND CHIPMAKER MEASURED BY 2017 REVENUES),[5][6] SAMSUNG HEAVY INDUSTRIES (THE WORLD'S 2ND LARGEST SHIPBUILDER MEASURED BY 2010 REVENUES),[7] AND SAMSUNG ENGINEERING AND SAMSUNG C&T CORPORATION (RESPECTIVELY THE WORLD'S 13TH AND 36TH LARGEST CONSTRUCTION COMPANIES).[8] OTHER NOTABLE SUBSIDIARIES INCLUDE SAMSUNG LIFE INSURANCE (THE WORLD'S 14TH LARGEST LIFE INSURANCE COMPANY),[9] SAMSUNG EVERLAND (OPERATOR OF EVERLAND RESORT, THE OLDEST THEME PARK IN SOUTH KOREA)[10] AND CHEIL WORLDWIDE (THE WORLD'S 15TH LARGEST ADVERTISING AGENCY, AS MEASURED BY 2012 REVENUES).[11][12]\""
      ]
     },
     "execution_count": 36,
     "metadata": {},
     "output_type": "execute_result"
    }
   ],
   "source": [
    "ravi.upper()"
   ]
  },
  {
   "cell_type": "code",
   "execution_count": 37,
   "metadata": {},
   "outputs": [
    {
     "data": {
      "text/plain": [
       "\"The Samsung Group[3] (or simply Samsung, stylized as SΛMSUNG) (Korean: 삼성 [samsʌŋ]) is a South Korean multinational manufacturing conglomerate headquartered in Samsung Town, Seoul, South Korea.[1] It comprises numerous affiliated businesses,[1] most of them united under the Samsung brand, and is the largest South Korean chaebol (business conglomerate). As of 2020, Samsung has the 8th highest global brand value.[4]\\n\\nSamsung was founded by Lee Byung-chul in 1938 as a trading company. Over the next three decades, the group diversified into areas including food processing, textiles, insurance, securities, and retail. Samsung entered the electronics industry in the late 1960s and the construction and shipbuilding industries in the mid-1970s; these areas would drive its subsequent growth. Following Lee's death in 1987, Samsung was separated into five business groups – Samsung Group, Shinsegae Group, CJ Group and Hansol Group, and Joongang Group.\\n\\nNotable Samsung industrial affiliates include Samsung Electronics (the world's largest information technology company, consumer electronics maker and chipmaker measured by 2017 revenues),[5][6] Samsung Heavy Industries (the world's 2nd largest shipbuilder measured by 2010 revenues),[7] and Samsung Engineering and Samsung C&T Corporation (respectively the world's 13th and 36th largest construction companies).[8] Other notable subsidiaries include Samsung Life Insurance (the world's 14th largest life insurance company),[9] Samsung Everland (operator of Everland Resort, the oldest theme park in South Korea)[10] and Cheil Worldwide (the world's 15th largest advertising agency, as measured by 2012 revenues).[11][12]\""
      ]
     },
     "execution_count": 37,
     "metadata": {},
     "output_type": "execute_result"
    }
   ],
   "source": [
    "ravi"
   ]
  },
  {
   "cell_type": "markdown",
   "metadata": {},
   "source": [
    "# We can use the print() statement to print  multiple inputs"
   ]
  },
  {
   "cell_type": "code",
   "execution_count": 7,
   "metadata": {},
   "outputs": [
    {
     "data": {
      "text/plain": [
       "'Hyderabad'"
      ]
     },
     "execution_count": 7,
     "metadata": {},
     "output_type": "execute_result"
    }
   ],
   "source": [
    "\"ravi\"\n",
    "\n",
    "\"datascientist\"\n",
    "\n",
    "\"Hyderabad\""
   ]
  },
  {
   "cell_type": "code",
   "execution_count": 8,
   "metadata": {},
   "outputs": [
    {
     "name": "stdout",
     "output_type": "stream",
     "text": [
      "ravi\n",
      "data scientist\n",
      "Hyderabad\n"
     ]
    }
   ],
   "source": [
    "a=\"ravi\"\n",
    "b=\"data scientist\"\n",
    "c=\"Hyderabad\"\n",
    "\n",
    "\n",
    "print(a)\n",
    "print(b)\n",
    "print(c)"
   ]
  },
  {
   "cell_type": "code",
   "execution_count": null,
   "metadata": {},
   "outputs": [],
   "source": []
  },
  {
   "cell_type": "code",
   "execution_count": 9,
   "metadata": {},
   "outputs": [
    {
     "name": "stdout",
     "output_type": "stream",
     "text": [
      "ravi\n",
      "data scientist\n",
      "\n",
      "Hyderabad\n"
     ]
    }
   ],
   "source": [
    "print(a)\n",
    "print(b)\n",
    "print()\n",
    "print(c)"
   ]
  },
  {
   "cell_type": "code",
   "execution_count": 4,
   "metadata": {},
   "outputs": [
    {
     "name": "stdout",
     "output_type": "stream",
     "text": [
      "Hello 1 3 4 5.6 True False\n"
     ]
    }
   ],
   "source": [
    "# we can print the multiple inputs \n",
    "# by default each input separated by space i,e sep=' '\n",
    "print(\"Hello\",1,3,4,5.6,True,False)\n"
   ]
  },
  {
   "cell_type": "code",
   "execution_count": 6,
   "metadata": {},
   "outputs": [
    {
     "name": "stdout",
     "output_type": "stream",
     "text": [
      "Hello 1 3 4 5.6 True False\n"
     ]
    }
   ],
   "source": [
    "print(\"Hello\",1,3,4,5.6,True,False,sep=\" \")"
   ]
  },
  {
   "cell_type": "code",
   "execution_count": 7,
   "metadata": {},
   "outputs": [
    {
     "name": "stdout",
     "output_type": "stream",
     "text": [
      "Hello*1*3*4*5.6*True*False\n"
     ]
    }
   ],
   "source": [
    "print(\"Hello\",1,3,4,5.6,True,False,sep=\"*\")"
   ]
  },
  {
   "cell_type": "code",
   "execution_count": 8,
   "metadata": {},
   "outputs": [
    {
     "name": "stdout",
     "output_type": "stream",
     "text": [
      "Hello-1-3-5-5.6-True-False\n"
     ]
    }
   ],
   "source": [
    "print(\"Hello\",1,3,5,5.6,True,False, sep=\"-\")"
   ]
  },
  {
   "cell_type": "code",
   "execution_count": 10,
   "metadata": {},
   "outputs": [
    {
     "name": "stdout",
     "output_type": "stream",
     "text": [
      "laxman\n",
      "kota\n"
     ]
    }
   ],
   "source": [
    "# why this is  printing one by one ? \n",
    "# because of after completing each input it prints next new line by default  in python end='/n'\n",
    "\n",
    "print(\"laxman\")\n",
    "print(\"kota\")"
   ]
  },
  {
   "cell_type": "code",
   "execution_count": 12,
   "metadata": {},
   "outputs": [
    {
     "name": "stdout",
     "output_type": "stream",
     "text": [
      "laxman kota\n"
     ]
    }
   ],
   "source": [
    "\n",
    "print(\"laxman\", end=' ')\n",
    "print(\"kota\")"
   ]
  },
  {
   "cell_type": "code",
   "execution_count": 14,
   "metadata": {},
   "outputs": [
    {
     "name": "stdout",
     "output_type": "stream",
     "text": [
      "laxman+kota\n"
     ]
    }
   ],
   "source": [
    "print(\"laxman\", end='+')\n",
    "print(\"kota\")"
   ]
  },
  {
   "cell_type": "code",
   "execution_count": 10,
   "metadata": {},
   "outputs": [
    {
     "name": "stdout",
     "output_type": "stream",
     "text": [
      "\n"
     ]
    }
   ],
   "source": [
    "print()"
   ]
  },
  {
   "cell_type": "code",
   "execution_count": 11,
   "metadata": {},
   "outputs": [
    {
     "data": {
      "text/plain": [
       "'Generative AI'"
      ]
     },
     "execution_count": 11,
     "metadata": {},
     "output_type": "execute_result"
    }
   ],
   "source": [
    "\"pyhton\"\n",
    "\"statistics\"\n",
    "\"machine learning\"\n",
    "\"deep learning\"\n",
    "\"Generative AI\""
   ]
  },
  {
   "cell_type": "code",
   "execution_count": 12,
   "metadata": {},
   "outputs": [
    {
     "name": "stdout",
     "output_type": "stream",
     "text": [
      "Python\n",
      "is\n",
      "awesome\n"
     ]
    }
   ],
   "source": [
    "x = \"Python\"\n",
    "y = \"is\"\n",
    "z = \"awesome\"\n",
    "\n",
    "print(x)\n",
    "print(y)\n",
    "print(z)"
   ]
  },
  {
   "cell_type": "code",
   "execution_count": 13,
   "metadata": {},
   "outputs": [
    {
     "name": "stdout",
     "output_type": "stream",
     "text": [
      "Python\n",
      "is\n",
      "awesome\n"
     ]
    }
   ],
   "source": [
    "x,y,z=\"Python\",\"is\",\"awesome\"\n",
    "print(x)\n",
    "print(y)\n",
    "print(z)"
   ]
  },
  {
   "cell_type": "code",
   "execution_count": 14,
   "metadata": {},
   "outputs": [
    {
     "name": "stdout",
     "output_type": "stream",
     "text": [
      "Python is awesome\n"
     ]
    }
   ],
   "source": [
    "##comma work like adding strings\n",
    "x = \"Python\"\n",
    "y = \"is\"\n",
    "z = \"awesome\"\n",
    "print(x, y,z)"
   ]
  },
  {
   "cell_type": "code",
   "execution_count": 15,
   "metadata": {},
   "outputs": [
    {
     "name": "stdout",
     "output_type": "stream",
     "text": [
      "Python is awesome\n"
     ]
    }
   ],
   "source": [
    "##\"+\"  also work as addition\n",
    "x = \"Python \"\n",
    "y = \"is \"\n",
    "z = \"awesome\"\n",
    "print(x + y + z)"
   ]
  },
  {
   "cell_type": "markdown",
   "metadata": {},
   "source": [
    "# what is the issue here"
   ]
  },
  {
   "cell_type": "code",
   "execution_count": 16,
   "metadata": {},
   "outputs": [
    {
     "ename": "TypeError",
     "evalue": "unsupported operand type(s) for +: 'int' and 'str'",
     "output_type": "error",
     "traceback": [
      "\u001b[1;31m---------------------------------------------------------------------------\u001b[0m",
      "\u001b[1;31mTypeError\u001b[0m                                 Traceback (most recent call last)",
      "Cell \u001b[1;32mIn[16], line 3\u001b[0m\n\u001b[0;32m      1\u001b[0m x \u001b[38;5;241m=\u001b[39m \u001b[38;5;241m5\u001b[39m\n\u001b[0;32m      2\u001b[0m y \u001b[38;5;241m=\u001b[39m \u001b[38;5;124m\"\u001b[39m\u001b[38;5;124mJohn\u001b[39m\u001b[38;5;124m\"\u001b[39m\n\u001b[1;32m----> 3\u001b[0m \u001b[38;5;28mprint\u001b[39m(\u001b[43mx\u001b[49m\u001b[43m \u001b[49m\u001b[38;5;241;43m+\u001b[39;49m\u001b[43m \u001b[49m\u001b[43my\u001b[49m)\n",
      "\u001b[1;31mTypeError\u001b[0m: unsupported operand type(s) for +: 'int' and 'str'"
     ]
    }
   ],
   "source": [
    "x = 5\n",
    "y = \"John\"\n",
    "print(x + y)"
   ]
  },
  {
   "cell_type": "code",
   "execution_count": 17,
   "metadata": {},
   "outputs": [
    {
     "name": "stdout",
     "output_type": "stream",
     "text": [
      "5John\n"
     ]
    }
   ],
   "source": [
    "x = 5\n",
    "y = \"John\"\n",
    "print(str(x) + y)"
   ]
  },
  {
   "cell_type": "code",
   "execution_count": 18,
   "metadata": {},
   "outputs": [
    {
     "name": "stdout",
     "output_type": "stream",
     "text": [
      "5  John\n"
     ]
    }
   ],
   "source": [
    "x = 5\n",
    "y = \"John\"\n",
    "print(str(x)+ \"  \" +y)"
   ]
  },
  {
   "cell_type": "code",
   "execution_count": 19,
   "metadata": {},
   "outputs": [
    {
     "name": "stdout",
     "output_type": "stream",
     "text": [
      "pyhton\n",
      "statistics\n",
      "machine learning\n",
      "deep learning\n",
      "Generative AI\n"
     ]
    }
   ],
   "source": [
    "print(\"pyhton\")\n",
    "print(\"statistics\")\n",
    "print(\"machine learning\")\n",
    "print(\"deep learning\")\n",
    "print(\"Generative AI\")"
   ]
  },
  {
   "cell_type": "markdown",
   "metadata": {},
   "source": [
    "# String Indexing"
   ]
  },
  {
   "cell_type": "markdown",
   "metadata": {},
   "source": [
    "We know strings are a sequence, which means Python can use indexes to call parts of the sequence.\n",
    "\n",
    "A string index refers to the location of an element present in a string.\n",
    "\n",
    "The indexing begins from 0 in Python.\n",
    "\n",
    "The first element is assigned an index 0, the second element is assigned an index of 1 and so on and so forth.\n",
    "\n",
    "In Python, we use brackets [] after an object to call its index."
   ]
  },
  {
   "attachments": {
    "image.png": {
     "image/png": "[encoded data removed]"
    }
   },
   "cell_type": "markdown",
   "metadata": {},
   "source": [
    "![image.png](attachment:image.png)"
   ]
  },
  {
   "cell_type": "code",
   "execution_count": 2,
   "metadata": {},
   "outputs": [],
   "source": [
    "abc=\"Deep learning is subset of machine learning\""
   ]
  },
  {
   "cell_type": "code",
   "execution_count": 7,
   "metadata": {},
   "outputs": [
    {
     "name": "stdout",
     "output_type": "stream",
     "text": [
      "p\n"
     ]
    }
   ],
   "source": [
    "print(abc[3])"
   ]
  },
  {
   "cell_type": "code",
   "execution_count": 4,
   "metadata": {},
   "outputs": [
    {
     "name": "stdout",
     "output_type": "stream",
     "text": [
      " \n"
     ]
    }
   ],
   "source": [
    "print(abc[4])"
   ]
  },
  {
   "cell_type": "code",
   "execution_count": 5,
   "metadata": {},
   "outputs": [
    {
     "name": "stdout",
     "output_type": "stream",
     "text": [
      "s\n"
     ]
    }
   ],
   "source": [
    "print(abc[15])"
   ]
  },
  {
   "cell_type": "code",
   "execution_count": 6,
   "metadata": {},
   "outputs": [
    {
     "name": "stdout",
     "output_type": "stream",
     "text": [
      "i\n"
     ]
    }
   ],
   "source": [
    "print(abc[-3])"
   ]
  },
  {
   "cell_type": "code",
   "execution_count": 7,
   "metadata": {},
   "outputs": [
    {
     "name": "stdout",
     "output_type": "stream",
     "text": [
      "g\n"
     ]
    }
   ],
   "source": [
    "print(abc[-1])"
   ]
  },
  {
   "cell_type": "code",
   "execution_count": 8,
   "metadata": {},
   "outputs": [
    {
     "name": "stdout",
     "output_type": "stream",
     "text": [
      "e\n"
     ]
    }
   ],
   "source": [
    "print(abc[-10])"
   ]
  },
  {
   "cell_type": "code",
   "execution_count": 3,
   "metadata": {},
   "outputs": [
    {
     "name": "stdout",
     "output_type": "stream",
     "text": [
      "43\n"
     ]
    }
   ],
   "source": [
    "print(len(abc))"
   ]
  },
  {
   "cell_type": "code",
   "execution_count": 4,
   "metadata": {},
   "outputs": [
    {
     "name": "stdout",
     "output_type": "stream",
     "text": [
      "Deep learning is subset of machine learning\n"
     ]
    }
   ],
   "source": [
    "print(abc)"
   ]
  },
  {
   "cell_type": "code",
   "execution_count": 5,
   "metadata": {},
   "outputs": [
    {
     "ename": "IndexError",
     "evalue": "string index out of range",
     "output_type": "error",
     "traceback": [
      "\u001b[1;31m---------------------------------------------------------------------------\u001b[0m",
      "\u001b[1;31mIndexError\u001b[0m                                Traceback (most recent call last)",
      "Cell \u001b[1;32mIn[5], line 1\u001b[0m\n\u001b[1;32m----> 1\u001b[0m \u001b[38;5;28mprint\u001b[39m(\u001b[43mabc\u001b[49m\u001b[43m[\u001b[49m\u001b[38;5;241;43m45\u001b[39;49m\u001b[43m]\u001b[49m)\n",
      "\u001b[1;31mIndexError\u001b[0m: string index out of range"
     ]
    }
   ],
   "source": [
    "print(abc[45])"
   ]
  },
  {
   "cell_type": "code",
   "execution_count": 51,
   "metadata": {},
   "outputs": [
    {
     "name": "stdout",
     "output_type": "stream",
     "text": [
      "l\n"
     ]
    }
   ],
   "source": [
    "print(abc[-8])"
   ]
  },
  {
   "cell_type": "markdown",
   "metadata": {},
   "source": [
    "q-1\n",
    "find all index values\n",
    "\n",
    "abc=\"Deep learning is subset of machine learning\"\n",
    "\n",
    "a= \"something went wrong\"\n",
    "\n",
    "b=\"ravi special\"\n",
    "\n",
    "c=\"sabik special\"\n",
    "\n",
    "d=\"deep learning special\"\n",
    "\n",
    "e=\"machine learning special\"\n",
    "\n",
    "f=\"subset special\""
   ]
  },
  {
   "cell_type": "markdown",
   "metadata": {},
   "source": []
  },
  {
   "cell_type": "markdown",
   "metadata": {},
   "source": [
    "# Day -4"
   ]
  },
  {
   "cell_type": "markdown",
   "metadata": {},
   "source": [
    "    "
   ]
  },
  {
   "cell_type": "markdown",
   "metadata": {},
   "source": [
    "# Common errors in the Python Programming\n",
    "\n",
    ">> 1. Name error\n",
    "\n",
    ">> 2. Type error\n",
    "\n",
    ">> 3. Syntax error\n",
    "\n",
    ">> 4. Index error\n",
    "\n"
   ]
  },
  {
   "cell_type": "markdown",
   "metadata": {},
   "source": [
    "# Escape Characters"
   ]
  },
  {
   "cell_type": "markdown",
   "metadata": {},
   "source": [
    "https://www.w3schools.com/python/python_strings_escape.asp"
   ]
  },
  {
   "cell_type": "markdown",
   "metadata": {},
   "source": [
    "Code\n",
    "\n",
    "  \\\\' -->Single Quote \n",
    "\n",
    " \\\\ -->Backslash\n",
    "\n",
    "  \\n -->New Line \n",
    "\n",
    "  \\r -->Carriage Return \n",
    "\n",
    "  \\t -->Tab\n",
    "\n",
    "   \\b -->Backspace\n",
    "\n",
    "    \\f -->Form Feed\n",
    "\n",
    "     \\ooo -->Octal value\n",
    "     \n",
    "      \\xhh -->Hex value"
   ]
  },
  {
   "cell_type": "markdown",
   "metadata": {},
   "source": [
    "# String Slicing\n",
    "\n",
    "Slicing allows us to pull out a subsection of a string. It's a powerful feature in Python.\n",
    "\n",
    ">> Syntax: string[start:stop:step]\n",
    "\n",
    "Here are the rules for string slicing:\n",
    "\n",
    "1. start: Optional. The index where the slice starts. If not provided, defaults to 0.\n",
    "\n",
    "2. stop: Optional. The index where the slice ends. If not provided, defaults to the end of the string.\n",
    "\n",
    "3. step: Optional. The number of steps to take between elements. If not provided, defaults to 1.\n",
    "\n",
    "Here are some examples:\n",
    "\n",
    "abc=\"Deep learning is subset of machine learning\"\n",
    "\n",
    "print(abc[0:5]) # prints \"Deep \"\n",
    "\n",
    "print(abc[6:12]) # prints \"learning\"\n",
    "\n",
    "print(abc[13:20]) # prints \"is subset\"\n",
    "\n",
    "print(abc[21:27])\n",
    "\n",
    "We can use a : to perform slicing which grabs everything up to a designated point.\n",
    "\n",
    "The starting index is specified on the left of the : and the ending index is specified on the right of the :\n",
    "\n",
    "Remember the element located at the right index is not included i.e right side value always present (n-1)\n",
    "\n",
    "if we use another second : it indicates step value means skipping of some part (n-1)"
   ]
  },
  {
   "attachments": {
    "image.png": {
     "image/png": "[encoded data removed]"
    }
   },
   "cell_type": "markdown",
   "metadata": {},
   "source": [
    "![image.png](attachment:image.png)"
   ]
  },
  {
   "cell_type": "code",
   "execution_count": 8,
   "metadata": {},
   "outputs": [
    {
     "name": "stdout",
     "output_type": "stream",
     "text": [
      "\n"
     ]
    }
   ],
   "source": [
    "a=\"datascience\"\n",
    "#print(a[0:4:1])\n",
    "print(a[0:4:-1])"
   ]
  },
  {
   "cell_type": "code",
   "execution_count": 9,
   "metadata": {},
   "outputs": [
    {
     "name": "stdout",
     "output_type": "stream",
     "text": [
      "datascience\n"
     ]
    }
   ],
   "source": [
    "print(a[:])"
   ]
  },
  {
   "cell_type": "code",
   "execution_count": 11,
   "metadata": {},
   "outputs": [
    {
     "data": {
      "text/plain": [
       "'ecneicsatad'"
      ]
     },
     "execution_count": 11,
     "metadata": {},
     "output_type": "execute_result"
    }
   ],
   "source": [
    "a[::-1]"
   ]
  },
  {
   "cell_type": "code",
   "execution_count": 6,
   "metadata": {},
   "outputs": [
    {
     "data": {
      "text/plain": [
       "'Deep learning is subset of machine learning'"
      ]
     },
     "execution_count": 6,
     "metadata": {},
     "output_type": "execute_result"
    }
   ],
   "source": [
    "abc"
   ]
  },
  {
   "cell_type": "code",
   "execution_count": 7,
   "metadata": {},
   "outputs": [
    {
     "data": {
      "text/plain": [
       "'Deep learning is subset of machine learning'"
      ]
     },
     "execution_count": 7,
     "metadata": {},
     "output_type": "execute_result"
    }
   ],
   "source": [
    "abc[:]"
   ]
  },
  {
   "cell_type": "code",
   "execution_count": 14,
   "metadata": {},
   "outputs": [
    {
     "data": {
      "text/plain": [
       "'Deep learning is subset of machine learning'"
      ]
     },
     "execution_count": 14,
     "metadata": {},
     "output_type": "execute_result"
    }
   ],
   "source": [
    "abc[0:]"
   ]
  },
  {
   "cell_type": "code",
   "execution_count": 22,
   "metadata": {},
   "outputs": [
    {
     "data": {
      "text/plain": [
       "43"
      ]
     },
     "execution_count": 22,
     "metadata": {},
     "output_type": "execute_result"
    }
   ],
   "source": [
    "len(abc)"
   ]
  },
  {
   "cell_type": "code",
   "execution_count": 18,
   "metadata": {},
   "outputs": [
    {
     "data": {
      "text/plain": [
       "'Deep learning is subset of machine learnin'"
      ]
     },
     "execution_count": 18,
     "metadata": {},
     "output_type": "execute_result"
    }
   ],
   "source": [
    "abc[:42]   # ending value n-1"
   ]
  },
  {
   "cell_type": "code",
   "execution_count": 19,
   "metadata": {},
   "outputs": [
    {
     "data": {
      "text/plain": [
       "'Deep learning is subset of machine learning'"
      ]
     },
     "execution_count": 19,
     "metadata": {},
     "output_type": "execute_result"
    }
   ],
   "source": [
    "abc[:43]    # ending value n-1"
   ]
  },
  {
   "cell_type": "code",
   "execution_count": 11,
   "metadata": {},
   "outputs": [
    {
     "data": {
      "text/plain": [
       "27"
      ]
     },
     "execution_count": 11,
     "metadata": {},
     "output_type": "execute_result"
    }
   ],
   "source": [
    "abc.index(\"m\")"
   ]
  },
  {
   "cell_type": "code",
   "execution_count": 18,
   "metadata": {},
   "outputs": [
    {
     "data": {
      "text/plain": [
       "43"
      ]
     },
     "execution_count": 18,
     "metadata": {},
     "output_type": "execute_result"
    }
   ],
   "source": [
    "len(abc)"
   ]
  },
  {
   "cell_type": "code",
   "execution_count": 21,
   "metadata": {},
   "outputs": [
    {
     "data": {
      "text/plain": [
       "'Deep learning is subset of machine learning'"
      ]
     },
     "execution_count": 21,
     "metadata": {},
     "output_type": "execute_result"
    }
   ],
   "source": [
    "abc[0:46]"
   ]
  },
  {
   "cell_type": "code",
   "execution_count": null,
   "metadata": {},
   "outputs": [],
   "source": []
  },
  {
   "cell_type": "code",
   "execution_count": 23,
   "metadata": {},
   "outputs": [
    {
     "data": {
      "text/plain": [
       "'earning is subset of machine learning'"
      ]
     },
     "execution_count": 23,
     "metadata": {},
     "output_type": "execute_result"
    }
   ],
   "source": [
    "abc[6:]"
   ]
  },
  {
   "cell_type": "markdown",
   "metadata": {},
   "source": [
    "# Step"
   ]
  },
  {
   "cell_type": "markdown",
   "metadata": {},
   "source": [
    "## abc[START : STOP :SKIP]"
   ]
  },
  {
   "cell_type": "code",
   "execution_count": 24,
   "metadata": {},
   "outputs": [
    {
     "data": {
      "text/plain": [
       "'Deep learning is subset of machine learning'"
      ]
     },
     "execution_count": 24,
     "metadata": {},
     "output_type": "execute_result"
    }
   ],
   "source": [
    "abc[::]"
   ]
  },
  {
   "cell_type": "code",
   "execution_count": 25,
   "metadata": {},
   "outputs": [
    {
     "data": {
      "text/plain": [
       "'Deep learning is subset of machine learning'"
      ]
     },
     "execution_count": 25,
     "metadata": {},
     "output_type": "execute_result"
    }
   ],
   "source": [
    "abc[0::]"
   ]
  },
  {
   "cell_type": "code",
   "execution_count": 26,
   "metadata": {},
   "outputs": [
    {
     "data": {
      "text/plain": [
       "'Deep learning is subset of machine learning'"
      ]
     },
     "execution_count": 26,
     "metadata": {},
     "output_type": "execute_result"
    }
   ],
   "source": [
    "abc[0:43:]"
   ]
  },
  {
   "cell_type": "code",
   "execution_count": 27,
   "metadata": {},
   "outputs": [
    {
     "data": {
      "text/plain": [
       "'Deep learning is subset of machine learning'"
      ]
     },
     "execution_count": 27,
     "metadata": {},
     "output_type": "execute_result"
    }
   ],
   "source": [
    "abc[::1]"
   ]
  },
  {
   "cell_type": "code",
   "execution_count": 23,
   "metadata": {},
   "outputs": [
    {
     "data": {
      "text/plain": [
       "'Deep learning is subset of machine learning'"
      ]
     },
     "execution_count": 23,
     "metadata": {},
     "output_type": "execute_result"
    }
   ],
   "source": [
    "abc[0::1]"
   ]
  },
  {
   "cell_type": "code",
   "execution_count": 31,
   "metadata": {},
   "outputs": [
    {
     "data": {
      "text/plain": [
       "'Deep learning is subset of machine learning'"
      ]
     },
     "execution_count": 31,
     "metadata": {},
     "output_type": "execute_result"
    }
   ],
   "source": [
    "abc[:43:1]"
   ]
  },
  {
   "cell_type": "code",
   "execution_count": 32,
   "metadata": {},
   "outputs": [
    {
     "data": {
      "text/plain": [
       "'Deep learning is subset of machine learning'"
      ]
     },
     "execution_count": 32,
     "metadata": {},
     "output_type": "execute_result"
    }
   ],
   "source": [
    "abc[0:43:1]"
   ]
  },
  {
   "cell_type": "code",
   "execution_count": 33,
   "metadata": {},
   "outputs": [
    {
     "data": {
      "text/plain": [
       "'Deep learning is subset of machine le'"
      ]
     },
     "execution_count": 33,
     "metadata": {},
     "output_type": "execute_result"
    }
   ],
   "source": [
    "abc[:37:1]"
   ]
  },
  {
   "cell_type": "markdown",
   "metadata": {},
   "source": [
    "# abc[start +ve : stop +ve :step +ve ]--> all values are start from left to right"
   ]
  },
  {
   "cell_type": "code",
   "execution_count": 44,
   "metadata": {},
   "outputs": [
    {
     "data": {
      "text/plain": [
       "'Deep learning is subset of machine learnin'"
      ]
     },
     "execution_count": 44,
     "metadata": {},
     "output_type": "execute_result"
    }
   ],
   "source": [
    "abc[:42:1]"
   ]
  },
  {
   "cell_type": "markdown",
   "metadata": {},
   "source": [
    ">># Reverse of string "
   ]
  },
  {
   "cell_type": "markdown",
   "metadata": {},
   "source": [
    "# abc[start +ve : stop +ve :step -ve ]--> all values are start from right  to left "
   ]
  },
  {
   "cell_type": "markdown",
   "metadata": {},
   "source": [
    "it becomes # abc[stop +ve : start +ve :step -ve ]--> all values are start from right to left "
   ]
  },
  {
   "cell_type": "code",
   "execution_count": 45,
   "metadata": {},
   "outputs": [
    {
     "data": {
      "text/plain": [
       "'gninrael enihcam fo tesbus si gninrael peeD'"
      ]
     },
     "execution_count": 45,
     "metadata": {},
     "output_type": "execute_result"
    }
   ],
   "source": [
    "abc[::-1]"
   ]
  },
  {
   "cell_type": "markdown",
   "metadata": {},
   "source": []
  },
  {
   "cell_type": "markdown",
   "metadata": {},
   "source": []
  },
  {
   "cell_type": "code",
   "execution_count": 35,
   "metadata": {},
   "outputs": [
    {
     "data": {
      "text/plain": [
       "'gninr'"
      ]
     },
     "execution_count": 35,
     "metadata": {},
     "output_type": "execute_result"
    }
   ],
   "source": [
    "abc[:37:1]"
   ]
  },
  {
   "cell_type": "code",
   "execution_count": 34,
   "metadata": {},
   "outputs": [
    {
     "data": {
      "text/plain": [
       "'De erigi usto ahn erig'"
      ]
     },
     "execution_count": 34,
     "metadata": {},
     "output_type": "execute_result"
    }
   ],
   "source": [
    "abc[::2]"
   ]
  },
  {
   "cell_type": "code",
   "execution_count": 28,
   "metadata": {},
   "outputs": [
    {
     "name": "stdout",
     "output_type": "stream",
     "text": [
      "li\n"
     ]
    }
   ],
   "source": [
    "print(abc[5:15:5])"
   ]
  },
  {
   "cell_type": "markdown",
   "metadata": {},
   "source": [
    "# negative slicing\n"
   ]
  },
  {
   "cell_type": "code",
   "execution_count": 46,
   "metadata": {},
   "outputs": [],
   "source": [
    "# negative slicing\n",
    "b=\"datascience\""
   ]
  },
  {
   "cell_type": "code",
   "execution_count": 50,
   "metadata": {},
   "outputs": [
    {
     "data": {
      "text/plain": [
       "'ecneicsatad'"
      ]
     },
     "execution_count": 50,
     "metadata": {},
     "output_type": "execute_result"
    }
   ],
   "source": [
    "b[::-1]# string reverse"
   ]
  },
  {
   "cell_type": "code",
   "execution_count": 32,
   "metadata": {},
   "outputs": [
    {
     "data": {
      "text/plain": [
       "'d'"
      ]
     },
     "execution_count": 32,
     "metadata": {},
     "output_type": "execute_result"
    }
   ],
   "source": [
    "b[0::-1]"
   ]
  },
  {
   "cell_type": "code",
   "execution_count": 47,
   "metadata": {},
   "outputs": [
    {
     "data": {
      "text/plain": [
       "''"
      ]
     },
     "execution_count": 47,
     "metadata": {},
     "output_type": "execute_result"
    }
   ],
   "source": [
    "b[:11:-1]"
   ]
  },
  {
   "cell_type": "code",
   "execution_count": 48,
   "metadata": {},
   "outputs": [
    {
     "data": {
      "text/plain": [
       "''"
      ]
     },
     "execution_count": 48,
     "metadata": {},
     "output_type": "execute_result"
    }
   ],
   "source": [
    "b[0:11:-1]"
   ]
  },
  {
   "cell_type": "code",
   "execution_count": 49,
   "metadata": {},
   "outputs": [
    {
     "data": {
      "text/plain": [
       "'ecneicsata'"
      ]
     },
     "execution_count": 49,
     "metadata": {},
     "output_type": "execute_result"
    }
   ],
   "source": [
    "b[11:0:-1]"
   ]
  },
  {
   "cell_type": "code",
   "execution_count": 51,
   "metadata": {},
   "outputs": [
    {
     "data": {
      "text/plain": [
       "'datascienc'"
      ]
     },
     "execution_count": 51,
     "metadata": {},
     "output_type": "execute_result"
    }
   ],
   "source": [
    "b[-11:-1]"
   ]
  },
  {
   "cell_type": "code",
   "execution_count": 53,
   "metadata": {},
   "outputs": [
    {
     "data": {
      "text/plain": [
       "'datascience'"
      ]
     },
     "execution_count": 53,
     "metadata": {},
     "output_type": "execute_result"
    }
   ],
   "source": [
    "b[-11:]"
   ]
  },
  {
   "cell_type": "code",
   "execution_count": 33,
   "metadata": {},
   "outputs": [
    {
     "data": {
      "text/plain": [
       "'data'"
      ]
     },
     "execution_count": 33,
     "metadata": {},
     "output_type": "execute_result"
    }
   ],
   "source": [
    "b[-11:-7]"
   ]
  },
  {
   "cell_type": "code",
   "execution_count": 34,
   "metadata": {},
   "outputs": [
    {
     "data": {
      "text/plain": [
       "'as'"
      ]
     },
     "execution_count": 34,
     "metadata": {},
     "output_type": "execute_result"
    }
   ],
   "source": [
    "b[-8:-6]"
   ]
  },
  {
   "cell_type": "code",
   "execution_count": 35,
   "metadata": {},
   "outputs": [
    {
     "data": {
      "text/plain": [
       "'ience'"
      ]
     },
     "execution_count": 35,
     "metadata": {},
     "output_type": "execute_result"
    }
   ],
   "source": [
    "b[-5:]"
   ]
  },
  {
   "cell_type": "code",
   "execution_count": 36,
   "metadata": {},
   "outputs": [
    {
     "data": {
      "text/plain": [
       "'data'"
      ]
     },
     "execution_count": 36,
     "metadata": {},
     "output_type": "execute_result"
    }
   ],
   "source": [
    "b[-11:-7:1]"
   ]
  },
  {
   "cell_type": "code",
   "execution_count": 37,
   "metadata": {},
   "outputs": [
    {
     "data": {
      "text/plain": [
       "''"
      ]
     },
     "execution_count": 37,
     "metadata": {},
     "output_type": "execute_result"
    }
   ],
   "source": [
    "b[-11:-7:-1]"
   ]
  },
  {
   "cell_type": "code",
   "execution_count": 55,
   "metadata": {},
   "outputs": [
    {
     "data": {
      "text/plain": [
       "''"
      ]
     },
     "execution_count": 55,
     "metadata": {},
     "output_type": "execute_result"
    }
   ],
   "source": [
    "b[0:5:-1]"
   ]
  },
  {
   "cell_type": "code",
   "execution_count": 57,
   "metadata": {},
   "outputs": [
    {
     "data": {
      "text/plain": [
       "'data'"
      ]
     },
     "execution_count": 57,
     "metadata": {},
     "output_type": "execute_result"
    }
   ],
   "source": [
    "b[0:-7]"
   ]
  },
  {
   "cell_type": "code",
   "execution_count": 58,
   "metadata": {},
   "outputs": [
    {
     "data": {
      "text/plain": [
       "'data'"
      ]
     },
     "execution_count": 58,
     "metadata": {},
     "output_type": "execute_result"
    }
   ],
   "source": [
    "b[0:-7:1]"
   ]
  },
  {
   "cell_type": "code",
   "execution_count": 40,
   "metadata": {},
   "outputs": [
    {
     "data": {
      "text/plain": [
       "'e'"
      ]
     },
     "execution_count": 40,
     "metadata": {},
     "output_type": "execute_result"
    }
   ],
   "source": [
    "b[10:]"
   ]
  },
  {
   "cell_type": "code",
   "execution_count": 60,
   "metadata": {},
   "outputs": [
    {
     "data": {
      "text/plain": [
       "''"
      ]
     },
     "execution_count": 60,
     "metadata": {},
     "output_type": "execute_result"
    }
   ],
   "source": [
    "b[10:-2]"
   ]
  },
  {
   "cell_type": "code",
   "execution_count": 42,
   "metadata": {},
   "outputs": [
    {
     "data": {
      "text/plain": [
       "'d'"
      ]
     },
     "execution_count": 42,
     "metadata": {},
     "output_type": "execute_result"
    }
   ],
   "source": [
    "b[-11:-9:2]"
   ]
  },
  {
   "cell_type": "code",
   "execution_count": 43,
   "metadata": {},
   "outputs": [
    {
     "data": {
      "text/plain": [
       "'d'"
      ]
     },
     "execution_count": 43,
     "metadata": {},
     "output_type": "execute_result"
    }
   ],
   "source": [
    "b[-11:-9:4]"
   ]
  },
  {
   "cell_type": "code",
   "execution_count": 44,
   "metadata": {},
   "outputs": [
    {
     "data": {
      "text/plain": [
       "'datascience'"
      ]
     },
     "execution_count": 44,
     "metadata": {},
     "output_type": "execute_result"
    }
   ],
   "source": [
    "b"
   ]
  },
  {
   "cell_type": "code",
   "execution_count": 45,
   "metadata": {},
   "outputs": [
    {
     "data": {
      "text/plain": [
       "'ecneicsatad'"
      ]
     },
     "execution_count": 45,
     "metadata": {},
     "output_type": "execute_result"
    }
   ],
   "source": [
    "b[::-1]"
   ]
  },
  {
   "cell_type": "code",
   "execution_count": 46,
   "metadata": {},
   "outputs": [
    {
     "data": {
      "text/plain": [
       "''"
      ]
     },
     "execution_count": 46,
     "metadata": {},
     "output_type": "execute_result"
    }
   ],
   "source": [
    "b[-14:-9:-1]"
   ]
  },
  {
   "cell_type": "markdown",
   "metadata": {},
   "source": [
    "# Index"
   ]
  },
  {
   "cell_type": "code",
   "execution_count": 61,
   "metadata": {},
   "outputs": [
    {
     "name": "stdout",
     "output_type": "stream",
     "text": [
      "Prasad is  gold\n"
     ]
    }
   ],
   "source": [
    "a=\"Prasad is  gold\"\n",
    "print(a)"
   ]
  },
  {
   "cell_type": "code",
   "execution_count": 66,
   "metadata": {},
   "outputs": [
    {
     "data": {
      "text/plain": [
       "5"
      ]
     },
     "execution_count": 66,
     "metadata": {},
     "output_type": "execute_result"
    }
   ],
   "source": [
    "a.index(\"d\")"
   ]
  },
  {
   "cell_type": "code",
   "execution_count": 63,
   "metadata": {},
   "outputs": [
    {
     "data": {
      "text/plain": [
       "11"
      ]
     },
     "execution_count": 63,
     "metadata": {},
     "output_type": "execute_result"
    }
   ],
   "source": [
    "a.index(\"g\")"
   ]
  },
  {
   "cell_type": "code",
   "execution_count": 64,
   "metadata": {},
   "outputs": [
    {
     "data": {
      "text/plain": [
       "3"
      ]
     },
     "execution_count": 64,
     "metadata": {},
     "output_type": "execute_result"
    }
   ],
   "source": [
    "a.index(\"s\")"
   ]
  },
  {
   "cell_type": "markdown",
   "metadata": {},
   "source": [
    "# String Properties\n",
    "\n",
    "It's important to note that strings have an important property known as immutability.\n",
    "\n",
    "This means that once a string is created, the elements within it can not be changed or \n",
    "replaced via item assignment. We will see how we can do such operation using string methods"
   ]
  },
  {
   "cell_type": "code",
   "execution_count": 68,
   "metadata": {},
   "outputs": [
    {
     "ename": "TypeError",
     "evalue": "'str' object does not support item assignment",
     "output_type": "error",
     "traceback": [
      "\u001b[1;31m---------------------------------------------------------------------------\u001b[0m",
      "\u001b[1;31mTypeError\u001b[0m                                 Traceback (most recent call last)",
      "Cell \u001b[1;32mIn[68], line 3\u001b[0m\n\u001b[0;32m      1\u001b[0m \u001b[38;5;66;03m# Can we change our string 'Hello' to 'Cello'? Lets try replacing the first letter H with C\u001b[39;00m\n\u001b[0;32m      2\u001b[0m s\u001b[38;5;241m=\u001b[39m\u001b[38;5;124m'\u001b[39m\u001b[38;5;124mHello\u001b[39m\u001b[38;5;124m'\u001b[39m\n\u001b[1;32m----> 3\u001b[0m \u001b[43ms\u001b[49m\u001b[43m[\u001b[49m\u001b[38;5;241;43m0\u001b[39;49m\u001b[43m]\u001b[49m \u001b[38;5;241m=\u001b[39m \u001b[38;5;124m'\u001b[39m\u001b[38;5;124mC\u001b[39m\u001b[38;5;124m'\u001b[39m\n",
      "\u001b[1;31mTypeError\u001b[0m: 'str' object does not support item assignment"
     ]
    }
   ],
   "source": [
    "# Can we change our string 'Hello' to 'Cello'? Lets try replacing the first letter H with C\n",
    "s='Hello'\n",
    "s[0] = 'C'"
   ]
  },
  {
   "cell_type": "markdown",
   "metadata": {},
   "source": [
    ">> Notice how the error tells us directly what we can't do, that is we can't change the item assignment!\n",
    ">> Something we can do is concatenate strings\n"
   ]
  },
  {
   "cell_type": "code",
   "execution_count": 69,
   "metadata": {},
   "outputs": [
    {
     "name": "stdout",
     "output_type": "stream",
     "text": [
      "Cello\n",
      "Hello\n"
     ]
    }
   ],
   "source": [
    "print(s.replace(\"H\",\"C\"))     # it is only temporary change , not a permant change\n",
    "\n",
    "print(s)"
   ]
  },
  {
   "cell_type": "code",
   "execution_count": 70,
   "metadata": {},
   "outputs": [
    {
     "name": "stdout",
     "output_type": "stream",
     "text": [
      "Rajuking\n",
      "Raju   king\n"
     ]
    }
   ],
   "source": [
    "# Concatenate strings!\n",
    "\n",
    "st1='Raju'\n",
    "st2='king'\n",
    "print(st1 + st2 )\n",
    "\n",
    "print(st1 +\"   \"+ st2)"
   ]
  },
  {
   "cell_type": "code",
   "execution_count": 73,
   "metadata": {},
   "outputs": [
    {
     "name": "stdout",
     "output_type": "stream",
     "text": [
      "ganesh   ram_singh\n"
     ]
    }
   ],
   "source": [
    "hai1=\"ganesh\"\n",
    "\n",
    "hello2=\"ram_singh\"\n",
    "\n",
    "print(hai1+\"   \"+hello2)"
   ]
  },
  {
   "cell_type": "code",
   "execution_count": 71,
   "metadata": {},
   "outputs": [
    {
     "ename": "NameError",
     "evalue": "name 'hai1' is not defined",
     "output_type": "error",
     "traceback": [
      "\u001b[1;31m---------------------------------------------------------------------------\u001b[0m",
      "\u001b[1;31mNameError\u001b[0m                                 Traceback (most recent call last)",
      "Cell \u001b[1;32mIn[71], line 1\u001b[0m\n\u001b[1;32m----> 1\u001b[0m \u001b[38;5;28mprint\u001b[39m(\u001b[43mhai1\u001b[49m \u001b[38;5;241m+\u001b[39m\u001b[38;5;241m4\u001b[39m \u001b[38;5;241m+\u001b[39mhello2)     \u001b[38;5;66;03m# we can't concatenate string and numbers\u001b[39;00m\n",
      "\u001b[1;31mNameError\u001b[0m: name 'hai1' is not defined"
     ]
    }
   ],
   "source": [
    "print(hai1 +4 +hello2)     # we can't concatenate string and numbers"
   ]
  },
  {
   "cell_type": "code",
   "execution_count": 74,
   "metadata": {},
   "outputs": [
    {
     "name": "stdout",
     "output_type": "stream",
     "text": [
      "ganesh 4 ram_singh\n"
     ]
    }
   ],
   "source": [
    "print(hai1+\" 4 \" +hello2)   # suppose we want to add anything ,it must be string format"
   ]
  },
  {
   "cell_type": "code",
   "execution_count": 75,
   "metadata": {},
   "outputs": [
    {
     "name": "stdout",
     "output_type": "stream",
     "text": [
      "ganesh4ram_singh\n"
     ]
    }
   ],
   "source": [
    "print(hai1+ str(4) +hello2)"
   ]
  },
  {
   "cell_type": "code",
   "execution_count": 54,
   "metadata": {},
   "outputs": [
    {
     "name": "stdout",
     "output_type": "stream",
     "text": [
      "telugu  ganesh   english\n"
     ]
    }
   ],
   "source": [
    "_subject1=\"telugu\"\n",
    "\n",
    "_subject2=\"hindi\"\n",
    "\n",
    "_subject3=\"english\"\n",
    "\n",
    "_subject=\"math\"\n",
    "\n",
    "print(_subject1+ \"  ganesh   \" +_subject3)"
   ]
  },
  {
   "cell_type": "markdown",
   "metadata": {},
   "source": [
    "# String functions and methods"
   ]
  },
  {
   "cell_type": "code",
   "execution_count": 79,
   "metadata": {},
   "outputs": [
    {
     "name": "stdout",
     "output_type": "stream",
     "text": [
      "Deep Neural Networks\n"
     ]
    }
   ],
   "source": [
    "bc_d1= 'Deep Neural Networks'\n",
    "\n",
    "print(bc_d1)"
   ]
  },
  {
   "cell_type": "markdown",
   "metadata": {},
   "source": [
    "# len()\n",
    ">> len() function returns the length of the string"
   ]
  },
  {
   "cell_type": "code",
   "execution_count": 56,
   "metadata": {},
   "outputs": [
    {
     "data": {
      "text/plain": [
       "20"
      ]
     },
     "execution_count": 56,
     "metadata": {},
     "output_type": "execute_result"
    }
   ],
   "source": [
    "len(bc_d1)  # this length fun ,also counted space"
   ]
  },
  {
   "cell_type": "code",
   "execution_count": 76,
   "metadata": {},
   "outputs": [
    {
     "data": {
      "text/plain": [
       "38"
      ]
     },
     "execution_count": 76,
     "metadata": {},
     "output_type": "execute_result"
    }
   ],
   "source": [
    "key=\"hai this is  ganesh iam from nizamabad\"\n",
    "\n",
    "len(key)"
   ]
  },
  {
   "cell_type": "markdown",
   "metadata": {},
   "source": [
    "# lower()\n",
    ">> lower() method converts the string to lowercase"
   ]
  },
  {
   "cell_type": "code",
   "execution_count": 80,
   "metadata": {},
   "outputs": [
    {
     "data": {
      "text/plain": [
       "'deep neural networks'"
      ]
     },
     "execution_count": 80,
     "metadata": {},
     "output_type": "execute_result"
    }
   ],
   "source": [
    "# Conver the string to lowercase\n",
    "bc_d1.lower()"
   ]
  },
  {
   "cell_type": "code",
   "execution_count": 82,
   "metadata": {},
   "outputs": [
    {
     "data": {
      "text/plain": [
       "'sghsdjhfsgjhfgshgfjhgwejhgfsduyghfsdlhfbgsdfhgslf fgsdhfsgfs fhsdkjfghslkfhs fhdsjklfhsdkf hf f fhf gfsdf'"
      ]
     },
     "execution_count": 82,
     "metadata": {},
     "output_type": "execute_result"
    }
   ],
   "source": [
    "one1= \"SGHSDJHFSGJHFGSHGFJHGWEJHGFSDUYGHFSDLHFBGSDFHGSLF FGSDHFSGFS FHSDKJFGHSLKFHS FHDSJKLFHSDKF HF F FHF GFSDF\"\n",
    "one1.lower()"
   ]
  },
  {
   "cell_type": "code",
   "execution_count": 83,
   "metadata": {},
   "outputs": [
    {
     "data": {
      "text/plain": [
       "'SGHSDJHFSGJHFGSHGFJHGWEJHGFSDUYGHFSDLHFBGSDFHGSLF FGSDHFSGFS FHSDKJFGHSLKFHS FHDSJKLFHSDKF HF F FHF GFSDF'"
      ]
     },
     "execution_count": 83,
     "metadata": {},
     "output_type": "execute_result"
    }
   ],
   "source": [
    "one1"
   ]
  },
  {
   "cell_type": "markdown",
   "metadata": {},
   "source": [
    "## upper()\n",
    ">> upper() method converts the string to uppercase"
   ]
  },
  {
   "cell_type": "code",
   "execution_count": 84,
   "metadata": {},
   "outputs": [
    {
     "data": {
      "text/plain": [
       "'DEEP NEURAL NETWORKS'"
      ]
     },
     "execution_count": 84,
     "metadata": {},
     "output_type": "execute_result"
    }
   ],
   "source": [
    "# Convert the string to uppercase\n",
    "\n",
    "bc_d1.upper()"
   ]
  },
  {
   "cell_type": "code",
   "execution_count": 62,
   "metadata": {},
   "outputs": [
    {
     "data": {
      "text/plain": [
       "'FHSJKFSDGHFKYUIFHSDJKFHSDJKFHWUIFYHWEKFHSJKVHSK'"
      ]
     },
     "execution_count": 62,
     "metadata": {},
     "output_type": "execute_result"
    }
   ],
   "source": [
    "ijk=\"fhsjkfsdghfkyuifhsdjkfhsdjkfhwuifyhwekfhsjkvhsk\"\n",
    "\n",
    "ijk.upper()"
   ]
  },
  {
   "cell_type": "code",
   "execution_count": 63,
   "metadata": {},
   "outputs": [
    {
     "data": {
      "text/plain": [
       "'fhsjkfsdghfkyuifhsdjkfhsdjkfhwuifyhwekfhsjkvhsk'"
      ]
     },
     "execution_count": 63,
     "metadata": {},
     "output_type": "execute_result"
    }
   ],
   "source": [
    "ijk"
   ]
  },
  {
   "cell_type": "code",
   "execution_count": 85,
   "metadata": {},
   "outputs": [
    {
     "data": {
      "text/plain": [
       "'Sabik  is working from ameerpet'"
      ]
     },
     "execution_count": 85,
     "metadata": {},
     "output_type": "execute_result"
    }
   ],
   "source": [
    "ij=\"sabik  is working from ameerpet\"\n",
    "\n",
    "ij.capitalize()"
   ]
  },
  {
   "cell_type": "code",
   "execution_count": 86,
   "metadata": {},
   "outputs": [
    {
     "data": {
      "text/plain": [
       "'Sabik Is Working From Ameerpet'"
      ]
     },
     "execution_count": 86,
     "metadata": {},
     "output_type": "execute_result"
    }
   ],
   "source": [
    "ij=\"sabik is working from ameerpet\"\n",
    "\n",
    "ij.title()"
   ]
  },
  {
   "cell_type": "code",
   "execution_count": 87,
   "metadata": {},
   "outputs": [
    {
     "data": {
      "text/plain": [
       "'kOlKaTa'"
      ]
     },
     "execution_count": 87,
     "metadata": {},
     "output_type": "execute_result"
    }
   ],
   "source": [
    "\"KoLkAtA\".swapcase()"
   ]
  },
  {
   "cell_type": "code",
   "execution_count": 88,
   "metadata": {},
   "outputs": [
    {
     "data": {
      "text/plain": [
       "'raju'"
      ]
     },
     "execution_count": 88,
     "metadata": {},
     "output_type": "execute_result"
    }
   ],
   "source": [
    "name = \"                raju           \"\n",
    "\n",
    "name.strip()"
   ]
  },
  {
   "cell_type": "code",
   "execution_count": 89,
   "metadata": {},
   "outputs": [
    {
     "data": {
      "text/plain": [
       "'raju'"
      ]
     },
     "execution_count": 89,
     "metadata": {},
     "output_type": "execute_result"
    }
   ],
   "source": [
    "name1=\"    raju\"\n",
    "\n",
    "name1.lstrip()"
   ]
  },
  {
   "cell_type": "code",
   "execution_count": 90,
   "metadata": {},
   "outputs": [
    {
     "data": {
      "text/plain": [
       "'raju'"
      ]
     },
     "execution_count": 90,
     "metadata": {},
     "output_type": "execute_result"
    }
   ],
   "source": [
    "name2=\"raju       \"\n",
    "\n",
    "name2.rstrip()"
   ]
  },
  {
   "cell_type": "markdown",
   "metadata": {},
   "source": [
    "# count()\n",
    ">> count() method returns the count of a string in the given string"
   ]
  },
  {
   "cell_type": "code",
   "execution_count": 71,
   "metadata": {},
   "outputs": [
    {
     "data": {
      "text/plain": [
       "'Deep Neural Networks'"
      ]
     },
     "execution_count": 71,
     "metadata": {},
     "output_type": "execute_result"
    }
   ],
   "source": [
    "bc_d1"
   ]
  },
  {
   "cell_type": "code",
   "execution_count": 91,
   "metadata": {},
   "outputs": [
    {
     "data": {
      "text/plain": [
       "2"
      ]
     },
     "execution_count": 91,
     "metadata": {},
     "output_type": "execute_result"
    }
   ],
   "source": [
    "bc_d1.count(\"Ne\")"
   ]
  },
  {
   "cell_type": "code",
   "execution_count": 92,
   "metadata": {},
   "outputs": [
    {
     "data": {
      "text/plain": [
       "4"
      ]
     },
     "execution_count": 92,
     "metadata": {},
     "output_type": "execute_result"
    }
   ],
   "source": [
    "bc_d1.count(\"e\")"
   ]
  },
  {
   "cell_type": "code",
   "execution_count": 93,
   "metadata": {},
   "outputs": [
    {
     "data": {
      "text/plain": [
       "2"
      ]
     },
     "execution_count": 93,
     "metadata": {},
     "output_type": "execute_result"
    }
   ],
   "source": [
    "bc_d1.count(\" \")"
   ]
  },
  {
   "cell_type": "code",
   "execution_count": 75,
   "metadata": {},
   "outputs": [
    {
     "data": {
      "text/plain": [
       "1"
      ]
     },
     "execution_count": 75,
     "metadata": {},
     "output_type": "execute_result"
    }
   ],
   "source": [
    "bc_d1.count(\"Deep\")"
   ]
  },
  {
   "cell_type": "markdown",
   "metadata": {},
   "source": [
    "# find()\n",
    "\n",
    ">> find() method returns the index of the first occurrence of a string present in a given string. Similar to the count() method, the find() method takes a string as an argument\n",
    "\n",
    ">>suppose, if specific string was not present in the given string , we will get the -1 as output, it represents No string"
   ]
  },
  {
   "cell_type": "code",
   "execution_count": 94,
   "metadata": {},
   "outputs": [
    {
     "data": {
      "text/plain": [
       "'Deep Neural Networks'"
      ]
     },
     "execution_count": 94,
     "metadata": {},
     "output_type": "execute_result"
    }
   ],
   "source": [
    "bc_d1"
   ]
  },
  {
   "cell_type": "code",
   "execution_count": 95,
   "metadata": {},
   "outputs": [
    {
     "data": {
      "text/plain": [
       "0"
      ]
     },
     "execution_count": 95,
     "metadata": {},
     "output_type": "execute_result"
    }
   ],
   "source": [
    "bc_d1.find(\"D\")"
   ]
  },
  {
   "cell_type": "code",
   "execution_count": 96,
   "metadata": {},
   "outputs": [
    {
     "data": {
      "text/plain": [
       "5"
      ]
     },
     "execution_count": 96,
     "metadata": {},
     "output_type": "execute_result"
    }
   ],
   "source": [
    "bc_d1.find(\"N\")"
   ]
  },
  {
   "cell_type": "code",
   "execution_count": 97,
   "metadata": {},
   "outputs": [
    {
     "data": {
      "text/plain": [
       "-1"
      ]
     },
     "execution_count": 97,
     "metadata": {},
     "output_type": "execute_result"
    }
   ],
   "source": [
    "bc_d1.find(\"z\")"
   ]
  },
  {
   "cell_type": "code",
   "execution_count": 98,
   "metadata": {},
   "outputs": [
    {
     "data": {
      "text/plain": [
       "-1"
      ]
     },
     "execution_count": 98,
     "metadata": {},
     "output_type": "execute_result"
    }
   ],
   "source": [
    "bc_d1.find(\"i\")"
   ]
  },
  {
   "cell_type": "markdown",
   "metadata": {},
   "source": [
    "## replace()\n",
    ">> replace() method takes two arguments - (i) the string to replace and (ii) the string to replace with, and returns a modified string after the operation"
   ]
  },
  {
   "cell_type": "code",
   "execution_count": 81,
   "metadata": {},
   "outputs": [
    {
     "data": {
      "text/plain": [
       "'Deep Neural Networks'"
      ]
     },
     "execution_count": 81,
     "metadata": {},
     "output_type": "execute_result"
    }
   ],
   "source": [
    "bc_d1"
   ]
  },
  {
   "cell_type": "code",
   "execution_count": 99,
   "metadata": {},
   "outputs": [
    {
     "data": {
      "text/plain": [
       "'Deep---Neural---Networks'"
      ]
     },
     "execution_count": 99,
     "metadata": {},
     "output_type": "execute_result"
    }
   ],
   "source": [
    "bc_d1.replace(\" \",\"---\")"
   ]
  },
  {
   "cell_type": "code",
   "execution_count": 100,
   "metadata": {},
   "outputs": [
    {
     "data": {
      "text/plain": [
       "'Deep Leural Letworks'"
      ]
     },
     "execution_count": 100,
     "metadata": {},
     "output_type": "execute_result"
    }
   ],
   "source": [
    "bc_d1.replace(\"N\",\"L\")"
   ]
  },
  {
   "cell_type": "code",
   "execution_count": 101,
   "metadata": {},
   "outputs": [
    {
     "data": {
      "text/plain": [
       "'keep Neural Networks'"
      ]
     },
     "execution_count": 101,
     "metadata": {},
     "output_type": "execute_result"
    }
   ],
   "source": [
    "bc_d1.replace(\"D\",\"k\")"
   ]
  },
  {
   "cell_type": "markdown",
   "metadata": {},
   "source": [
    "## endswith/startswith"
   ]
  },
  {
   "cell_type": "code",
   "execution_count": 102,
   "metadata": {},
   "outputs": [
    {
     "data": {
      "text/plain": [
       "False"
      ]
     },
     "execution_count": 102,
     "metadata": {},
     "output_type": "execute_result"
    }
   ],
   "source": [
    "a=\"it is raining\"\n",
    "\n",
    "a.endswith(\"if\")"
   ]
  },
  {
   "cell_type": "code",
   "execution_count": 103,
   "metadata": {},
   "outputs": [
    {
     "data": {
      "text/plain": [
       "True"
      ]
     },
     "execution_count": 103,
     "metadata": {},
     "output_type": "execute_result"
    }
   ],
   "source": [
    "a=\"it is raining\"\n",
    "\n",
    "a.startswith(\"it\")"
   ]
  },
  {
   "cell_type": "markdown",
   "metadata": {},
   "source": [
    "# isalnum/ isalpha/ isdecimal/ isdigit/ isidentifier"
   ]
  },
  {
   "cell_type": "code",
   "execution_count": 104,
   "metadata": {},
   "outputs": [
    {
     "data": {
      "text/plain": [
       "True"
      ]
     },
     "execution_count": 104,
     "metadata": {},
     "output_type": "execute_result"
    }
   ],
   "source": [
    "b=\"Flat\"\n",
    "\n",
    "b.isalpha()"
   ]
  },
  {
   "cell_type": "code",
   "execution_count": 105,
   "metadata": {},
   "outputs": [
    {
     "data": {
      "text/plain": [
       "False"
      ]
     },
     "execution_count": 105,
     "metadata": {},
     "output_type": "execute_result"
    }
   ],
   "source": [
    "c=\"Flat20\"\n",
    "\n",
    "c.isalpha()"
   ]
  },
  {
   "cell_type": "code",
   "execution_count": 106,
   "metadata": {},
   "outputs": [
    {
     "data": {
      "text/plain": [
       "True"
      ]
     },
     "execution_count": 106,
     "metadata": {},
     "output_type": "execute_result"
    }
   ],
   "source": [
    "d=\"Flat20\"\n",
    "\n",
    "d.isalnum()"
   ]
  },
  {
   "cell_type": "code",
   "execution_count": 107,
   "metadata": {},
   "outputs": [
    {
     "data": {
      "text/plain": [
       "True"
      ]
     },
     "execution_count": 107,
     "metadata": {},
     "output_type": "execute_result"
    }
   ],
   "source": [
    "b=\"Flat\"\n",
    "b.isalnum()"
   ]
  },
  {
   "cell_type": "code",
   "execution_count": 108,
   "metadata": {},
   "outputs": [
    {
     "data": {
      "text/plain": [
       "True"
      ]
     },
     "execution_count": 108,
     "metadata": {},
     "output_type": "execute_result"
    }
   ],
   "source": [
    "x=\"35\"\n",
    "x.isalnum()"
   ]
  },
  {
   "cell_type": "code",
   "execution_count": 109,
   "metadata": {},
   "outputs": [
    {
     "data": {
      "text/plain": [
       "False"
      ]
     },
     "execution_count": 109,
     "metadata": {},
     "output_type": "execute_result"
    }
   ],
   "source": [
    "b=\"FLAT20&\"\n",
    "\n",
    "b.isalnum()"
   ]
  },
  {
   "cell_type": "code",
   "execution_count": 110,
   "metadata": {},
   "outputs": [
    {
     "data": {
      "text/plain": [
       "True"
      ]
     },
     "execution_count": 110,
     "metadata": {},
     "output_type": "execute_result"
    }
   ],
   "source": [
    "e=\"20\"\n",
    "\n",
    "e.isdigit()"
   ]
  },
  {
   "cell_type": "code",
   "execution_count": 95,
   "metadata": {},
   "outputs": [
    {
     "data": {
      "text/plain": [
       "False"
      ]
     },
     "execution_count": 95,
     "metadata": {},
     "output_type": "execute_result"
    }
   ],
   "source": [
    "f=\"flat20\"\n",
    "\n",
    "f.isdigit()"
   ]
  },
  {
   "cell_type": "markdown",
   "metadata": {},
   "source": [
    "# Split/ Join Replace/ Strip"
   ]
  },
  {
   "cell_type": "code",
   "execution_count": 111,
   "metadata": {},
   "outputs": [
    {
     "data": {
      "text/plain": [
       "['who', 'is', 'the', 'pm', 'of', 'india']"
      ]
     },
     "execution_count": 111,
     "metadata": {},
     "output_type": "execute_result"
    }
   ],
   "source": [
    "ab=\"who is the pm of india\"\n",
    "\n",
    "ab.split()"
   ]
  },
  {
   "cell_type": "code",
   "execution_count": 112,
   "metadata": {},
   "outputs": [
    {
     "data": {
      "text/plain": [
       "['who is the pm of india']"
      ]
     },
     "execution_count": 112,
     "metadata": {},
     "output_type": "execute_result"
    }
   ],
   "source": [
    "ab.split(\"x\")"
   ]
  },
  {
   "cell_type": "code",
   "execution_count": 98,
   "metadata": {},
   "outputs": [
    {
     "data": {
      "text/plain": [
       "['who is the pm of india']"
      ]
     },
     "execution_count": 98,
     "metadata": {},
     "output_type": "execute_result"
    }
   ],
   "source": [
    "ab.split(\"v\")"
   ]
  },
  {
   "cell_type": "code",
   "execution_count": 99,
   "metadata": {},
   "outputs": [
    {
     "data": {
      "text/plain": [
       "'who is the pm of india'"
      ]
     },
     "execution_count": 99,
     "metadata": {},
     "output_type": "execute_result"
    }
   ],
   "source": [
    "\n",
    "de=['who', 'is', 'the', 'pm', 'of', 'india']\n",
    "\n",
    "\" \".join(de)"
   ]
  },
  {
   "cell_type": "code",
   "execution_count": 100,
   "metadata": {},
   "outputs": [
    {
     "data": {
      "text/plain": [
       "'who@is@the@pm@of@india'"
      ]
     },
     "execution_count": 100,
     "metadata": {},
     "output_type": "execute_result"
    }
   ],
   "source": [
    "\"@\".join(de)"
   ]
  },
  {
   "cell_type": "code",
   "execution_count": 101,
   "metadata": {},
   "outputs": [
    {
     "data": {
      "text/plain": [
       "'who*is*the*pm*of*india'"
      ]
     },
     "execution_count": 101,
     "metadata": {},
     "output_type": "execute_result"
    }
   ],
   "source": [
    "\"*\".join(de)"
   ]
  },
  {
   "cell_type": "code",
   "execution_count": 102,
   "metadata": {},
   "outputs": [
    {
     "data": {
      "text/plain": [
       "'**laxman**'"
      ]
     },
     "execution_count": 102,
     "metadata": {},
     "output_type": "execute_result"
    }
   ],
   "source": [
    "s = \"laxman\"\n",
    "\n",
    "s.center(10 , '*')"
   ]
  },
  {
   "cell_type": "markdown",
   "metadata": {},
   "source": [
    "# format"
   ]
  },
  {
   "cell_type": "code",
   "execution_count": 113,
   "metadata": {},
   "outputs": [
    {
     "name": "stdout",
     "output_type": "stream",
     "text": [
      "Hello my name is laxman and I am 16\n"
     ]
    }
   ],
   "source": [
    "print(\"Hello my name is {} and I am {}\".format(\"laxman\",16))"
   ]
  },
  {
   "cell_type": "code",
   "execution_count": 104,
   "metadata": {},
   "outputs": [
    {
     "name": "stdout",
     "output_type": "stream",
     "text": [
      "Hello my name is 16 and I am laxman\n"
     ]
    }
   ],
   "source": [
    "print(\"Hello my name is {1} and I am {0}\".format(\"laxman\",16))"
   ]
  },
  {
   "cell_type": "code",
   "execution_count": 105,
   "metadata": {},
   "outputs": [
    {
     "name": "stdout",
     "output_type": "stream",
     "text": [
      "Hello my name is 16 and I am laxman\n"
     ]
    }
   ],
   "source": [
    "print(\"Hello my name is {age} and I am {name}\".format(name = \"laxman\",age = 16))"
   ]
  },
  {
   "cell_type": "code",
   "execution_count": 106,
   "metadata": {},
   "outputs": [
    {
     "name": "stdout",
     "output_type": "stream",
     "text": [
      "Hello my name is laxman and I am laxman\n"
     ]
    }
   ],
   "source": [
    "print(\"Hello my name is {name} and I am {name}\".format(name = \"laxman\",age = 16, weight = 54))"
   ]
  },
  {
   "cell_type": "code",
   "execution_count": 117,
   "metadata": {},
   "outputs": [
    {
     "name": "stdout",
     "output_type": "stream",
     "text": [
      "Hello my name is laxman and I am 16\n"
     ]
    }
   ],
   "source": [
    "name = \"laxman\"\n",
    "age = 16\n",
    "print(f\"Hello my name is {name} and I am {age}\")"
   ]
  },
  {
   "cell_type": "code",
   "execution_count": null,
   "metadata": {},
   "outputs": [],
   "source": []
  },
  {
   "cell_type": "markdown",
   "metadata": {},
   "source": [
    "# Common Interview Questions----Coding --String Based"
   ]
  },
  {
   "cell_type": "code",
   "execution_count": 107,
   "metadata": {},
   "outputs": [
    {
     "name": "stdout",
     "output_type": "stream",
     "text": [
      "ß\n",
      "ss\n"
     ]
    }
   ],
   "source": [
    "## what is the difference between casefold and lower\n",
    "s = \"ß\"\n",
    "print(s.lower())      # Output: ß\n",
    "print(s.casefold())   # Output: ss\n"
   ]
  },
  {
   "cell_type": "code",
   "execution_count": 108,
   "metadata": {},
   "outputs": [],
   "source": [
    "#  spiliting strings and join strings\n",
    "ramu=\"sabik  for DataScience\""
   ]
  },
  {
   "cell_type": "code",
   "execution_count": 109,
   "metadata": {},
   "outputs": [
    {
     "name": "stdout",
     "output_type": "stream",
     "text": [
      "['welcome', 'to', 'datascience', 'program']\n",
      "['program', 'datascience', 'to', 'welcome']\n",
      "program datascience to welcome\n"
     ]
    }
   ],
   "source": [
    "#1) python program for reverse the string\n",
    "\n",
    "#method-1\n",
    "word=\"welcome to datascience program\"\n",
    "words=word.split()  # the split the string by space and it becomes a list\n",
    "print(words)\n",
    "words=words[::-1]\n",
    "print(words)\n",
    "output=\" \".join(words)   # join will joining all comma separated values\n",
    "print(output)"
   ]
  },
  {
   "cell_type": "code",
   "execution_count": 110,
   "metadata": {},
   "outputs": [
    {
     "name": "stdout",
     "output_type": "stream",
     "text": [
      "['welcome', 'to', 'datascience', 'program']\n"
     ]
    },
    {
     "data": {
      "text/plain": [
       "'program datascience to welcome'"
      ]
     },
     "execution_count": 110,
     "metadata": {},
     "output_type": "execute_result"
    }
   ],
   "source": [
    "#method-2\n",
    "word=\"welcome to datascience program\"\n",
    "\n",
    "word = word.split()\n",
    "print(word)\n",
    "' '.join(reversed(word))"
   ]
  },
  {
   "cell_type": "code",
   "execution_count": 111,
   "metadata": {},
   "outputs": [
    {
     "data": {
      "text/plain": [
       "'program datascience to welcome'"
      ]
     },
     "execution_count": 111,
     "metadata": {},
     "output_type": "execute_result"
    }
   ],
   "source": [
    "#method-3\n",
    "def reves_str(strg):\n",
    "  strg=strg.split()\n",
    "  strg=strg[::-1]\n",
    "  strg=' '.join(strg)\n",
    "  return strg\n",
    "\n",
    "\n",
    "word=\"welcome to datascience program\"\n",
    "reves_str(word)"
   ]
  },
  {
   "cell_type": "code",
   "execution_count": 112,
   "metadata": {},
   "outputs": [
    {
     "data": {
      "text/plain": [
       "True"
      ]
     },
     "execution_count": 112,
     "metadata": {},
     "output_type": "execute_result"
    }
   ],
   "source": [
    "#2)  write a python  program for palidrome\n",
    "\n",
    "#mt-1\n",
    "\n",
    "strng='amaama'\n",
    "strng==strng[::-1]"
   ]
  },
  {
   "cell_type": "code",
   "execution_count": 113,
   "metadata": {},
   "outputs": [
    {
     "data": {
      "text/plain": [
       "False"
      ]
     },
     "execution_count": 113,
     "metadata": {},
     "output_type": "execute_result"
    }
   ],
   "source": [
    "strng1=\"laxman\"\n",
    "strng1==strng1[::-1]"
   ]
  },
  {
   "cell_type": "code",
   "execution_count": 114,
   "metadata": {},
   "outputs": [
    {
     "name": "stdout",
     "output_type": "stream",
     "text": [
      "palidrome\n"
     ]
    }
   ],
   "source": [
    "#method-2\n",
    "def palindrome(strng):\n",
    "  if strng==strng[::-1]:\n",
    "    print('palidrome')\n",
    "  else:\n",
    "      print(\"not palidrome\")\n",
    "\n",
    "palindrome(\"ama\")"
   ]
  },
  {
   "cell_type": "code",
   "execution_count": 118,
   "metadata": {},
   "outputs": [
    {
     "name": "stdout",
     "output_type": "stream",
     "text": [
      "value  m\n",
      "m\n",
      "value  a\n",
      "am\n",
      "value  m\n",
      "mam\n",
      "Its palindrom\n"
     ]
    }
   ],
   "source": [
    "# without indexing\n",
    "#mt-3\n",
    "my_str= \"mam\"\n",
    "st=\"\"\n",
    "for i in my_str:\n",
    "  print(f\"value  {i}\")\n",
    "  st = i+st\n",
    "  print(st)\n",
    "\n",
    "if my_str == st:\n",
    " print('Its palindrom')\n",
    "else:\n",
    " print('Its not palindrom')"
   ]
  },
  {
   "cell_type": "code",
   "execution_count": 120,
   "metadata": {},
   "outputs": [
    {
     "name": "stdout",
     "output_type": "stream",
     "text": [
      "True\n",
      "False\n"
     ]
    }
   ],
   "source": [
    "#3)  check if two words are anagram or not\n",
    "\n",
    "#If two words anagarams\n",
    "def is_angaram(str1,str2):\n",
    "  return sorted(str1)==sorted(str2)\n",
    "\n",
    "print(is_angaram('love','vole'))\n",
    "print(is_angaram('laxman','laxMAN'))"
   ]
  },
  {
   "cell_type": "code",
   "execution_count": 121,
   "metadata": {},
   "outputs": [
    {
     "name": "stdout",
     "output_type": "stream",
     "text": [
      "7\n"
     ]
    }
   ],
   "source": [
    "#4) python program for  length of string\n",
    "\n",
    "s='welcome'\n",
    "count=0\n",
    "for i in s:\n",
    "  count=count+1   # count+=1\n",
    "print(count)\n",
    "\n",
    "#mt-3\n",
    "len(s)\n",
    "\n",
    "#mt-4\n",
    "def lenth(stg):\n",
    "  count=0\n",
    "  for i in stg:\n",
    "    count+=1\n",
    "  return count"
   ]
  },
  {
   "cell_type": "code",
   "execution_count": 122,
   "metadata": {},
   "outputs": [
    {
     "name": "stdout",
     "output_type": "stream",
     "text": [
      "14\n"
     ]
    }
   ],
   "source": [
    "#mt-4\n",
    "\n",
    "lax=\"data scientist\"\n",
    "lax=[*lax]   # separation of characters\n",
    "count=0                       # for length space also counted\n",
    "for i in lax:\n",
    "  count=count+1\n",
    "print(count)"
   ]
  },
  {
   "cell_type": "code",
   "execution_count": 123,
   "metadata": {},
   "outputs": [],
   "source": [
    "#5) python program for  counting even length of words\n",
    "\n",
    "def evenlenth(strn):\n",
    "  strn=strn.split(\" \")\n",
    "  print(strn)\n",
    "  for word in strn:\n",
    "    if len(word)%2==0:\n",
    "      print(word)"
   ]
  },
  {
   "cell_type": "code",
   "execution_count": 124,
   "metadata": {},
   "outputs": [
    {
     "name": "stdout",
     "output_type": "stream",
     "text": [
      "['Before', 'discussing', 'about', 'regularization,', \"we'll\", 'do', 'a', 'quick', 'recap', 'on', 'the', 'notion', 'of', 'overfitting', 'and', 'the', 'bias-variance', 'tradeoff']\n",
      "Before\n",
      "discussing\n",
      "do\n",
      "on\n",
      "notion\n",
      "of\n",
      "tradeoff\n"
     ]
    }
   ],
   "source": [
    "ravi=\"Before discussing about regularization, we'll do a quick recap on the notion of overfitting and the bias-variance tradeoff\"\n",
    "\n",
    "evenlenth(ravi)"
   ]
  },
  {
   "cell_type": "code",
   "execution_count": 125,
   "metadata": {},
   "outputs": [
    {
     "name": "stdout",
     "output_type": "stream",
     "text": [
      "['ravi', 'kumar', 'varma', 'father', 'ravi']\n",
      "2\n",
      "['ravi', 'ravi']\n"
     ]
    }
   ],
   "source": [
    "# counting of ravi  word\n",
    "s='ravi kumar varma father ravi '\n",
    "counts=[]\n",
    "count=0\n",
    "s=s.split()\n",
    "print(s)\n",
    "for i in s:\n",
    "\n",
    "  if i=='ravi':\n",
    "    counts.append(i)\n",
    "    count+=1\n",
    "print(count)\n",
    "print(counts)"
   ]
  },
  {
   "cell_type": "code",
   "execution_count": 126,
   "metadata": {},
   "outputs": [
    {
     "data": {
      "text/plain": [
       "10"
      ]
     },
     "execution_count": 126,
     "metadata": {},
     "output_type": "execute_result"
    }
   ],
   "source": [
    "# Number of words in a given sentense\n",
    "mystring = 'Maintaining & expending the database of prospects for the organization.'\n",
    "len(mystring.split())"
   ]
  },
  {
   "cell_type": "code",
   "execution_count": 127,
   "metadata": {},
   "outputs": [],
   "source": [
    "#6)  python program for checking  vowels existed or not\n",
    "\n",
    "\n",
    "def check(s):\n",
    "    s=s.split()\n",
    "    print(s)\n",
    "    for word in s:\n",
    "\n",
    "      if set(word.lower()).intersection(\"aeiou\"):\n",
    "\n",
    "        print('vowel in word',word)\n",
    "      else:\n",
    "        print('not vowel word',word)"
   ]
  },
  {
   "cell_type": "code",
   "execution_count": 128,
   "metadata": {},
   "outputs": [
    {
     "name": "stdout",
     "output_type": "stream",
     "text": [
      "['immutable']\n",
      "vowel in word immutable\n"
     ]
    }
   ],
   "source": [
    "check('immutable')"
   ]
  },
  {
   "cell_type": "code",
   "execution_count": 129,
   "metadata": {},
   "outputs": [
    {
     "data": {
      "text/plain": [
       "(2, ['o', 'e'])"
      ]
     },
     "execution_count": 129,
     "metadata": {},
     "output_type": "execute_result"
    }
   ],
   "source": [
    "# Python program to count number of vowels using sets in given string\n",
    "\n",
    "raju=set(\"Hello World\")\n",
    "\n",
    "def vowel(raj):\n",
    "  count=0\n",
    "  cou=[]\n",
    "  vowels=\"aeiouAEIOU\"\n",
    "  for i in raj:\n",
    "    if i in vowels:\n",
    "      count+=1\n",
    "      cou.append(i)\n",
    "  return count,cou\n",
    "\n",
    "vowel(raju)"
   ]
  },
  {
   "cell_type": "code",
   "execution_count": 130,
   "metadata": {},
   "outputs": [
    {
     "name": "stdout",
     "output_type": "stream",
     "text": [
      "Vowels : 2 Consonants: 4\n"
     ]
    }
   ],
   "source": [
    " #Count of vowels and consonants\n",
    "# taking input from the user\n",
    "st = input('Enter a String : ')\n",
    "vowels = 0\n",
    "consonants = 0\n",
    "for i in st:\n",
    "    if i in ('a','e','i','o','u','A','E','I','O','U'):\n",
    "        vowels+=1\n",
    "    elif i.isalpha():\n",
    "        consonants+=1\n",
    "print('Vowels :',vowels,'Consonants:',consonants)"
   ]
  },
  {
   "cell_type": "code",
   "execution_count": 131,
   "metadata": {},
   "outputs": [
    {
     "name": "stdout",
     "output_type": "stream",
     "text": [
      "['D', 'a', 't', 'a', 'V', 'a', 'l', 'l', 'e', 'y', ' ', 'f', 'o', 'r', ' ', 'D', 'a', 't', 'a', 'S', 'c', 'i', 'e', 'n', 'c', 'e']\n",
      "D a t V l e y   f o r S c i n\n"
     ]
    }
   ],
   "source": [
    "#7)   python program for unique items i.e Remove all duplicates charters  from a given string\n",
    "\n",
    "#mt-1\n",
    "laxman=\"DataValley for DataScience\"\n",
    "from collections import Counter\n",
    "def uni(char):\n",
    "  char=[*char]\n",
    "  print(char)\n",
    "  char=Counter(char)\n",
    "  s=\" \".join(char.keys())\n",
    "  print(s)\n",
    "\n",
    "uni(laxman)"
   ]
  },
  {
   "cell_type": "code",
   "execution_count": 132,
   "metadata": {},
   "outputs": [
    {
     "name": "stdout",
     "output_type": "stream",
     "text": [
      "orginal string::-  Gfg is best Gfg also has Classes now. Classes help understand better \n",
      "gfg is best gfg also has classes now. classes help understand better\n",
      "Counter({'gfg': 2, 'classes': 2, 'is': 1, 'best': 1, 'also': 1, 'has': 1, 'now.': 1, 'help': 1, 'understand': 1, 'better': 1})\n",
      "gfg is best also has classes now. help understand better\n"
     ]
    }
   ],
   "source": [
    "#  (removing all duplicate words) from given string\n",
    "\n",
    "#mt-2\n",
    "\n",
    "from collections import  Counter\n",
    "def unique(strg):\n",
    "  print(f\"orginal string::-  {strg} \")\n",
    "  strg=strg.lower()\n",
    "  print(strg)\n",
    "  strg=strg.split()\n",
    "  strg=Counter(strg)\n",
    "  print(strg)\n",
    "  s=\" \".join(strg.keys())\n",
    "  print(s)\n",
    "\n",
    "\n",
    "ravi= 'Gfg is best Gfg also has Classes now. Classes help understand better'\n",
    "\n",
    "unique(ravi)"
   ]
  },
  {
   "cell_type": "code",
   "execution_count": 133,
   "metadata": {},
   "outputs": [
    {
     "name": "stdout",
     "output_type": "stream",
     "text": [
      "Python is great and Java also\n"
     ]
    }
   ],
   "source": [
    "# Remove all duplicates words from given string\n",
    "\n",
    "laX=\"Python is great and Java is also great\"\n",
    "\n",
    "#mt-1\n",
    "\n",
    "def unique(strg):\n",
    "  strg=strg.split()\n",
    "  strg=Counter(strg)\n",
    "  s=\" \".join(strg.keys())\n",
    "  print(s)\n",
    "\n",
    "unique(laX)"
   ]
  },
  {
   "cell_type": "code",
   "execution_count": 137,
   "metadata": {},
   "outputs": [
    {
     "name": "stdout",
     "output_type": "stream",
     "text": [
      "Collecting pandas\n",
      "  Using cached pandas-2.0.3-cp38-cp38-win_amd64.whl.metadata (18 kB)\n",
      "Requirement already satisfied: python-dateutil>=2.8.2 in c:\\anaconda\\envs\\sabikds\\lib\\site-packages (from pandas) (2.9.0)\n",
      "Collecting pytz>=2020.1 (from pandas)\n",
      "  Using cached pytz-2024.1-py2.py3-none-any.whl.metadata (22 kB)\n",
      "Collecting tzdata>=2022.1 (from pandas)\n",
      "  Using cached tzdata-2024.1-py2.py3-none-any.whl.metadata (1.4 kB)\n",
      "Collecting numpy>=1.20.3 (from pandas)\n",
      "  Using cached numpy-1.24.4-cp38-cp38-win_amd64.whl.metadata (5.6 kB)\n",
      "Requirement already satisfied: six>=1.5 in c:\\anaconda\\envs\\sabikds\\lib\\site-packages (from python-dateutil>=2.8.2->pandas) (1.16.0)\n",
      "Using cached pandas-2.0.3-cp38-cp38-win_amd64.whl (10.8 MB)\n",
      "Using cached numpy-1.24.4-cp38-cp38-win_amd64.whl (14.9 MB)\n",
      "Using cached pytz-2024.1-py2.py3-none-any.whl (505 kB)\n",
      "Using cached tzdata-2024.1-py2.py3-none-any.whl (345 kB)\n",
      "Installing collected packages: pytz, tzdata, numpy, pandas\n",
      "Successfully installed numpy-1.24.4 pandas-2.0.3 pytz-2024.1 tzdata-2024.1\n"
     ]
    }
   ],
   "source": [
    "! pip install pandas"
   ]
  },
  {
   "cell_type": "code",
   "execution_count": 140,
   "metadata": {},
   "outputs": [],
   "source": [
    "# removing duplicate items in string i.e only unique items\n",
    "import pandas as pd\n",
    "\n",
    "# mt-2\n",
    "def removeduplicates(string):\n",
    "  strg=string.lower()\n",
    "  print(strg)\n",
    "  string=strg.split()\n",
    "  print(string)\n",
    "  return \" \".join (pd.unique(string))"
   ]
  },
  {
   "cell_type": "code",
   "execution_count": 141,
   "metadata": {},
   "outputs": [
    {
     "name": "stdout",
     "output_type": "stream",
     "text": [
      "gfg is best gfg also has classes now. classes help understand better\n",
      "['gfg', 'is', 'best', 'gfg', 'also', 'has', 'classes', 'now.', 'classes', 'help', 'understand', 'better']\n"
     ]
    },
    {
     "data": {
      "text/plain": [
       "'gfg is best also has classes now. help understand better'"
      ]
     },
     "execution_count": 141,
     "metadata": {},
     "output_type": "execute_result"
    }
   ],
   "source": [
    "ravi= 'Gfg is best Gfg also has Classes now. Classes help understand better'\n",
    "#ravi.lower()\n",
    "removeduplicates(ravi)"
   ]
  },
  {
   "cell_type": "code",
   "execution_count": 142,
   "metadata": {},
   "outputs": [],
   "source": [
    "#mt-3\n",
    "import pandas as pd\n",
    "def removeduplicates(string):\n",
    "   strs=string.lower()\n",
    "   print(strs)\n",
    "   string=strs.split()\n",
    "   return \" \".join (set(string))"
   ]
  },
  {
   "cell_type": "code",
   "execution_count": 143,
   "metadata": {},
   "outputs": [
    {
     "name": "stdout",
     "output_type": "stream",
     "text": [
      "gfg is best gfg also has classes now. classes help understand better\n"
     ]
    },
    {
     "data": {
      "text/plain": [
       "'has gfg help better is understand classes best also now.'"
      ]
     },
     "execution_count": 143,
     "metadata": {},
     "output_type": "execute_result"
    }
   ],
   "source": [
    "ravi= 'Gfg is best Gfg also has Classes now. Classes help understand better'\n",
    "\n",
    "removeduplicates(ravi)"
   ]
  },
  {
   "cell_type": "code",
   "execution_count": 144,
   "metadata": {},
   "outputs": [],
   "source": [
    "#8) Find all duplicate characters in string\n",
    "\n",
    "#mt-1\n",
    "from collections import Counter\n",
    "def find_dup(st):\n",
    "  st=Counter(st)\n",
    "  print(st)\n",
    "  for key,value in st.items():\n",
    "    if value>1:\n",
    "      print(key)"
   ]
  },
  {
   "cell_type": "code",
   "execution_count": 145,
   "metadata": {},
   "outputs": [
    {
     "name": "stdout",
     "output_type": "stream",
     "text": [
      "Counter({'a': 5, 'e': 3, 'D': 2, 't': 2, 'l': 2, ' ': 2, 'c': 2, 'V': 1, 'y': 1, 'f': 1, 'o': 1, 'r': 1, 'S': 1, 'i': 1, 'n': 1})\n",
      "D\n",
      "a\n",
      "t\n",
      "l\n",
      "e\n",
      " \n",
      "c\n"
     ]
    }
   ],
   "source": [
    "find_dup('DataValley for DataScience')"
   ]
  },
  {
   "cell_type": "code",
   "execution_count": 146,
   "metadata": {},
   "outputs": [],
   "source": [
    "# find all duplicte words in string\n",
    "\n",
    "#mt-2\n",
    "ravi= 'Gfg is best Gfg also has Classes now. Classes help understand better'\n",
    "from collections import Counter\n",
    "\n",
    "def dup(stg):\n",
    "  stg=stg.split()\n",
    "  print(stg)\n",
    "  stg=Counter(stg)\n",
    "  print(stg)\n",
    "  for key,value in stg.items():\n",
    "    if value > 1:\n",
    "      print(key)"
   ]
  },
  {
   "cell_type": "code",
   "execution_count": 147,
   "metadata": {},
   "outputs": [
    {
     "name": "stdout",
     "output_type": "stream",
     "text": [
      "['Gfg', 'is', 'best', 'Gfg', 'also', 'has', 'Classes', 'now.', 'Classes', 'help', 'understand', 'better']\n",
      "Counter({'Gfg': 2, 'Classes': 2, 'is': 1, 'best': 1, 'also': 1, 'has': 1, 'now.': 1, 'help': 1, 'understand': 1, 'better': 1})\n",
      "Gfg\n",
      "Classes\n"
     ]
    }
   ],
   "source": [
    "dup(ravi)"
   ]
  },
  {
   "cell_type": "code",
   "execution_count": 148,
   "metadata": {},
   "outputs": [],
   "source": [
    "#9) removing special characters\n",
    "\n",
    "#mt-1\n",
    "strings = \"Special $#! characters   spaces 888323\"\n",
    "def remov_spl(string):\n",
    "  for i in string:\n",
    "    if i.isalnum():\n",
    "       print(i)"
   ]
  },
  {
   "cell_type": "code",
   "execution_count": 149,
   "metadata": {},
   "outputs": [
    {
     "name": "stdout",
     "output_type": "stream",
     "text": [
      "S\n",
      "p\n",
      "e\n",
      "c\n",
      "i\n",
      "a\n",
      "l\n",
      "c\n",
      "h\n",
      "a\n",
      "r\n",
      "a\n",
      "c\n",
      "t\n",
      "e\n",
      "r\n",
      "s\n",
      "s\n",
      "p\n",
      "a\n",
      "c\n",
      "e\n",
      "s\n",
      "8\n",
      "8\n",
      "8\n",
      "3\n",
      "2\n",
      "3\n"
     ]
    }
   ],
   "source": [
    "remov_spl(strings)"
   ]
  },
  {
   "cell_type": "code",
   "execution_count": 150,
   "metadata": {},
   "outputs": [
    {
     "data": {
      "text/plain": [
       "'Specialcharactersspaces888323'"
      ]
     },
     "execution_count": 150,
     "metadata": {},
     "output_type": "execute_result"
    }
   ],
   "source": [
    "# removing special charaters\n",
    "#mt-2\n",
    "\n",
    "string = \"Special $#! characters   spaces 888323\"\n",
    "''.join(e for e in string if e.isalnum())"
   ]
  },
  {
   "cell_type": "code",
   "execution_count": 151,
   "metadata": {},
   "outputs": [
    {
     "data": {
      "text/plain": [
       "['stack',\n",
       " 'stakc',\n",
       " 'stcak',\n",
       " 'stcka',\n",
       " 'stkac',\n",
       " 'stkca',\n",
       " 'satck',\n",
       " 'satkc',\n",
       " 'sactk',\n",
       " 'sackt',\n",
       " 'saktc',\n",
       " 'sakct',\n",
       " 'sctak',\n",
       " 'sctka',\n",
       " 'scatk',\n",
       " 'scakt',\n",
       " 'sckta',\n",
       " 'sckat',\n",
       " 'sktac',\n",
       " 'sktca',\n",
       " 'skatc',\n",
       " 'skact',\n",
       " 'skcta',\n",
       " 'skcat',\n",
       " 'tsack',\n",
       " 'tsakc',\n",
       " 'tscak',\n",
       " 'tscka',\n",
       " 'tskac',\n",
       " 'tskca',\n",
       " 'tasck',\n",
       " 'taskc',\n",
       " 'tacsk',\n",
       " 'tacks',\n",
       " 'taksc',\n",
       " 'takcs',\n",
       " 'tcsak',\n",
       " 'tcska',\n",
       " 'tcask',\n",
       " 'tcaks',\n",
       " 'tcksa',\n",
       " 'tckas',\n",
       " 'tksac',\n",
       " 'tksca',\n",
       " 'tkasc',\n",
       " 'tkacs',\n",
       " 'tkcsa',\n",
       " 'tkcas',\n",
       " 'astck',\n",
       " 'astkc',\n",
       " 'asctk',\n",
       " 'asckt',\n",
       " 'asktc',\n",
       " 'askct',\n",
       " 'atsck',\n",
       " 'atskc',\n",
       " 'atcsk',\n",
       " 'atcks',\n",
       " 'atksc',\n",
       " 'atkcs',\n",
       " 'acstk',\n",
       " 'acskt',\n",
       " 'actsk',\n",
       " 'actks',\n",
       " 'ackst',\n",
       " 'ackts',\n",
       " 'akstc',\n",
       " 'aksct',\n",
       " 'aktsc',\n",
       " 'aktcs',\n",
       " 'akcst',\n",
       " 'akcts',\n",
       " 'cstak',\n",
       " 'cstka',\n",
       " 'csatk',\n",
       " 'csakt',\n",
       " 'cskta',\n",
       " 'cskat',\n",
       " 'ctsak',\n",
       " 'ctska',\n",
       " 'ctask',\n",
       " 'ctaks',\n",
       " 'ctksa',\n",
       " 'ctkas',\n",
       " 'castk',\n",
       " 'caskt',\n",
       " 'catsk',\n",
       " 'catks',\n",
       " 'cakst',\n",
       " 'cakts',\n",
       " 'cksta',\n",
       " 'cksat',\n",
       " 'cktsa',\n",
       " 'cktas',\n",
       " 'ckast',\n",
       " 'ckats',\n",
       " 'kstac',\n",
       " 'kstca',\n",
       " 'ksatc',\n",
       " 'ksact',\n",
       " 'kscta',\n",
       " 'kscat',\n",
       " 'ktsac',\n",
       " 'ktsca',\n",
       " 'ktasc',\n",
       " 'ktacs',\n",
       " 'ktcsa',\n",
       " 'ktcas',\n",
       " 'kastc',\n",
       " 'kasct',\n",
       " 'katsc',\n",
       " 'katcs',\n",
       " 'kacst',\n",
       " 'kacts',\n",
       " 'kcsta',\n",
       " 'kcsat',\n",
       " 'kctsa',\n",
       " 'kctas',\n",
       " 'kcast',\n",
       " 'kcats']"
      ]
     },
     "execution_count": 151,
     "metadata": {},
     "output_type": "execute_result"
    }
   ],
   "source": [
    "#10) permutation of a string\n",
    "\n",
    "from itertools import permutations\n",
    "\n",
    "perms = [''.join(p) for p in permutations('stack')]\n",
    "perms"
   ]
  },
  {
   "cell_type": "code",
   "execution_count": 152,
   "metadata": {},
   "outputs": [
    {
     "name": "stdout",
     "output_type": "stream",
     "text": [
      "laxmanlaxman\n"
     ]
    }
   ],
   "source": [
    "# 11) print  string N times\n",
    "\n",
    "she=\"laxman\"\n",
    "N=2\n",
    "print(she*N)"
   ]
  },
  {
   "cell_type": "code",
   "execution_count": 153,
   "metadata": {},
   "outputs": [
    {
     "name": "stdout",
     "output_type": "stream",
     "text": [
      "6\n",
      "i am bAD BOY\n"
     ]
    }
   ],
   "source": [
    "#12)write program for doing half uppercase\n",
    "\n",
    "\n",
    "#mt-1\n",
    "\n",
    "test=\"i am bad boy\"\n",
    "test_len=len(test)\n",
    "lowe_test=test.lower()\n",
    "upper_test=test.upper()\n",
    "\n",
    "order=test_len-(test_len//2)\n",
    "\n",
    "print(order)\n",
    "\n",
    "wanted=lowe_test[:order] + upper_test[order:]\n",
    "\n",
    "print(wanted)"
   ]
  },
  {
   "cell_type": "code",
   "execution_count": 154,
   "metadata": {},
   "outputs": [],
   "source": [
    "#mt-2\n",
    "def half_upper(strg):\n",
    "  half=len(strg)//2\n",
    "  return strg[:half]+strg[half:].upper()"
   ]
  },
  {
   "cell_type": "code",
   "execution_count": 155,
   "metadata": {},
   "outputs": [
    {
     "data": {
      "text/plain": [
       "'i am bAD BOY'"
      ]
     },
     "execution_count": 155,
     "metadata": {},
     "output_type": "execute_result"
    }
   ],
   "source": [
    "half_upper(test)"
   ]
  },
  {
   "cell_type": "code",
   "execution_count": 156,
   "metadata": {},
   "outputs": [],
   "source": [
    "#13) first letter of each word capital\n",
    "\n",
    "#mt-1\n",
    "\n",
    "def fir_cap(strs):\n",
    "  s=strs.split()\n",
    "  res=[]\n",
    "  for i in s:\n",
    "    x= i[0].upper()+i[1:]\n",
    "    res.append(x)\n",
    "  res=\" \".join(res)\n",
    "  return res"
   ]
  },
  {
   "cell_type": "code",
   "execution_count": 157,
   "metadata": {},
   "outputs": [
    {
     "data": {
      "text/plain": [
       "'Gfg Is Best Gfg Also Has Classes Now. Classes Help Understand Better'"
      ]
     },
     "execution_count": 157,
     "metadata": {},
     "output_type": "execute_result"
    }
   ],
   "source": [
    "ravi= 'Gfg is best Gfg also has Classes now. Classes help understand better'\n",
    "\n",
    "fir_cap(ravi)"
   ]
  },
  {
   "cell_type": "code",
   "execution_count": 158,
   "metadata": {},
   "outputs": [
    {
     "data": {
      "text/plain": [
       "'Gfg Is Best Gfg Also Has Classes Now. Classes Help Understand Better'"
      ]
     },
     "execution_count": 158,
     "metadata": {},
     "output_type": "execute_result"
    }
   ],
   "source": [
    "#mt-2\n",
    "\n",
    "def cap(raju):\n",
    "\n",
    "  re=[]\n",
    "  for i in raju.split():\n",
    "\n",
    "    x=i.capitalize()\n",
    "    re.append(x)\n",
    "  re=\" \".join(re)\n",
    "  return re\n",
    "\n",
    "\n",
    "cap(ravi)"
   ]
  },
  {
   "cell_type": "code",
   "execution_count": 159,
   "metadata": {},
   "outputs": [
    {
     "data": {
      "text/plain": [
       "'Gfg Is Best Gfg Also Has Classes Now. Classes Help Understand Better'"
      ]
     },
     "execution_count": 159,
     "metadata": {},
     "output_type": "execute_result"
    }
   ],
   "source": [
    "#mt-3\n",
    "\n",
    "ravi= 'Gfg is best Gfg also has Classes now. Classes help understand better'\n",
    "ravi.title()"
   ]
  },
  {
   "cell_type": "code",
   "execution_count": 160,
   "metadata": {},
   "outputs": [
    {
     "name": "stdout",
     "output_type": "stream",
     "text": [
      "true\n"
     ]
    }
   ],
   "source": [
    "#14) check if the string has atleast oneletter and one number or not\n",
    "\n",
    "lax= \"welcome2ourcountry34\"\n",
    "\n",
    "def alnum(raju):\n",
    "  if raju.isalnum():\n",
    "    print(\"true\")\n",
    "  else:\n",
    "    print(\"false\")\n",
    "\n",
    "\n",
    "\n",
    "alnum(lax)"
   ]
  },
  {
   "cell_type": "code",
   "execution_count": 161,
   "metadata": {},
   "outputs": [
    {
     "data": {
      "text/plain": [
       "(6, ['D', 'a', 't', 'a', 'e', 'e'])"
      ]
     },
     "execution_count": 161,
     "metadata": {},
     "output_type": "execute_result"
    }
   ],
   "source": [
    "#15) Python | Count the Number of matching characters in a pair of string\n",
    "\n",
    "#mt-1\n",
    "import re\n",
    "\n",
    "def mat(st1,st2):\n",
    "    c = 0\n",
    "    cd=[]\n",
    "    for i in st1:\n",
    "        if re.search(i,st2):\n",
    "            c=c+1\n",
    "            cd.append(i)\n",
    "    return c,cd\n",
    "\n",
    "ip2 = \"DataValley\"\n",
    "ip1 = \"for DataScience\"\n",
    "\n",
    "mat(ip1,ip2)\n",
    "\n"
   ]
  },
  {
   "cell_type": "code",
   "execution_count": 163,
   "metadata": {},
   "outputs": [
    {
     "data": {
      "text/plain": [
       "(3, ['a', 'a', 'n'])"
      ]
     },
     "execution_count": 163,
     "metadata": {},
     "output_type": "execute_result"
    }
   ],
   "source": [
    "#mt-2\n",
    "\n",
    "def lax(st1,st2):\n",
    "  count=0\n",
    "  cd=[]\n",
    "  for i in st1:\n",
    "    if i in st2:\n",
    "      count+=1\n",
    "      cd.append(i)\n",
    "  return count,cd\n",
    "\n",
    "\n",
    "i = \"Laxman\"\n",
    "j = \"DataScientist\"\n",
    "\n",
    "lax(i,j)"
   ]
  },
  {
   "cell_type": "code",
   "execution_count": 164,
   "metadata": {},
   "outputs": [
    {
     "name": "stdout",
     "output_type": "stream",
     "text": [
      "['DataValley', 'for', 'DataScience', 'DataValley']\n"
     ]
    }
   ],
   "source": [
    "\n",
    "#16) how to remove nth occurance of list\n",
    "\n",
    "mylist=['DataValley','for',\"DataValley\",'DataScience','DataValley']\n",
    "\n",
    "word='DataValley'\n",
    "count=0\n",
    "n=2\n",
    "for i in range(0,len(mylist)-1):\n",
    "  if (mylist[i]==word):\n",
    "    count+=1\n",
    "    if count==2:\n",
    "      del mylist[i]\n",
    "print(mylist)"
   ]
  },
  {
   "cell_type": "code",
   "execution_count": 165,
   "metadata": {},
   "outputs": [
    {
     "name": "stdout",
     "output_type": "stream",
     "text": [
      "before swaping  num1is DataValley,num2 is DataScience\n",
      "\n",
      "\n",
      "after swaping  num1 is DataScience,num2 is DataValley\n"
     ]
    }
   ],
   "source": [
    "# 17)swaping\n",
    "\n",
    "num1=\"DataValley\"\n",
    "num2=\"DataScience\"\n",
    "\n",
    "print(f\"before swaping  num1is {num1},num2 is {num2}\")\n",
    "\n",
    "num1,num2=num2,num1\n",
    "print(\"\\n\")\n",
    "print(f\"after swaping  num1 is {num1},num2 is {num2}\")"
   ]
  },
  {
   "cell_type": "code",
   "execution_count": 166,
   "metadata": {},
   "outputs": [
    {
     "name": "stdout",
     "output_type": "stream",
     "text": [
      "123451234512345\n"
     ]
    }
   ],
   "source": [
    "#18) extract digit from a given string\n",
    "\n",
    "mystr = 'Maintaining 12345 & expending 12345 the database of prospects for 12345 the org'\n",
    "digit = ''\n",
    "for i in mystr:\n",
    "    if i.isdigit()==True:\n",
    "        digit = digit + i\n",
    "\n",
    "print(digit)"
   ]
  },
  {
   "cell_type": "code",
   "execution_count": 167,
   "metadata": {},
   "outputs": [
    {
     "data": {
      "text/plain": [
       "['Maintaining',\n",
       " '12345',\n",
       " '&',\n",
       " 'expending',\n",
       " '12345',\n",
       " 'the',\n",
       " 'database',\n",
       " 'of',\n",
       " 'prospects',\n",
       " 'for',\n",
       " '12345',\n",
       " 'the',\n",
       " 'org']"
      ]
     },
     "execution_count": 167,
     "metadata": {},
     "output_type": "execute_result"
    }
   ],
   "source": [
    "#19) convert the string into words\n",
    "\n",
    "mystr = 'Maintaining 12345 & expending 12345 the database of prospects for 12345 the org'\n",
    "\n",
    "mystr.rstrip().split(' ')"
   ]
  },
  {
   "cell_type": "code",
   "execution_count": 169,
   "metadata": {},
   "outputs": [
    {
     "name": "stdout",
     "output_type": "stream",
     "text": [
      "aalmnx\n",
      "\n",
      "xnmlaa\n"
     ]
    }
   ],
   "source": [
    "#20) Sort characters of string in sorted order\n",
    "\n",
    "mystr = input('Enter a string : ')\n",
    "ass_new = ''.join(sorted(mystr))\n",
    "desc_new = ''.join(sorted(mystr ,reverse = True))\n",
    "print(ass_new)\n",
    "print()\n",
    "print(desc_new)\n"
   ]
  },
  {
   "cell_type": "markdown",
   "metadata": {},
   "source": [
    "for the reference \n",
    "\n",
    "https://www.geeksforgeeks.org/python-string/"
   ]
  },
  {
   "cell_type": "markdown",
   "metadata": {},
   "source": []
  },
  {
   "cell_type": "markdown",
   "metadata": {},
   "source": []
  }
 ],
 "metadata": {
  "kernelspec": {
   "display_name": "sabikds",
   "language": "python",
   "name": "python3"
  },
  "language_info": {
   "codemirror_mode": {
    "name": "ipython",
    "version": 3
   },
   "file_extension": ".py",
   "mimetype": "text/x-python",
   "name": "python",
   "nbconvert_exporter": "python",
   "pygments_lexer": "ipython3",
   "version": "3.8.19"
  }
 },
 "nbformat": 4,
 "nbformat_minor": 2
}
